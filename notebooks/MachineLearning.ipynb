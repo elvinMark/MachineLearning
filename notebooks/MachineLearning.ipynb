{
 "cells": [
  {
   "cell_type": "code",
   "execution_count": 1,
   "metadata": {},
   "outputs": [],
   "source": [
    "import numpy as np\n",
    "import matplotlib.pyplot as plt "
   ]
  },
  {
   "cell_type": "markdown",
   "metadata": {},
   "source": [
    "# Linear Regression"
   ]
  },
  {
   "cell_type": "code",
   "execution_count": 2,
   "metadata": {},
   "outputs": [
    {
     "data": {
      "text/plain": [
       "<matplotlib.collections.PathCollection at 0x7f226c7c19d0>"
      ]
     },
     "execution_count": 2,
     "metadata": {},
     "output_type": "execute_result"
    },
    {
     "data": {
      "image/png": "[encoded data removed]",
      "text/plain": [
       "<Figure size 432x288 with 1 Axes>"
      ]
     },
     "metadata": {
      "needs_background": "light"
     },
     "output_type": "display_data"
    }
   ],
   "source": [
    "# Creating data\n",
    "x = np.linspace(0,5,50)\n",
    "y = 3*x + 5 + 5*(np.random.random(x.shape) - 0.5)\n",
    "plt.scatter(x,y)"
   ]
  },
  {
   "cell_type": "code",
   "execution_count": 3,
   "metadata": {},
   "outputs": [],
   "source": [
    "A = np.array([\n",
    "    [x.dot(x), np.sum(x)],\n",
    "    [np.sum(x), len(x)]\n",
    "])\n",
    "b = np.array([\n",
    "    x.dot(y),\n",
    "    np.sum(y)\n",
    "])"
   ]
  },
  {
   "cell_type": "code",
   "execution_count": 4,
   "metadata": {},
   "outputs": [
    {
     "name": "stdout",
     "output_type": "stream",
     "text": [
      "coefficients:  [2.63167198 5.77933562]\n"
     ]
    }
   ],
   "source": [
    "coefs = np.linalg.inv(A).dot(b)\n",
    "print(\"coefficients: \",coefs)"
   ]
  },
  {
   "cell_type": "code",
   "execution_count": 5,
   "metadata": {},
   "outputs": [],
   "source": [
    "# Linear Regression higher dimension\n",
    "x = 5*np.random.random((20,2))\n",
    "y = 4*x[:,0] + 5*x[:,1] + 10 + 3*(np.random.random(len(x)) - 0.5)"
   ]
  },
  {
   "cell_type": "code",
   "execution_count": 6,
   "metadata": {},
   "outputs": [],
   "source": [
    "class LinearRegression:\n",
    "#     def __init__(self):\n",
    "        \n",
    "    def fit(self,x,y):\n",
    "        N,dim = x.shape\n",
    "        x_tmp = np.ones((N,dim+1))\n",
    "        x_tmp[:,:-1] = x # adding one more cols of ones for the independent coeff.\n",
    "        A = np.zeros((dim+1,dim+1))\n",
    "        b = np.zeros((dim+1))\n",
    "        for i in range(dim + 1):\n",
    "            for j in range(i,dim + 1):\n",
    "                A[i][j] = x_tmp[:,i].dot(x_tmp[:,j])\n",
    "                A[j][i] = A[i][j]\n",
    "            b[i] = x_tmp[:,i].dot(y)\n",
    "        Ainv = np.linalg.inv(A)\n",
    "        coeffs = Ainv.dot(b)\n",
    "        self.coeffs = coeffs\n",
    "    \n",
    "    def predict(self,x):\n",
    "        return x.dot(self.coeffs[:-1]) + self.coeffs[-1]"
   ]
  },
  {
   "cell_type": "code",
   "execution_count": 7,
   "metadata": {},
   "outputs": [
    {
     "name": "stdout",
     "output_type": "stream",
     "text": [
      "[ 3.9388527   5.01827613 10.16628479]\n"
     ]
    }
   ],
   "source": [
    "model = LinearRegression()\n",
    "model.fit(x,y)\n",
    "print(model.coeffs)"
   ]
  },
  {
   "cell_type": "code",
   "execution_count": 8,
   "metadata": {},
   "outputs": [
    {
     "name": "stdout",
     "output_type": "stream",
     "text": [
      "[21.48714165 41.25464496 38.14428949 25.75053624 46.35028398 17.84588915\n",
      " 33.61224787 42.5340202  19.28553682 30.195484   47.82857347 41.71274127\n",
      " 28.1729597  43.53681355 31.58229705 41.01625534 22.22420494 46.94821723\n",
      " 46.835628   50.03900781]\n",
      "[21.41906483 41.9427496  38.12161318 25.7792401  47.10599509 17.36280365\n",
      " 32.89904467 41.27877127 19.69543784 29.19449674 47.14387458 41.35729714\n",
      " 27.81097256 43.42503523 32.98096675 40.47744988 23.77709721 45.69697129\n",
      " 47.77279711 51.11509402]\n"
     ]
    }
   ],
   "source": [
    "print(y)\n",
    "print(model.predict(x))"
   ]
  },
  {
   "cell_type": "markdown",
   "metadata": {},
   "source": [
    "# PCA: Principal Component Analysis"
   ]
  },
  {
   "cell_type": "code",
   "execution_count": 10,
   "metadata": {},
   "outputs": [],
   "source": [
    "class PCA:\n",
    "    def __init__(self,n_components):\n",
    "        self.n_components = n_components\n",
    "    def fit(self,x):\n",
    "        N, dim = x.shape\n",
    "        mean = np.sum(x,axis=0) / N\n",
    "        d = (x - mean).reshape((N,dim,1))\n",
    "        dT = d.transpose((0,2,1))\n",
    "        sigma = np.sum(np.matmul(d,dT),axis=0) / N\n",
    "        eigval, eigvec = np.linalg.eig(sigma)\n",
    "        self.eigval = eigval\n",
    "        self.eigvec = eigvec\n",
    "        idxs = np.argsort(eigval)[:-self.n_components-1:-1]\n",
    "        self.basis = eigvec[:,idxs]\n",
    "    def predict(self,x):\n",
    "        return x.dot(self.basis)"
   ]
  },
  {
   "cell_type": "code",
   "execution_count": 11,
   "metadata": {},
   "outputs": [],
   "source": [
    "pca = PCA(2)"
   ]
  },
  {
   "cell_type": "code",
   "execution_count": 12,
   "metadata": {},
   "outputs": [],
   "source": [
    "v1 = np.random.random((1,3))\n",
    "v2 = np.random.random((1,3))\n",
    "u = 10*np.random.random((20,1))\n",
    "v = 10*np.random.random((20,1))\n",
    "noise = np.random.random((20,3)) - 0.5\n",
    "noise[:,:-1] = 0\n",
    "x = u.dot(v1) + v.dot(v2) + 2*noise"
   ]
  },
  {
   "cell_type": "code",
   "execution_count": 13,
   "metadata": {},
   "outputs": [],
   "source": [
    "pca.fit(x)"
   ]
  },
  {
   "cell_type": "code",
   "execution_count": 14,
   "metadata": {},
   "outputs": [],
   "source": [
    "e1 = pca.eigval\n",
    "e2 = pca.eigvec"
   ]
  },
  {
   "cell_type": "code",
   "execution_count": 16,
   "metadata": {},
   "outputs": [
    {
     "name": "stdout",
     "output_type": "stream",
     "text": [
      "[1.86371735e+01 7.88644218e-03 5.33211164e-01] \n",
      " [[ 0.19564008  0.97960883  0.04573296]\n",
      " [ 0.74038826 -0.11696283 -0.66192516]\n",
      " [ 0.64307867 -0.16335924  0.74817349]]\n",
      "[[ 0.19564008  0.04573296]\n",
      " [ 0.74038826 -0.66192516]\n",
      " [ 0.64307867  0.74817349]]\n"
     ]
    }
   ],
   "source": [
    "print(e1,\"\\n\",e2)\n",
    "print(pca.basis)"
   ]
  },
  {
   "cell_type": "code",
   "execution_count": 17,
   "metadata": {},
   "outputs": [
    {
     "name": "stdout",
     "output_type": "stream",
     "text": [
      "[ 0.97960883 -0.11696283 -0.16335924]\n"
     ]
    }
   ],
   "source": [
    "norm2 = np.cross(e2[:,0],e2[:,2])\n",
    "norm2 = norm2 / np.sqrt(norm2.dot(norm2))\n",
    "print(norm2)"
   ]
  },
  {
   "cell_type": "code",
   "execution_count": 18,
   "metadata": {},
   "outputs": [
    {
     "name": "stdout",
     "output_type": "stream",
     "text": [
      "[-0.9704042   0.07126701  0.23073081]\n"
     ]
    }
   ],
   "source": [
    "norm1 = np.cross(v1.reshape(3),v2.reshape(3))\n",
    "norm1 = norm1 / np.sqrt(norm1.dot(norm1))\n",
    "print(norm1)"
   ]
  },
  {
   "cell_type": "markdown",
   "metadata": {},
   "source": [
    "# kNN (k Nearest Neighbours)"
   ]
  },
  {
   "cell_type": "code",
   "execution_count": null,
   "metadata": {},
   "outputs": [],
   "source": []
  }
 ],
 "metadata": {
  "kernelspec": {
   "display_name": "Python 3",
   "language": "python",
   "name": "python3"
  },
  "language_info": {
   "codemirror_mode": {
    "name": "ipython",
    "version": 3
   },
   "file_extension": ".py",
   "mimetype": "text/x-python",
   "name": "python",
   "nbconvert_exporter": "python",
   "pygments_lexer": "ipython3",
   "version": "3.8.5"
  }
 },
 "nbformat": 4,
 "nbformat_minor": 4
}
