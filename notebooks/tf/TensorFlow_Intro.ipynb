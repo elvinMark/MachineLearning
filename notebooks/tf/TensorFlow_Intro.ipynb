{
  "nbformat": 4,
  "nbformat_minor": 0,
  "metadata": {
    "colab": {
      "name": "TensorFlow_Intro.ipynb",
      "provenance": [],
      "collapsed_sections": []
    },
    "kernelspec": {
      "name": "python3",
      "display_name": "Python 3"
    },
    "language_info": {
      "name": "python"
    },
    "accelerator": "GPU"
  },
  "cells": [
    {
      "cell_type": "code",
      "metadata": {
        "id": "aRkN_JvwD_rv"
      },
      "source": [
        "import tensorflow as tf\n",
        "import numpy as np \n",
        "import matplotlib.pyplot as plt\n",
        "from sklearn.metrics import confusion_matrix, accuracy_score"
      ],
      "execution_count": 1,
      "outputs": []
    },
    {
      "cell_type": "code",
      "metadata": {
        "id": "xqPg5eFxzDpk"
      },
      "source": [
        "from google.colab import drive\n",
        "drive.mount(\"content/\")\n",
        "%cd content/MyDrive/MachineLearning/models/"
      ],
      "execution_count": null,
      "outputs": []
    },
    {
      "cell_type": "markdown",
      "metadata": {
        "id": "yVWkH1UQMpot"
      },
      "source": [
        "MultiLayer Perceptron with TensorFlow"
      ]
    },
    {
      "cell_type": "code",
      "metadata": {
        "id": "qU4wn1yPLhHi",
        "colab": {
          "base_uri": "https://localhost:8080/"
        },
        "outputId": "85eaebfd-41fc-4bc1-e836-271cc0a7b6d6"
      },
      "source": [
        "# Loading the mnist dataset\n",
        "(x_train,y_train),(x_test,y_test) = tf.keras.datasets.mnist.load_data()\n",
        "\n",
        "# Normalizin the data\n",
        "x_train = x_train/255.0\n",
        "x_test = x_test/255.0"
      ],
      "execution_count": 2,
      "outputs": [
        {
          "output_type": "stream",
          "text": [
            "Downloading data from https://storage.googleapis.com/tensorflow/tf-keras-datasets/mnist.npz\n",
            "11493376/11490434 [==============================] - 0s 0us/step\n"
          ],
          "name": "stdout"
        }
      ]
    },
    {
      "cell_type": "code",
      "metadata": {
        "id": "SW1vgrsNEg4U"
      },
      "source": [
        "# Creating a simple MLP model\n",
        "\n",
        "model = tf.keras.models.Sequential([\n",
        "                                    tf.keras.layers.Dense(128,activation='relu'),\n",
        "                                    tf.keras.layers.Dense(10,activation='softmax')\n",
        "])\n",
        "\n",
        "# Compiling model\n",
        "model.compile(optimizer=tf.keras.optimizers.Adam(learning_rate=0.01),\n",
        "              loss=tf.keras.losses.SparseCategoricalCrossentropy(),\n",
        "              metrics=['accuracy'])"
      ],
      "execution_count": null,
      "outputs": []
    },
    {
      "cell_type": "code",
      "metadata": {
        "colab": {
          "base_uri": "https://localhost:8080/"
        },
        "id": "-WasUPo0L9Z8",
        "outputId": "2c62588d-f225-4435-bc8b-2219ee3a654a"
      },
      "source": [
        "# Training the model\n",
        "model.fit(x_train.reshape((-1,28*28)),y_train,epochs=5)"
      ],
      "execution_count": null,
      "outputs": [
        {
          "output_type": "stream",
          "text": [
            "Epoch 1/5\n",
            "1875/1875 [==============================] - 4s 2ms/step - loss: 0.1154 - accuracy: 0.9703\n",
            "Epoch 2/5\n",
            "1875/1875 [==============================] - 4s 2ms/step - loss: 0.1101 - accuracy: 0.9717\n",
            "Epoch 3/5\n",
            "1875/1875 [==============================] - 4s 2ms/step - loss: 0.1079 - accuracy: 0.9732\n",
            "Epoch 4/5\n",
            "1875/1875 [==============================] - 4s 2ms/step - loss: 0.1020 - accuracy: 0.9751\n",
            "Epoch 5/5\n",
            "1875/1875 [==============================] - 4s 2ms/step - loss: 0.1012 - accuracy: 0.9761\n"
          ],
          "name": "stdout"
        },
        {
          "output_type": "execute_result",
          "data": {
            "text/plain": [
              "<tensorflow.python.keras.callbacks.History at 0x7fe4dcb87750>"
            ]
          },
          "metadata": {
            "tags": []
          },
          "execution_count": 16
        }
      ]
    },
    {
      "cell_type": "code",
      "metadata": {
        "id": "8BDsGJ8EEmOT",
        "colab": {
          "base_uri": "https://localhost:8080/"
        },
        "outputId": "6b6c5ce0-6faf-486d-d30f-1bd92322cdc8"
      },
      "source": [
        "# Evaluation the model\n",
        "model.evaluate(x_test.reshape((-1,28*28)),y_test)"
      ],
      "execution_count": null,
      "outputs": [
        {
          "output_type": "stream",
          "text": [
            "313/313 [==============================] - 0s 1ms/step - loss: 0.2387 - accuracy: 0.9608\n"
          ],
          "name": "stdout"
        },
        {
          "output_type": "execute_result",
          "data": {
            "text/plain": [
              "[0.23868422210216522, 0.9607999920845032]"
            ]
          },
          "metadata": {
            "tags": []
          },
          "execution_count": 17
        }
      ]
    },
    {
      "cell_type": "code",
      "metadata": {
        "id": "jp8KaTSKNrtp"
      },
      "source": [
        "model.save_weights(\"mlp_mnist_tf.ckpt\")"
      ],
      "execution_count": null,
      "outputs": []
    },
    {
      "cell_type": "code",
      "metadata": {
        "colab": {
          "base_uri": "https://localhost:8080/"
        },
        "id": "UKzij-VnQtBr",
        "outputId": "73da4234-13ab-4eef-8a3d-1299d5b6e306"
      },
      "source": [
        "# Checking the number of parameters of the model and some other details\n",
        "model.summary()"
      ],
      "execution_count": null,
      "outputs": [
        {
          "output_type": "stream",
          "text": [
            "Model: \"sequential_5\"\n",
            "_________________________________________________________________\n",
            "Layer (type)                 Output Shape              Param #   \n",
            "=================================================================\n",
            "dense_11 (Dense)             (None, 128)               100480    \n",
            "_________________________________________________________________\n",
            "dense_12 (Dense)             (None, 10)                1290      \n",
            "=================================================================\n",
            "Total params: 101,770\n",
            "Trainable params: 101,770\n",
            "Non-trainable params: 0\n",
            "_________________________________________________________________\n"
          ],
          "name": "stdout"
        }
      ]
    },
    {
      "cell_type": "markdown",
      "metadata": {
        "id": "hBXzV-nCNz8j"
      },
      "source": [
        "Convolutional Neural Network with TensorFlow"
      ]
    },
    {
      "cell_type": "code",
      "metadata": {
        "id": "BJBsV16FNny-"
      },
      "source": [
        "# Creating the model\n",
        "model = tf.keras.models.Sequential([\n",
        "                                    tf.keras.layers.Conv2D(8,3,use_bias=False),\n",
        "                                    tf.keras.layers.BatchNormalization(axis=3),\n",
        "                                    tf.keras.layers.ReLU(),\n",
        "                                    tf.keras.layers.MaxPool2D(),\n",
        "                                    tf.keras.layers.Conv2D(16,3,use_bias=False),\n",
        "                                    tf.keras.layers.BatchNormalization(axis=3),\n",
        "                                    tf.keras.layers.ReLU(),\n",
        "                                    tf.keras.layers.MaxPool2D(),\n",
        "                                    tf.keras.layers.Flatten(),\n",
        "                                    tf.keras.layers.Dense(64,activation='relu'),\n",
        "                                    tf.keras.layers.Dense(10,activation='softmax')\n",
        "])\n",
        "\n",
        "# Compile the model\n",
        "model.compile(optimizer=tf.keras.optimizers.Adam(learning_rate=0.01),\n",
        "              loss=tf.keras.losses.SparseCategoricalCrossentropy(),\n",
        "              metrics=['accuracy'])"
      ],
      "execution_count": null,
      "outputs": []
    },
    {
      "cell_type": "code",
      "metadata": {
        "colab": {
          "base_uri": "https://localhost:8080/"
        },
        "id": "VDVvVoQxEvTD",
        "outputId": "bbefb720-0216-46c2-feec-77271c77cfd3"
      },
      "source": [
        "# Training the model\n",
        "model.fit(x_train.reshape((-1,28,28,1)),y_train,epochs=5)"
      ],
      "execution_count": null,
      "outputs": [
        {
          "output_type": "stream",
          "text": [
            "Epoch 1/5\n",
            "1875/1875 [==============================] - 33s 17ms/step - loss: 0.1373 - accuracy: 0.9586\n",
            "Epoch 2/5\n",
            "1875/1875 [==============================] - 32s 17ms/step - loss: 0.0681 - accuracy: 0.9793\n",
            "Epoch 3/5\n",
            "1875/1875 [==============================] - 32s 17ms/step - loss: 0.0618 - accuracy: 0.9814\n",
            "Epoch 4/5\n",
            "1875/1875 [==============================] - 33s 18ms/step - loss: 0.0556 - accuracy: 0.9834\n",
            "Epoch 5/5\n",
            "1875/1875 [==============================] - 33s 18ms/step - loss: 0.0495 - accuracy: 0.9844\n"
          ],
          "name": "stdout"
        },
        {
          "output_type": "execute_result",
          "data": {
            "text/plain": [
              "<tensorflow.python.keras.callbacks.History at 0x7fe4e69a4090>"
            ]
          },
          "metadata": {
            "tags": []
          },
          "execution_count": 38
        }
      ]
    },
    {
      "cell_type": "code",
      "metadata": {
        "colab": {
          "base_uri": "https://localhost:8080/"
        },
        "id": "lm3iV0T-Nh5J",
        "outputId": "85909196-f320-432a-87b8-cfd218cf5250"
      },
      "source": [
        "# Evaluating the model \n",
        "model.evaluate(x_test.reshape((-1,28,28,1)),y_test)"
      ],
      "execution_count": null,
      "outputs": [
        {
          "output_type": "stream",
          "text": [
            "313/313 [==============================] - 2s 6ms/step - loss: 0.0480 - accuracy: 0.9862\n"
          ],
          "name": "stdout"
        },
        {
          "output_type": "execute_result",
          "data": {
            "text/plain": [
              "[0.047969672828912735, 0.9861999750137329]"
            ]
          },
          "metadata": {
            "tags": []
          },
          "execution_count": 39
        }
      ]
    },
    {
      "cell_type": "code",
      "metadata": {
        "id": "En9vbJOoQGpD"
      },
      "source": [
        "# Saving Model\n",
        "model.save_weights(\"cnn_mnist_tf.ckpt\")"
      ],
      "execution_count": null,
      "outputs": []
    },
    {
      "cell_type": "code",
      "metadata": {
        "colab": {
          "base_uri": "https://localhost:8080/"
        },
        "id": "d5r4MBhCQVIA",
        "outputId": "d2aa4eb8-47a2-4e2c-de8d-8927cc9367f6"
      },
      "source": [
        "# Checking the dimension of the weights used in the Convolutional Layer\n",
        "param = model.get_weights()[0]\n",
        "param.shape"
      ],
      "execution_count": null,
      "outputs": [
        {
          "output_type": "execute_result",
          "data": {
            "text/plain": [
              "(3, 3, 1, 8)"
            ]
          },
          "metadata": {
            "tags": []
          },
          "execution_count": 41
        }
      ]
    },
    {
      "cell_type": "code",
      "metadata": {
        "colab": {
          "base_uri": "https://localhost:8080/",
          "height": 226
        },
        "id": "GO7OJ7SkPi6C",
        "outputId": "9fd9952b-255f-4d2c-84a1-996bd8641615"
      },
      "source": [
        "# Visualizing the parameters of the first convolutional layer\n",
        "param = model.get_weights()[0]\n",
        "fig, axs = plt.subplots(nrows=2,ncols=4)\n",
        "for idx in range(8):\n",
        "  axs[idx//4,idx%4].imshow(param[:,:,0,idx],cmap='gray')\n",
        "  axs[idx//4,idx%4].axes.xaxis.set_visible(False)\n",
        "  axs[idx//4,idx%4].axes.yaxis.set_visible(False)"
      ],
      "execution_count": null,
      "outputs": [
        {
          "output_type": "display_data",
          "data": {
            "image/png": "[encoded data removed]",
            "text/plain": [
              "<Figure size 432x288 with 8 Axes>"
            ]
          },
          "metadata": {
            "tags": [],
            "needs_background": "light"
          }
        }
      ]
    },
    {
      "cell_type": "code",
      "metadata": {
        "colab": {
          "base_uri": "https://localhost:8080/"
        },
        "id": "SALKmKdOQevI",
        "outputId": "d64bc9b4-091d-462c-a007-a1ff225b3ab7"
      },
      "source": [
        "# Checking the number of parameters in the model and some other details\n",
        "model.summary()"
      ],
      "execution_count": null,
      "outputs": [
        {
          "output_type": "stream",
          "text": [
            "Model: \"sequential_6\"\n",
            "_________________________________________________________________\n",
            "Layer (type)                 Output Shape              Param #   \n",
            "=================================================================\n",
            "conv2d_2 (Conv2D)            (None, 26, 26, 8)         72        \n",
            "_________________________________________________________________\n",
            "batch_normalization_2 (Batch (None, 26, 26, 8)         32        \n",
            "_________________________________________________________________\n",
            "re_lu_2 (ReLU)               (None, 26, 26, 8)         0         \n",
            "_________________________________________________________________\n",
            "max_pooling2d (MaxPooling2D) (None, 13, 13, 8)         0         \n",
            "_________________________________________________________________\n",
            "conv2d_3 (Conv2D)            (None, 11, 11, 16)        1152      \n",
            "_________________________________________________________________\n",
            "batch_normalization_3 (Batch (None, 11, 11, 16)        64        \n",
            "_________________________________________________________________\n",
            "re_lu_3 (ReLU)               (None, 11, 11, 16)        0         \n",
            "_________________________________________________________________\n",
            "max_pooling2d_1 (MaxPooling2 (None, 5, 5, 16)          0         \n",
            "_________________________________________________________________\n",
            "flatten_1 (Flatten)          (None, 400)               0         \n",
            "_________________________________________________________________\n",
            "dense_13 (Dense)             (None, 64)                25664     \n",
            "_________________________________________________________________\n",
            "dense_14 (Dense)             (None, 10)                650       \n",
            "=================================================================\n",
            "Total params: 27,634\n",
            "Trainable params: 27,586\n",
            "Non-trainable params: 48\n",
            "_________________________________________________________________\n"
          ],
          "name": "stdout"
        }
      ]
    },
    {
      "cell_type": "markdown",
      "metadata": {
        "id": "asgNkirjSY2X"
      },
      "source": [
        "Creating a model"
      ]
    },
    {
      "cell_type": "code",
      "metadata": {
        "id": "80Pt9eHRSYia"
      },
      "source": [
        "# Defining my Model\n",
        "class MyMLP(tf.keras.Model):\n",
        "  def __init__(self):\n",
        "    super().__init__()\n",
        "    self.fc1 = tf.keras.layers.Dense(128,activation='relu')\n",
        "    self.fc2 = tf.keras.layers.Dense(10,activation='softmax')\n",
        "  def call(self,x):\n",
        "    o = self.fc1(x)\n",
        "    o = self.fc2(o)\n",
        "    return o"
      ],
      "execution_count": null,
      "outputs": []
    },
    {
      "cell_type": "code",
      "metadata": {
        "id": "XJ8Hjn1dR9pv"
      },
      "source": [
        "# Creating my Model\n",
        "model = MyMLP()"
      ],
      "execution_count": null,
      "outputs": []
    },
    {
      "cell_type": "code",
      "metadata": {
        "id": "g0V7VVDGTCiT"
      },
      "source": [
        "# Creating the dataset\n",
        "train_ds = tf.data.Dataset.from_tensor_slices((x_train.reshape((-1,28*28)),y_train))\n",
        "train_ds = train_ds.batch(128)"
      ],
      "execution_count": null,
      "outputs": []
    },
    {
      "cell_type": "code",
      "metadata": {
        "colab": {
          "base_uri": "https://localhost:8080/"
        },
        "id": "rz3AoqqzS9c1",
        "outputId": "2b84305c-36e4-4cb6-9fa3-4191239828f9"
      },
      "source": [
        "# Training\n",
        "\n",
        "# Defining the optimizer (how are we going to update the parameters based on the loss gradients)\n",
        "optim = tf.keras.optimizers.Adam(learning_rate=0.01)\n",
        "# Defining the loss function (what kind of measure are we going to use to calculate the error of our network)\n",
        "loss = tf.keras.losses.SparseCategoricalCrossentropy()\n",
        "\n",
        "# Training for 5 epochs\n",
        "for epoch in range(5):\n",
        "  tot_loss = 0\n",
        "  # Sweeping along the batches\n",
        "  for k,(x,y) in enumerate(train_ds):\n",
        "    # Use the GradientTape to record the operations so TF can calculate the gradient later\n",
        "    with tf.GradientTape() as tape:\n",
        "      o = model(x,training=True)\n",
        "      l = loss(y,o)\n",
        "    # Calculate the gradient with the information of the tape\n",
        "    grad = tape.gradient(l,model.trainable_variables)\n",
        "    # Using the optimizer and the obtained gradients, update the parameters\n",
        "    optim.apply_gradients(zip(grad,model.trainable_variables))\n",
        "    tot_loss += l\n",
        "    if k%1000 == 0:\n",
        "      print(\"epoch: %s, loss: %f\"%(epoch,tot_loss))"
      ],
      "execution_count": null,
      "outputs": [
        {
          "output_type": "stream",
          "text": [
            "epoch: 0, loss: 2.434424\n",
            "epoch: 1, loss: 0.088910\n",
            "epoch: 2, loss: 0.126654\n",
            "epoch: 3, loss: 0.213259\n",
            "epoch: 4, loss: 0.071184\n"
          ],
          "name": "stdout"
        }
      ]
    },
    {
      "cell_type": "code",
      "metadata": {
        "id": "m5BCmSiOY-_t"
      },
      "source": [
        "# Calculate the predicted labels for the test dataset\n",
        "pred = np.argmax(model(x_test.reshape((-1,784))),axis=1)"
      ],
      "execution_count": null,
      "outputs": []
    },
    {
      "cell_type": "code",
      "metadata": {
        "colab": {
          "base_uri": "https://localhost:8080/"
        },
        "id": "R76TwUh6ZPfH",
        "outputId": "5f0f684d-6eb8-4580-fd5c-8aca25d10cd1"
      },
      "source": [
        "# Calculate confusion matrix and accuracy\n",
        "print(confusion_matrix(y_test,pred))\n",
        "print(accuracy_score(y_test,pred))"
      ],
      "execution_count": null,
      "outputs": [
        {
          "output_type": "stream",
          "text": [
            "[[ 971    0    0    0    0    1    1    2    3    2]\n",
            " [   0 1117    1    4    5    0    1    0    4    3]\n",
            " [   7    0  993   15    4    0    3    2    7    1]\n",
            " [   3    0    5  986    0    5    0    2    2    7]\n",
            " [   8    0    3    0  942    0    7    1    1   20]\n",
            " [   2    0    0   22    1  853    2    1    3    8]\n",
            " [  12    3    1    0    6   25  907    0    4    0]\n",
            " [   3    3   19    5    9    0    0  972    4   13]\n",
            " [   2    0    4   30    5   19    1    1  901   11]\n",
            " [   2    2    0    9    5    1    0    2    2  986]]\n",
            "0.9628\n"
          ],
          "name": "stdout"
        }
      ]
    },
    {
      "cell_type": "code",
      "metadata": {
        "id": "SUGQ2hhKaO-i"
      },
      "source": [
        "# Saving the model\n",
        "model.save_weights(\"mymlp_model_mnist_tf.ckpt\")"
      ],
      "execution_count": null,
      "outputs": []
    },
    {
      "cell_type": "markdown",
      "metadata": {
        "id": "imO85OBDuuOE"
      },
      "source": [
        "Creating a Generative Adversarial Network"
      ]
    },
    {
      "cell_type": "code",
      "metadata": {
        "id": "xuMEx9IqeafT"
      },
      "source": [
        "# Creating the generator model \n",
        "model_generator = tf.keras.models.Sequential([\n",
        "                                    tf.keras.layers.Dense(7*7*256,use_bias=False,input_shape=(100,)),\n",
        "                                    tf.keras.layers.BatchNormalization(),\n",
        "                                    tf.keras.layers.LeakyReLU(),\n",
        "                                    tf.keras.layers.Reshape((7,7,256)),\n",
        "                                    tf.keras.layers.Conv2DTranspose(128,(5,5),padding='same',use_bias=False),\n",
        "                                    tf.keras.layers.BatchNormalization(),\n",
        "                                    tf.keras.layers.LeakyReLU(),\n",
        "                                    tf.keras.layers.Conv2DTranspose(64,(5,5),strides=(2,2),padding='same',use_bias=False),\n",
        "                                    tf.keras.layers.BatchNormalization(),\n",
        "                                    tf.keras.layers.LeakyReLU(),\n",
        "                                    tf.keras.layers.Conv2DTranspose(1,(5,5),strides=(2,2),padding='same',use_bias=False,activation='tanh')\n",
        "])"
      ],
      "execution_count": 79,
      "outputs": []
    },
    {
      "cell_type": "code",
      "metadata": {
        "id": "MINOeWJtaVRg",
        "colab": {
          "base_uri": "https://localhost:8080/",
          "height": 282
        },
        "outputId": "26bbef2e-fa29-46f2-8de0-104d0084d04d"
      },
      "source": [
        "# Testing the generator model\n",
        "noise = tf.random.normal([1,100])\n",
        "img = model_generator(noise,training=False)\n",
        "plt.imshow(img[0,:,:,0],cmap='gray')"
      ],
      "execution_count": 80,
      "outputs": [
        {
          "output_type": "execute_result",
          "data": {
            "text/plain": [
              "<matplotlib.image.AxesImage at 0x7f77947a1e90>"
            ]
          },
          "metadata": {
            "tags": []
          },
          "execution_count": 80
        },
        {
          "output_type": "display_data",
          "data": {
            "image/png": "[encoded data removed]",
            "text/plain": [
              "<Figure size 432x288 with 1 Axes>"
            ]
          },
          "metadata": {
            "tags": [],
            "needs_background": "light"
          }
        }
      ]
    },
    {
      "cell_type": "code",
      "metadata": {
        "id": "-U9enXxMhMnu"
      },
      "source": [
        "# Creating the discriminator model\n",
        "model_discriminator = tf.keras.models.Sequential([\n",
        "                                                    tf.keras.layers.Conv2D(64,(5,5),strides=(2,2),padding='same',input_shape=(28,28,1)),\n",
        "                                                    tf.keras.layers.LeakyReLU(),\n",
        "                                                    tf.keras.layers.Dropout(0.3),\n",
        "                                                    tf.keras.layers.Conv2D(128,(5,5),strides=(2,2),padding='same'),\n",
        "                                                    tf.keras.layers.LeakyReLU(),\n",
        "                                                    tf.keras.layers.Dropout(0.3),\n",
        "                                                    tf.keras.layers.Flatten(),\n",
        "                                                    tf.keras.layers.Dense(1)\n",
        "  ])"
      ],
      "execution_count": 81,
      "outputs": []
    },
    {
      "cell_type": "code",
      "metadata": {
        "id": "qQ702ggnhspe"
      },
      "source": [
        "# Defining the cross entropy loss\n",
        "binary_cross_entropy = tf.keras.losses.BinaryCrossentropy(from_logits=True)"
      ],
      "execution_count": 82,
      "outputs": []
    },
    {
      "cell_type": "code",
      "metadata": {
        "id": "r3wyCCLih5xN"
      },
      "source": [
        "# Defining the discriminator loss\n",
        "def discriminator_loss(real_img,fake_img):\n",
        "  real_loss = binary_cross_entropy(tf.ones_like(real_img),real_img)\n",
        "  fake_loss = binary_cross_entropy(tf.zeros_like(fake_img),fake_img)\n",
        "  return real_loss + fake_loss"
      ],
      "execution_count": 83,
      "outputs": []
    },
    {
      "cell_type": "code",
      "metadata": {
        "id": "sUNBzoBbianJ"
      },
      "source": [
        "# Defining the generator loss\n",
        "def generator_loss(fake_img):\n",
        "  return binary_cross_entropy(tf.ones_like(fake_img),fake_img)"
      ],
      "execution_count": 84,
      "outputs": []
    },
    {
      "cell_type": "code",
      "metadata": {
        "id": "DP4oMotJikTZ"
      },
      "source": [
        "# Defining the optimizer for the generator and discriminator model\n",
        "generator_optimizer = tf.keras.optimizers.Adam(learning_rate=0.0001)\n",
        "discriminator_optimizer = tf.keras.optimizers.Adam(learning_rate=0.0001)"
      ],
      "execution_count": 85,
      "outputs": []
    },
    {
      "cell_type": "code",
      "metadata": {
        "id": "nmxMvs3EjKBO"
      },
      "source": [
        "# Creating the dataset\n",
        "train_ds = tf.data.Dataset.from_tensor_slices((x_train.reshape((-1,28,28,1)),y_train))\n",
        "train_ds = train_ds.batch(256)"
      ],
      "execution_count": 87,
      "outputs": []
    },
    {
      "cell_type": "code",
      "metadata": {
        "id": "JTWgW1sTi2SE"
      },
      "source": [
        "# Function for training the model one step\n",
        "@tf.function\n",
        "def train_step(images):\n",
        "  noise = tf.random.normal([128,100])\n",
        "  with tf.GradientTape() as gen_tape, tf.GradientTape() as disc_tape:\n",
        "    gen_img = model_generator(noise,training=True)\n",
        "\n",
        "    real_img = model_discriminator(images,training=True)\n",
        "    fake_img = model_discriminator(gen_img,training=True)\n",
        "\n",
        "    gen_loss = generator_loss(fake_img)\n",
        "    disc_loss = discriminator_loss(real_img,fake_img)\n",
        "  \n",
        "  grad_gen = gen_tape.gradient(gen_loss,model_generator.trainable_variables)\n",
        "  grad_disc = disc_tape.gradient(disc_loss,model_discriminator.trainable_variables)\n",
        "\n",
        "  generator_optimizer.apply_gradients(zip(grad_gen,model_generator.trainable_variables))\n",
        "  discriminator_optimizer.apply_gradients(zip(grad_disc,model_discriminator.trainable_variables))"
      ],
      "execution_count": 88,
      "outputs": []
    },
    {
      "cell_type": "code",
      "metadata": {
        "id": "9RbiJzODkqaM"
      },
      "source": [
        "# Function for training the model\n",
        "def train(ds,epochs):\n",
        "  for epoch in range(epochs):\n",
        "    print(epoch)\n",
        "    for x,_ in ds:\n",
        "      train_step(x)"
      ],
      "execution_count": 89,
      "outputs": []
    },
    {
      "cell_type": "code",
      "metadata": {
        "colab": {
          "base_uri": "https://localhost:8080/"
        },
        "id": "mMTxjRock71I",
        "outputId": "63098351-a660-41df-8e8c-b2500ebd0a43"
      },
      "source": [
        "# Training the model\n",
        "train(train_ds,50)"
      ],
      "execution_count": 90,
      "outputs": [
        {
          "output_type": "stream",
          "text": [
            "0\n",
            "1\n",
            "2\n",
            "3\n",
            "4\n",
            "5\n",
            "6\n",
            "7\n",
            "8\n",
            "9\n",
            "10\n",
            "11\n",
            "12\n",
            "13\n",
            "14\n",
            "15\n",
            "16\n",
            "17\n",
            "18\n",
            "19\n",
            "20\n",
            "21\n",
            "22\n",
            "23\n",
            "24\n",
            "25\n",
            "26\n",
            "27\n",
            "28\n",
            "29\n",
            "30\n",
            "31\n",
            "32\n",
            "33\n",
            "34\n",
            "35\n",
            "36\n",
            "37\n",
            "38\n",
            "39\n",
            "40\n",
            "41\n",
            "42\n",
            "43\n",
            "44\n",
            "45\n",
            "46\n",
            "47\n",
            "48\n",
            "49\n"
          ],
          "name": "stdout"
        }
      ]
    },
    {
      "cell_type": "code",
      "metadata": {
        "colab": {
          "base_uri": "https://localhost:8080/",
          "height": 282
        },
        "id": "92yvUi0yk_SU",
        "outputId": "40dcc848-8bc0-49ee-d059-90430a72540f"
      },
      "source": [
        "# Testing the trained model (generating some numbers)\n",
        "noise = tf.random.normal([1,100]) \n",
        "img = model_generator(noise,training=False)\n",
        "plt.imshow(img[0,:,:,0]*127.5 + 127.5,cmap='gray')"
      ],
      "execution_count": 116,
      "outputs": [
        {
          "output_type": "execute_result",
          "data": {
            "text/plain": [
              "<matplotlib.image.AxesImage at 0x7f7793d18350>"
            ]
          },
          "metadata": {
            "tags": []
          },
          "execution_count": 116
        },
        {
          "output_type": "display_data",
          "data": {
            "image/png": "[encoded data removed]",
            "text/plain": [
              "<Figure size 432x288 with 1 Axes>"
            ]
          },
          "metadata": {
            "tags": [],
            "needs_background": "light"
          }
        }
      ]
    },
    {
      "cell_type": "code",
      "metadata": {
        "id": "wu9-ydJ4sNQe"
      },
      "source": [
        "# Saving the discriminator and generator model\n",
        "model_discriminator.save_weights(\"model_gan_disc.ckpt\")\n",
        "model_generator.save_weights(\"model_gan_gen.ckpt\")"
      ],
      "execution_count": 117,
      "outputs": []
    }
  ]
}