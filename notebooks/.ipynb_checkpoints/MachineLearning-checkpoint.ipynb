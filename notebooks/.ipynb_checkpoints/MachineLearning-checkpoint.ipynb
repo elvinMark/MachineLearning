{
 "cells": [
  {
   "cell_type": "code",
   "execution_count": 1,
   "metadata": {},
   "outputs": [],
   "source": [
    "import numpy as np\n",
    "import matplotlib.pyplot as plt "
   ]
  },
  {
   "cell_type": "markdown",
   "metadata": {},
   "source": [
    "# Linear Regression"
   ]
  },
  {
   "cell_type": "code",
   "execution_count": 6,
   "metadata": {},
   "outputs": [
    {
     "data": {
      "text/plain": [
       "<matplotlib.collections.PathCollection at 0x7f3779694fa0>"
      ]
     },
     "execution_count": 6,
     "metadata": {},
     "output_type": "execute_result"
    },
    {
     "data": {
      "image/png": "[encoded data removed]",
      "text/plain": [
       "<Figure size 432x288 with 1 Axes>"
      ]
     },
     "metadata": {
      "needs_background": "light"
     },
     "output_type": "display_data"
    }
   ],
   "source": [
    "# Creating data\n",
    "x = np.linspace(0,5,50)\n",
    "y = 3*x + 5 + 5*(np.random.random(x.shape) - 0.5)\n",
    "plt.scatter(x,y)"
   ]
  },
  {
   "cell_type": "code",
   "execution_count": 7,
   "metadata": {},
   "outputs": [],
   "source": [
    "A = np.array([\n",
    "    [x.dot(x), np.sum(x)],\n",
    "    [np.sum(x), len(x)]\n",
    "])\n",
    "b = np.array([\n",
    "    x.dot(y),\n",
    "    np.sum(y)\n",
    "])"
   ]
  },
  {
   "cell_type": "code",
   "execution_count": 10,
   "metadata": {},
   "outputs": [
    {
     "name": "stdout",
     "output_type": "stream",
     "text": [
      "coefficients:  [3.09682347 4.88584622]\n"
     ]
    }
   ],
   "source": [
    "coefs = np.linalg.inv(A).dot(b)\n",
    "print(\"coefficients: \",coefs)"
   ]
  },
  {
   "cell_type": "code",
   "execution_count": 203,
   "metadata": {},
   "outputs": [],
   "source": [
    "# Linear Regression higher dimension\n",
    "x = 5*np.random.random((20,2))\n",
    "y = 4*x[:,0] + 5*x[:,1] + 10 + 3*(np.random.random(len(x)) - 0.5)"
   ]
  },
  {
   "cell_type": "code",
   "execution_count": 204,
   "metadata": {},
   "outputs": [],
   "source": [
    "class LinearRegression:\n",
    "#     def __init__(self):\n",
    "        \n",
    "    def fit(self,x,y):\n",
    "        N,dim = x.shape\n",
    "        x_tmp = np.ones((N,dim+1))\n",
    "        x_tmp[:,:-1] = x # adding one more cols of ones for the independent coeff.\n",
    "        A = np.zeros((dim+1,dim+1))\n",
    "        b = np.zeros((dim+1))\n",
    "        for i in range(dim + 1):\n",
    "            for j in range(i,dim + 1):\n",
    "                A[i][j] = x_tmp[:,i].dot(x_tmp[:,j])\n",
    "                A[j][i] = A[i][j]\n",
    "            b[i] = x_tmp[:,i].dot(y)\n",
    "        Ainv = np.linalg.inv(A)\n",
    "        coeffs = Ainv.dot(b)\n",
    "        self.coeffs = coeffs\n",
    "    \n",
    "    def predict(self,x):\n",
    "        return x.dot(self.coeffs[:-1]) + self.coeffs[-1]"
   ]
  },
  {
   "cell_type": "code",
   "execution_count": 205,
   "metadata": {},
   "outputs": [
    {
     "name": "stdout",
     "output_type": "stream",
     "text": [
      "[4.18776099 5.02432733 9.68224223]\n"
     ]
    }
   ],
   "source": [
    "model = LinearRegression()\n",
    "model.fit(x,y)\n",
    "print(model.coeffs)"
   ]
  },
  {
   "cell_type": "markdown",
   "metadata": {},
   "source": [
    "# PCA: Principal Component Analysis"
   ]
  },
  {
   "cell_type": "code",
   "execution_count": 144,
   "metadata": {},
   "outputs": [],
   "source": [
    "class PCA:\n",
    "    def __init__(self,n_components):\n",
    "        self.n_components = n_components\n",
    "    def fit(self,x):\n",
    "        N, dim = x.shape\n",
    "        mean = np.sum(x,axis=0) / N\n",
    "        d = (x - mean).reshape((N,dim,1))\n",
    "        dT = d.transpose((0,2,1))\n",
    "        sigma = np.sum(np.matmul(d,dT),axis=0) / N\n",
    "        eigval, eigvec = np.linalg.eig(sigma)\n",
    "        self.eigval = eigval\n",
    "        self.eigvec = eigvec\n",
    "        idxs = np.argsort(eigval)[:-self.n_components-1:-1]\n",
    "        self.basis = eigvec[:,idxs]\n",
    "    def predict(self,x):\n",
    "        return x.dot(self.basis)"
   ]
  },
  {
   "cell_type": "code",
   "execution_count": 176,
   "metadata": {},
   "outputs": [],
   "source": [
    "pca = PCA(2)"
   ]
  },
  {
   "cell_type": "code",
   "execution_count": 190,
   "metadata": {},
   "outputs": [],
   "source": [
    "v1 = np.random.random((1,3))\n",
    "v2 = np.random.random((1,3))\n",
    "u = 10*np.random.random((20,1))\n",
    "v = 10*np.random.random((20,1))\n",
    "noise = np.random.random((20,3)) - 0.5\n",
    "noise[:,:-1] = 0\n",
    "x = u.dot(v1) + v.dot(v2) + 2*noise"
   ]
  },
  {
   "cell_type": "code",
   "execution_count": 191,
   "metadata": {},
   "outputs": [],
   "source": [
    "pca.fit(x)"
   ]
  },
  {
   "cell_type": "code",
   "execution_count": 192,
   "metadata": {},
   "outputs": [],
   "source": [
    "e1 = pca.eigval\n",
    "e2 = pca.eigvec"
   ]
  },
  {
   "cell_type": "code",
   "execution_count": 193,
   "metadata": {},
   "outputs": [
    {
     "name": "stdout",
     "output_type": "stream",
     "text": [
      "[2.17788463e+01 6.33296077e-05 1.50569128e+00] \n",
      " [[-0.59235287 -0.67270168 -0.44338531]\n",
      " [-0.52865676  0.73981454 -0.4161688 ]\n",
      " [-0.60798035  0.01212014  0.79385955]]\n",
      "[[-0.59235287 -0.44338531]\n",
      " [-0.52865676 -0.4161688 ]\n",
      " [-0.60798035  0.79385955]]\n"
     ]
    }
   ],
   "source": [
    "print(e1,\"\\n\",e2)\n",
    "print(pca.basis)"
   ]
  },
  {
   "cell_type": "code",
   "execution_count": 194,
   "metadata": {},
   "outputs": [
    {
     "name": "stdout",
     "output_type": "stream",
     "text": [
      "[-0.67270168  0.73981454  0.01212014]\n"
     ]
    }
   ],
   "source": [
    "norm2 = np.cross(e2[:,0],e2[:,2])\n",
    "norm2 = norm2 / np.sqrt(norm2.dot(norm2))\n",
    "print(norm2)"
   ]
  },
  {
   "cell_type": "code",
   "execution_count": 195,
   "metadata": {},
   "outputs": [
    {
     "name": "stdout",
     "output_type": "stream",
     "text": [
      "[-0.67335762  0.73919156  0.01361447]\n"
     ]
    }
   ],
   "source": [
    "norm1 = np.cross(v1.reshape(3),v2.reshape(3))\n",
    "norm1 = norm1 / np.sqrt(norm1.dot(norm1))\n",
    "print(norm1)"
   ]
  },
  {
   "cell_type": "code",
   "execution_count": 196,
   "metadata": {},
   "outputs": [
    {
     "data": {
      "text/plain": [
       "array([[ -4.33143137,   0.7058885 ],\n",
       "       [ -9.78473552,   3.00056408],\n",
       "       [ -7.7876741 ,   2.28814216],\n",
       "       [-12.56639133,   2.15299703],\n",
       "       [ -2.34426093,  -0.06649713],\n",
       "       [-10.89950255,  -0.2708982 ],\n",
       "       [ -1.54574951,  -0.72179521],\n",
       "       [ -4.87834399,  -1.06781563],\n",
       "       [-15.33177779,  -0.47935823],\n",
       "       [-17.70080251,  -0.62868851],\n",
       "       [-10.5377816 ,   1.24567595],\n",
       "       [-15.29142272,  -0.58887111],\n",
       "       [ -4.62275691,  -0.21326871],\n",
       "       [-15.2218777 ,   0.38978624],\n",
       "       [-11.63652726,  -2.14851825],\n",
       "       [ -6.63854317,   1.18219483],\n",
       "       [-13.56647347,   1.61127966],\n",
       "       [ -9.21461246,   0.20833111],\n",
       "       [ -9.01695448,   0.41331655],\n",
       "       [-15.86381854,   0.15098092]])"
      ]
     },
     "execution_count": 196,
     "metadata": {},
     "output_type": "execute_result"
    }
   ],
   "source": [
    "pca.predict(x)"
   ]
  }
 ],
 "metadata": {
  "kernelspec": {
   "display_name": "Python 3",
   "language": "python",
   "name": "python3"
  },
  "language_info": {
   "codemirror_mode": {
    "name": "ipython",
    "version": 3
   },
   "file_extension": ".py",
   "mimetype": "text/x-python",
   "name": "python",
   "nbconvert_exporter": "python",
   "pygments_lexer": "ipython3",
   "version": "3.8.5"
  }
 },
 "nbformat": 4,
 "nbformat_minor": 4
}
