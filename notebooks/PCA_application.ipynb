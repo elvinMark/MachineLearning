{
 "cells": [
  {
   "cell_type": "code",
   "execution_count": 1,
   "metadata": {},
   "outputs": [],
   "source": [
    "import numpy as np\n",
    "import matplotlib.pyplot as plt\n",
    "import pandas as pd\n",
    "\n",
    "def read_fasta(path):\n",
    "\n",
    "    # open file\n",
    "    f = open(path, 'r')\n",
    "    dataline = f.readlines()\n",
    "    f.close()\n",
    "\n",
    "    # define variables\n",
    "    data_strage = {}\n",
    "    dictionary_name = ''\n",
    "    dictionary_sequece = ''\n",
    "    \n",
    "    # store data as dictionary format\n",
    "    for data in dataline:\n",
    "        if data[0] == '>':\n",
    "            data_strage[dictionary_name] = dictionary_sequece\n",
    "            dictionary_name = data.lstrip('>').rstrip('\\n')\n",
    "            dictionary_sequece = ''\n",
    "        else:\n",
    "            dictionary_sequece += data.rstrip('\\n')\n",
    "    \n",
    "    # input last data\n",
    "    data_strage[dictionary_name] = dictionary_sequece\n",
    "    \n",
    "    # remove vacance element of data_strage\n",
    "    data_strage.pop('')\n",
    "    \n",
    "    return data_strage\n",
    "\n",
    "\n",
    "\n",
    "def convert_seqence_to_numpy_array(dictionary):\n",
    "    \n",
    "    # define variables\n",
    "    list_tmp = []\n",
    "    dictinary_converted = {}\n",
    "    \n",
    "    # convert base to number\n",
    "    for key, value in dictionary.items():\n",
    "        list_tmp = []\n",
    "        for num in range(len(value)):\n",
    "            if value[num] == 'A':\n",
    "                list_tmp.append(-3)\n",
    "            elif value[num] == 'T':\n",
    "                list_tmp.append(-2)\n",
    "            elif value[num] == 'G':\n",
    "                list_tmp.append(2)\n",
    "            elif value[num] == 'C':\n",
    "                list_tmp.append(3)\n",
    "\n",
    "    # convert list_tmp to numpy array\n",
    "        out_array = np.array(list_tmp)\n",
    "\n",
    "    # set numpy array to dictionary\n",
    "        dictinary_converted[key] = out_array\n",
    "        \n",
    "    return dictinary_converted"
   ]
  },
  {
   "cell_type": "code",
   "execution_count": 2,
   "metadata": {},
   "outputs": [],
   "source": [
    "d = read_fasta(\"dna_raw_sequence.fasta\")"
   ]
  },
  {
   "cell_type": "code",
   "execution_count": 7,
   "metadata": {},
   "outputs": [],
   "source": [
    "d2 = convert_seqence_to_numpy_array(d)"
   ]
  },
  {
   "cell_type": "code",
   "execution_count": 16,
   "metadata": {},
   "outputs": [],
   "source": [
    "m = np.array(list(d2.values()))"
   ]
  },
  {
   "cell_type": "code",
   "execution_count": 40,
   "metadata": {},
   "outputs": [
    {
     "data": {
      "text/plain": [
       "array([[-3, -2,  2, ..., -2, -3,  2],\n",
       "       [-3, -2,  2, ..., -2, -3,  2],\n",
       "       [-3, -2,  2, ..., -2, -3,  2],\n",
       "       ...,\n",
       "       [-3, -2,  2, ..., -2, -3, -3],\n",
       "       [-3, -2,  2, ..., -2, -3, -3],\n",
       "       [-3, -2,  2, ..., -2, -3, -3]])"
      ]
     },
     "execution_count": 40,
     "metadata": {},
     "output_type": "execute_result"
    }
   ],
   "source": [
    "m"
   ]
  },
  {
   "cell_type": "code",
   "execution_count": 20,
   "metadata": {},
   "outputs": [],
   "source": [
    "mean = np.sum(m,axis=0)/len(m)"
   ]
  },
  {
   "cell_type": "code",
   "execution_count": 22,
   "metadata": {},
   "outputs": [],
   "source": [
    "diff = m - mean"
   ]
  },
  {
   "cell_type": "code",
   "execution_count": 24,
   "metadata": {},
   "outputs": [],
   "source": [
    "diff = diff.reshape((13,1128,1))"
   ]
  },
  {
   "cell_type": "code",
   "execution_count": 26,
   "metadata": {},
   "outputs": [],
   "source": [
    "diffT = diff.transpose((0,2,1))"
   ]
  },
  {
   "cell_type": "code",
   "execution_count": 27,
   "metadata": {},
   "outputs": [],
   "source": [
    "s = np.matmul(diff,diffT)"
   ]
  },
  {
   "cell_type": "code",
   "execution_count": 28,
   "metadata": {},
   "outputs": [],
   "source": [
    "sigma = np.sum(s,axis=0)/len(s)"
   ]
  },
  {
   "cell_type": "code",
   "execution_count": 30,
   "metadata": {},
   "outputs": [],
   "source": [
    "eig_val, eig_vector = np.linalg.eig(sigma)"
   ]
  },
  {
   "cell_type": "code",
   "execution_count": 37,
   "metadata": {},
   "outputs": [],
   "source": [
    "proj = eig_vector[:,:2]"
   ]
  },
  {
   "cell_type": "code",
   "execution_count": 38,
   "metadata": {},
   "outputs": [],
   "source": [
    "new_m = m.dot(proj)"
   ]
  },
  {
   "cell_type": "code",
   "execution_count": 39,
   "metadata": {},
   "outputs": [
    {
     "data": {
      "text/plain": [
       "array([[-27.98845979+0.j, -17.28584016+0.j],\n",
       "       [-27.5460287 +0.j, -17.61140951+0.j],\n",
       "       [-24.47982675+0.j,   2.30072042+0.j],\n",
       "       [-25.18462196+0.j,   8.06015855+0.j],\n",
       "       [-20.24291046+0.j,   0.38127974+0.j],\n",
       "       [-24.68888883+0.j,   7.95575299+0.j],\n",
       "       [-26.15178803+0.j,   4.98652878+0.j],\n",
       "       [-19.35899533+0.j,  13.29724135+0.j],\n",
       "       [-23.98627215+0.j,  11.41945135+0.j],\n",
       "       [-25.00580693+0.j, -17.59228783+0.j],\n",
       "       [ 13.82783987+0.j,  -8.64265731+0.j],\n",
       "       [ 14.87676327+0.j,   7.7828354 +0.j],\n",
       "       [ 21.26854262+0.j,  -5.67924531+0.j]])"
      ]
     },
     "execution_count": 39,
     "metadata": {},
     "output_type": "execute_result"
    }
   ],
   "source": [
    "new_m"
   ]
  },
  {
   "cell_type": "code",
   "execution_count": 47,
   "metadata": {},
   "outputs": [],
   "source": [
    "df_pca = pd.DataFrame(new_m)"
   ]
  },
  {
   "cell_type": "code",
   "execution_count": 48,
   "metadata": {},
   "outputs": [],
   "source": [
    "df_label = pd.Series(d.keys())"
   ]
  },
  {
   "cell_type": "code",
   "execution_count": 51,
   "metadata": {},
   "outputs": [
    {
     "data": {
      "text/plain": [
       "0                     ACTB_human\n",
       "1                ACTB_chimpanzee\n",
       "2     ACTB_longtailed_chinchilla\n",
       "3                       ACTB_cow\n",
       "4               ACTB_mouse_lemur\n",
       "5                      ACTB_lion\n",
       "6                   ACTB_Dolphin\n",
       "7      ACTB_grater_horseshoe_bat\n",
       "8        ACTB_siberian_musk_deer\n",
       "9                     ACTB_drill\n",
       "10              ACTB_giant_panda\n",
       "11                  ACTB_chicken\n",
       "12                    ACTB_coala\n",
       "dtype: object"
      ]
     },
     "execution_count": 51,
     "metadata": {},
     "output_type": "execute_result"
    }
   ],
   "source": []
  },
  {
   "cell_type": "code",
   "execution_count": 52,
   "metadata": {},
   "outputs": [],
   "source": [
    "df_pca = df_pca.rename(columns={0:'pc1',1:'pc2'})\n",
    "df_concat = pd.concat([df_pca,df_label],axis=1)\n",
    "df_concat = df_concat.rename(columns={0:'label'})"
   ]
  },
  {
   "cell_type": "code",
   "execution_count": 53,
   "metadata": {},
   "outputs": [
    {
     "data": {
      "text/html": [
       "<div>\n",
       "<style scoped>\n",
       "    .dataframe tbody tr th:only-of-type {\n",
       "        vertical-align: middle;\n",
       "    }\n",
       "\n",
       "    .dataframe tbody tr th {\n",
       "        vertical-align: top;\n",
       "    }\n",
       "\n",
       "    .dataframe thead th {\n",
       "        text-align: right;\n",
       "    }\n",
       "</style>\n",
       "<table border=\"1\" class=\"dataframe\">\n",
       "  <thead>\n",
       "    <tr style=\"text-align: right;\">\n",
       "      <th></th>\n",
       "      <th>pc1</th>\n",
       "      <th>pc2</th>\n",
       "      <th>label</th>\n",
       "    </tr>\n",
       "  </thead>\n",
       "  <tbody>\n",
       "    <tr>\n",
       "      <th>0</th>\n",
       "      <td>-27.988460+0.000000j</td>\n",
       "      <td>-17.285840+0.000000j</td>\n",
       "      <td>ACTB_human</td>\n",
       "    </tr>\n",
       "    <tr>\n",
       "      <th>1</th>\n",
       "      <td>-27.546029+0.000000j</td>\n",
       "      <td>-17.611410+0.000000j</td>\n",
       "      <td>ACTB_chimpanzee</td>\n",
       "    </tr>\n",
       "    <tr>\n",
       "      <th>2</th>\n",
       "      <td>-24.479827+0.000000j</td>\n",
       "      <td>2.300720+0.000000j</td>\n",
       "      <td>ACTB_longtailed_chinchilla</td>\n",
       "    </tr>\n",
       "    <tr>\n",
       "      <th>3</th>\n",
       "      <td>-25.184622+0.000000j</td>\n",
       "      <td>8.060159+0.000000j</td>\n",
       "      <td>ACTB_cow</td>\n",
       "    </tr>\n",
       "    <tr>\n",
       "      <th>4</th>\n",
       "      <td>-20.242910+0.000000j</td>\n",
       "      <td>0.381280+0.000000j</td>\n",
       "      <td>ACTB_mouse_lemur</td>\n",
       "    </tr>\n",
       "    <tr>\n",
       "      <th>5</th>\n",
       "      <td>-24.688889+0.000000j</td>\n",
       "      <td>7.955753+0.000000j</td>\n",
       "      <td>ACTB_lion</td>\n",
       "    </tr>\n",
       "    <tr>\n",
       "      <th>6</th>\n",
       "      <td>-26.151788+0.000000j</td>\n",
       "      <td>4.986529+0.000000j</td>\n",
       "      <td>ACTB_Dolphin</td>\n",
       "    </tr>\n",
       "    <tr>\n",
       "      <th>7</th>\n",
       "      <td>-19.358995+0.000000j</td>\n",
       "      <td>13.297241+0.000000j</td>\n",
       "      <td>ACTB_grater_horseshoe_bat</td>\n",
       "    </tr>\n",
       "    <tr>\n",
       "      <th>8</th>\n",
       "      <td>-23.986272+0.000000j</td>\n",
       "      <td>11.419451+0.000000j</td>\n",
       "      <td>ACTB_siberian_musk_deer</td>\n",
       "    </tr>\n",
       "    <tr>\n",
       "      <th>9</th>\n",
       "      <td>-25.005807+0.000000j</td>\n",
       "      <td>-17.592288+0.000000j</td>\n",
       "      <td>ACTB_drill</td>\n",
       "    </tr>\n",
       "    <tr>\n",
       "      <th>10</th>\n",
       "      <td>13.827840+0.000000j</td>\n",
       "      <td>-8.642657+0.000000j</td>\n",
       "      <td>ACTB_giant_panda</td>\n",
       "    </tr>\n",
       "    <tr>\n",
       "      <th>11</th>\n",
       "      <td>14.876763+0.000000j</td>\n",
       "      <td>7.782835+0.000000j</td>\n",
       "      <td>ACTB_chicken</td>\n",
       "    </tr>\n",
       "    <tr>\n",
       "      <th>12</th>\n",
       "      <td>21.268543+0.000000j</td>\n",
       "      <td>-5.679245+0.000000j</td>\n",
       "      <td>ACTB_coala</td>\n",
       "    </tr>\n",
       "  </tbody>\n",
       "</table>\n",
       "</div>"
      ],
      "text/plain": [
       "                    pc1                  pc2                       label\n",
       "0  -27.988460+0.000000j -17.285840+0.000000j                  ACTB_human\n",
       "1  -27.546029+0.000000j -17.611410+0.000000j             ACTB_chimpanzee\n",
       "2  -24.479827+0.000000j   2.300720+0.000000j  ACTB_longtailed_chinchilla\n",
       "3  -25.184622+0.000000j   8.060159+0.000000j                    ACTB_cow\n",
       "4  -20.242910+0.000000j   0.381280+0.000000j            ACTB_mouse_lemur\n",
       "5  -24.688889+0.000000j   7.955753+0.000000j                   ACTB_lion\n",
       "6  -26.151788+0.000000j   4.986529+0.000000j                ACTB_Dolphin\n",
       "7  -19.358995+0.000000j  13.297241+0.000000j   ACTB_grater_horseshoe_bat\n",
       "8  -23.986272+0.000000j  11.419451+0.000000j     ACTB_siberian_musk_deer\n",
       "9  -25.005807+0.000000j -17.592288+0.000000j                  ACTB_drill\n",
       "10  13.827840+0.000000j  -8.642657+0.000000j            ACTB_giant_panda\n",
       "11  14.876763+0.000000j   7.782835+0.000000j                ACTB_chicken\n",
       "12  21.268543+0.000000j  -5.679245+0.000000j                  ACTB_coala"
      ]
     },
     "execution_count": 53,
     "metadata": {},
     "output_type": "execute_result"
    }
   ],
   "source": [
    "df_concat"
   ]
  },
  {
   "cell_type": "code",
   "execution_count": null,
   "metadata": {},
   "outputs": [],
   "source": []
  },
  {
   "cell_type": "code",
   "execution_count": 56,
   "metadata": {},
   "outputs": [
    {
     "name": "stderr",
     "output_type": "stream",
     "text": [
      "/home/elvin/.local/lib/python3.8/site-packages/numpy/core/_asarray.py:136: ComplexWarning: Casting complex values to real discards the imaginary part\n",
      "  return array(a, dtype, copy=False, order=order, subok=True)\n"
     ]
    },
    {
     "data": {
      "image/png": "[encoded data removed]",
      "text/plain": [
       "<Figure size 432x288 with 1 Axes>"
      ]
     },
     "metadata": {
      "needs_background": "light"
     },
     "output_type": "display_data"
    }
   ],
   "source": [
    "## plot figure (pc1 and pc3)\n",
    "label_animal = [\"ACTB_human\", \"ACTB_chimpanzee\", \"ACTB_longtailed_chinchilla\", \"ACTB_cow\", \"ACTB_mouse_lemur\", \"ACTB_lion\", \"ACTB_Dolphin\", \"ACTB_grater_horseshoe_bat\", \"ACTB_siberian_musk_deer\", \"ACTB_drill\", \"ACTB_giant_panda\", \"ACTB_chicken\", \"ACTB_coala\"]\n",
    "label_color = [\"#843DFD\", \"#4836E3\", \"#4966FA\", \"#3681E3\", \"#3DC2FD\", \"#42A9FD\", \"#3BC4E3\", \"#4EFBED\", \"#3BE3A5\", \"#42FD83\", \"#FD9456\", \"#E36F4D\", \"#FA6E62\"]\n",
    "fig, ax = plt.subplots()\n",
    "for i,c in enumerate(label_color):\n",
    "    x = df_concat[\"pc1\"][i]\n",
    "    y = df_concat[\"pc2\"][i]\n",
    "    l = df_concat[\"label\"][i]\n",
    "    ax.scatter(x, y, label=l, s=50, linewidth=0.1, c=c)\n",
    "ax.legend(bbox_to_anchor=(1.05, 1), loc=\"upper left\", borderaxespad=0, fontsize=10)\n",
    "plt.show()"
   ]
  }
 ],
 "metadata": {
  "kernelspec": {
   "display_name": "Python 3",
   "language": "python",
   "name": "python3"
  },
  "language_info": {
   "codemirror_mode": {
    "name": "ipython",
    "version": 3
   },
   "file_extension": ".py",
   "mimetype": "text/x-python",
   "name": "python",
   "nbconvert_exporter": "python",
   "pygments_lexer": "ipython3",
   "version": "3.8.10"
  }
 },
 "nbformat": 4,
 "nbformat_minor": 4
}
