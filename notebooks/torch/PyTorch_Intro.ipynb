{
  "nbformat": 4,
  "nbformat_minor": 0,
  "metadata": {
    "colab": {
      "name": "PyTorch_Intro.ipynb",
      "provenance": [],
      "collapsed_sections": []
    },
    "kernelspec": {
      "display_name": "Python 3",
      "name": "python3"
    },
    "language_info": {
      "name": "python"
    },
    "widgets": {
      "application/vnd.jupyter.widget-state+json": {
        "3b937f7e404a4ea4b79d8e0916a4e6e4": {
          "model_module": "@jupyter-widgets/controls",
          "model_name": "HBoxModel",
          "state": {
            "_view_name": "HBoxView",
            "_dom_classes": [],
            "_model_name": "HBoxModel",
            "_view_module": "@jupyter-widgets/controls",
            "_model_module_version": "1.5.0",
            "_view_count": null,
            "_view_module_version": "1.5.0",
            "box_style": "",
            "layout": "IPY_MODEL_d8c9d09ed6f04efebdf4a952355433a7",
            "_model_module": "@jupyter-widgets/controls",
            "children": [
              "IPY_MODEL_a611a54437c94ce698e344ebaf4b88d1",
              "IPY_MODEL_ec436d4034c2439583283898554be7b3"
            ]
          }
        },
        "d8c9d09ed6f04efebdf4a952355433a7": {
          "model_module": "@jupyter-widgets/base",
          "model_name": "LayoutModel",
          "state": {
            "_view_name": "LayoutView",
            "grid_template_rows": null,
            "right": null,
            "justify_content": null,
            "_view_module": "@jupyter-widgets/base",
            "overflow": null,
            "_model_module_version": "1.2.0",
            "_view_count": null,
            "flex_flow": null,
            "width": null,
            "min_width": null,
            "border": null,
            "align_items": null,
            "bottom": null,
            "_model_module": "@jupyter-widgets/base",
            "top": null,
            "grid_column": null,
            "overflow_y": null,
            "overflow_x": null,
            "grid_auto_flow": null,
            "grid_area": null,
            "grid_template_columns": null,
            "flex": null,
            "_model_name": "LayoutModel",
            "justify_items": null,
            "grid_row": null,
            "max_height": null,
            "align_content": null,
            "visibility": null,
            "align_self": null,
            "height": null,
            "min_height": null,
            "padding": null,
            "grid_auto_rows": null,
            "grid_gap": null,
            "max_width": null,
            "order": null,
            "_view_module_version": "1.2.0",
            "grid_template_areas": null,
            "object_position": null,
            "object_fit": null,
            "grid_auto_columns": null,
            "margin": null,
            "display": null,
            "left": null
          }
        },
        "a611a54437c94ce698e344ebaf4b88d1": {
          "model_module": "@jupyter-widgets/controls",
          "model_name": "FloatProgressModel",
          "state": {
            "_view_name": "ProgressView",
            "style": "IPY_MODEL_3e1c3aa971b4484d854cec8ee3faf908",
            "_dom_classes": [],
            "description": "",
            "_model_name": "FloatProgressModel",
            "bar_style": "success",
            "max": 9912422,
            "_view_module": "@jupyter-widgets/controls",
            "_model_module_version": "1.5.0",
            "value": 9912422,
            "_view_count": null,
            "_view_module_version": "1.5.0",
            "orientation": "horizontal",
            "min": 0,
            "description_tooltip": null,
            "_model_module": "@jupyter-widgets/controls",
            "layout": "IPY_MODEL_865e6a489d724e5a861b09e3484e9faa"
          }
        },
        "ec436d4034c2439583283898554be7b3": {
          "model_module": "@jupyter-widgets/controls",
          "model_name": "HTMLModel",
          "state": {
            "_view_name": "HTMLView",
            "style": "IPY_MODEL_a29df5577ab54b27bdcd580ae80fed5f",
            "_dom_classes": [],
            "description": "",
            "_model_name": "HTMLModel",
            "placeholder": "​",
            "_view_module": "@jupyter-widgets/controls",
            "_model_module_version": "1.5.0",
            "value": " 9913344/? [05:12&lt;00:00, 31693.40it/s]",
            "_view_count": null,
            "_view_module_version": "1.5.0",
            "description_tooltip": null,
            "_model_module": "@jupyter-widgets/controls",
            "layout": "IPY_MODEL_bf3f61fc90e54304bbe52628b000552c"
          }
        },
        "3e1c3aa971b4484d854cec8ee3faf908": {
          "model_module": "@jupyter-widgets/controls",
          "model_name": "ProgressStyleModel",
          "state": {
            "_view_name": "StyleView",
            "_model_name": "ProgressStyleModel",
            "description_width": "initial",
            "_view_module": "@jupyter-widgets/base",
            "_model_module_version": "1.5.0",
            "_view_count": null,
            "_view_module_version": "1.2.0",
            "bar_color": null,
            "_model_module": "@jupyter-widgets/controls"
          }
        },
        "865e6a489d724e5a861b09e3484e9faa": {
          "model_module": "@jupyter-widgets/base",
          "model_name": "LayoutModel",
          "state": {
            "_view_name": "LayoutView",
            "grid_template_rows": null,
            "right": null,
            "justify_content": null,
            "_view_module": "@jupyter-widgets/base",
            "overflow": null,
            "_model_module_version": "1.2.0",
            "_view_count": null,
            "flex_flow": null,
            "width": null,
            "min_width": null,
            "border": null,
            "align_items": null,
            "bottom": null,
            "_model_module": "@jupyter-widgets/base",
            "top": null,
            "grid_column": null,
            "overflow_y": null,
            "overflow_x": null,
            "grid_auto_flow": null,
            "grid_area": null,
            "grid_template_columns": null,
            "flex": null,
            "_model_name": "LayoutModel",
            "justify_items": null,
            "grid_row": null,
            "max_height": null,
            "align_content": null,
            "visibility": null,
            "align_self": null,
            "height": null,
            "min_height": null,
            "padding": null,
            "grid_auto_rows": null,
            "grid_gap": null,
            "max_width": null,
            "order": null,
            "_view_module_version": "1.2.0",
            "grid_template_areas": null,
            "object_position": null,
            "object_fit": null,
            "grid_auto_columns": null,
            "margin": null,
            "display": null,
            "left": null
          }
        },
        "a29df5577ab54b27bdcd580ae80fed5f": {
          "model_module": "@jupyter-widgets/controls",
          "model_name": "DescriptionStyleModel",
          "state": {
            "_view_name": "StyleView",
            "_model_name": "DescriptionStyleModel",
            "description_width": "",
            "_view_module": "@jupyter-widgets/base",
            "_model_module_version": "1.5.0",
            "_view_count": null,
            "_view_module_version": "1.2.0",
            "_model_module": "@jupyter-widgets/controls"
          }
        },
        "bf3f61fc90e54304bbe52628b000552c": {
          "model_module": "@jupyter-widgets/base",
          "model_name": "LayoutModel",
          "state": {
            "_view_name": "LayoutView",
            "grid_template_rows": null,
            "right": null,
            "justify_content": null,
            "_view_module": "@jupyter-widgets/base",
            "overflow": null,
            "_model_module_version": "1.2.0",
            "_view_count": null,
            "flex_flow": null,
            "width": null,
            "min_width": null,
            "border": null,
            "align_items": null,
            "bottom": null,
            "_model_module": "@jupyter-widgets/base",
            "top": null,
            "grid_column": null,
            "overflow_y": null,
            "overflow_x": null,
            "grid_auto_flow": null,
            "grid_area": null,
            "grid_template_columns": null,
            "flex": null,
            "_model_name": "LayoutModel",
            "justify_items": null,
            "grid_row": null,
            "max_height": null,
            "align_content": null,
            "visibility": null,
            "align_self": null,
            "height": null,
            "min_height": null,
            "padding": null,
            "grid_auto_rows": null,
            "grid_gap": null,
            "max_width": null,
            "order": null,
            "_view_module_version": "1.2.0",
            "grid_template_areas": null,
            "object_position": null,
            "object_fit": null,
            "grid_auto_columns": null,
            "margin": null,
            "display": null,
            "left": null
          }
        },
        "e0c2a043669440248203faa85cab1060": {
          "model_module": "@jupyter-widgets/controls",
          "model_name": "HBoxModel",
          "state": {
            "_view_name": "HBoxView",
            "_dom_classes": [],
            "_model_name": "HBoxModel",
            "_view_module": "@jupyter-widgets/controls",
            "_model_module_version": "1.5.0",
            "_view_count": null,
            "_view_module_version": "1.5.0",
            "box_style": "",
            "layout": "IPY_MODEL_0bc6ef796b5b40e097c1814d76069815",
            "_model_module": "@jupyter-widgets/controls",
            "children": [
              "IPY_MODEL_127192a4c05c440fb0025ea6dc65727d",
              "IPY_MODEL_64c5b06a6d554c3699fa648598c5d351"
            ]
          }
        },
        "0bc6ef796b5b40e097c1814d76069815": {
          "model_module": "@jupyter-widgets/base",
          "model_name": "LayoutModel",
          "state": {
            "_view_name": "LayoutView",
            "grid_template_rows": null,
            "right": null,
            "justify_content": null,
            "_view_module": "@jupyter-widgets/base",
            "overflow": null,
            "_model_module_version": "1.2.0",
            "_view_count": null,
            "flex_flow": null,
            "width": null,
            "min_width": null,
            "border": null,
            "align_items": null,
            "bottom": null,
            "_model_module": "@jupyter-widgets/base",
            "top": null,
            "grid_column": null,
            "overflow_y": null,
            "overflow_x": null,
            "grid_auto_flow": null,
            "grid_area": null,
            "grid_template_columns": null,
            "flex": null,
            "_model_name": "LayoutModel",
            "justify_items": null,
            "grid_row": null,
            "max_height": null,
            "align_content": null,
            "visibility": null,
            "align_self": null,
            "height": null,
            "min_height": null,
            "padding": null,
            "grid_auto_rows": null,
            "grid_gap": null,
            "max_width": null,
            "order": null,
            "_view_module_version": "1.2.0",
            "grid_template_areas": null,
            "object_position": null,
            "object_fit": null,
            "grid_auto_columns": null,
            "margin": null,
            "display": null,
            "left": null
          }
        },
        "127192a4c05c440fb0025ea6dc65727d": {
          "model_module": "@jupyter-widgets/controls",
          "model_name": "FloatProgressModel",
          "state": {
            "_view_name": "ProgressView",
            "style": "IPY_MODEL_5ab6debb6c2d4017962554e25b72a380",
            "_dom_classes": [],
            "description": "",
            "_model_name": "FloatProgressModel",
            "bar_style": "success",
            "max": 28881,
            "_view_module": "@jupyter-widgets/controls",
            "_model_module_version": "1.5.0",
            "value": 28881,
            "_view_count": null,
            "_view_module_version": "1.5.0",
            "orientation": "horizontal",
            "min": 0,
            "description_tooltip": null,
            "_model_module": "@jupyter-widgets/controls",
            "layout": "IPY_MODEL_48417714608c4fce8d7d2cc5b174bbc4"
          }
        },
        "64c5b06a6d554c3699fa648598c5d351": {
          "model_module": "@jupyter-widgets/controls",
          "model_name": "HTMLModel",
          "state": {
            "_view_name": "HTMLView",
            "style": "IPY_MODEL_fa76081bbb34453b87223d1ffbda7d0c",
            "_dom_classes": [],
            "description": "",
            "_model_name": "HTMLModel",
            "placeholder": "​",
            "_view_module": "@jupyter-widgets/controls",
            "_model_module_version": "1.5.0",
            "value": " 29696/? [00:02&lt;00:00, 13284.58it/s]",
            "_view_count": null,
            "_view_module_version": "1.5.0",
            "description_tooltip": null,
            "_model_module": "@jupyter-widgets/controls",
            "layout": "IPY_MODEL_6eb376cc38544678bf034e38954ed5d1"
          }
        },
        "5ab6debb6c2d4017962554e25b72a380": {
          "model_module": "@jupyter-widgets/controls",
          "model_name": "ProgressStyleModel",
          "state": {
            "_view_name": "StyleView",
            "_model_name": "ProgressStyleModel",
            "description_width": "initial",
            "_view_module": "@jupyter-widgets/base",
            "_model_module_version": "1.5.0",
            "_view_count": null,
            "_view_module_version": "1.2.0",
            "bar_color": null,
            "_model_module": "@jupyter-widgets/controls"
          }
        },
        "48417714608c4fce8d7d2cc5b174bbc4": {
          "model_module": "@jupyter-widgets/base",
          "model_name": "LayoutModel",
          "state": {
            "_view_name": "LayoutView",
            "grid_template_rows": null,
            "right": null,
            "justify_content": null,
            "_view_module": "@jupyter-widgets/base",
            "overflow": null,
            "_model_module_version": "1.2.0",
            "_view_count": null,
            "flex_flow": null,
            "width": null,
            "min_width": null,
            "border": null,
            "align_items": null,
            "bottom": null,
            "_model_module": "@jupyter-widgets/base",
            "top": null,
            "grid_column": null,
            "overflow_y": null,
            "overflow_x": null,
            "grid_auto_flow": null,
            "grid_area": null,
            "grid_template_columns": null,
            "flex": null,
            "_model_name": "LayoutModel",
            "justify_items": null,
            "grid_row": null,
            "max_height": null,
            "align_content": null,
            "visibility": null,
            "align_self": null,
            "height": null,
            "min_height": null,
            "padding": null,
            "grid_auto_rows": null,
            "grid_gap": null,
            "max_width": null,
            "order": null,
            "_view_module_version": "1.2.0",
            "grid_template_areas": null,
            "object_position": null,
            "object_fit": null,
            "grid_auto_columns": null,
            "margin": null,
            "display": null,
            "left": null
          }
        },
        "fa76081bbb34453b87223d1ffbda7d0c": {
          "model_module": "@jupyter-widgets/controls",
          "model_name": "DescriptionStyleModel",
          "state": {
            "_view_name": "StyleView",
            "_model_name": "DescriptionStyleModel",
            "description_width": "",
            "_view_module": "@jupyter-widgets/base",
            "_model_module_version": "1.5.0",
            "_view_count": null,
            "_view_module_version": "1.2.0",
            "_model_module": "@jupyter-widgets/controls"
          }
        },
        "6eb376cc38544678bf034e38954ed5d1": {
          "model_module": "@jupyter-widgets/base",
          "model_name": "LayoutModel",
          "state": {
            "_view_name": "LayoutView",
            "grid_template_rows": null,
            "right": null,
            "justify_content": null,
            "_view_module": "@jupyter-widgets/base",
            "overflow": null,
            "_model_module_version": "1.2.0",
            "_view_count": null,
            "flex_flow": null,
            "width": null,
            "min_width": null,
            "border": null,
            "align_items": null,
            "bottom": null,
            "_model_module": "@jupyter-widgets/base",
            "top": null,
            "grid_column": null,
            "overflow_y": null,
            "overflow_x": null,
            "grid_auto_flow": null,
            "grid_area": null,
            "grid_template_columns": null,
            "flex": null,
            "_model_name": "LayoutModel",
            "justify_items": null,
            "grid_row": null,
            "max_height": null,
            "align_content": null,
            "visibility": null,
            "align_self": null,
            "height": null,
            "min_height": null,
            "padding": null,
            "grid_auto_rows": null,
            "grid_gap": null,
            "max_width": null,
            "order": null,
            "_view_module_version": "1.2.0",
            "grid_template_areas": null,
            "object_position": null,
            "object_fit": null,
            "grid_auto_columns": null,
            "margin": null,
            "display": null,
            "left": null
          }
        },
        "8112ef0c774641fbbddd680d2529d9ae": {
          "model_module": "@jupyter-widgets/controls",
          "model_name": "HBoxModel",
          "state": {
            "_view_name": "HBoxView",
            "_dom_classes": [],
            "_model_name": "HBoxModel",
            "_view_module": "@jupyter-widgets/controls",
            "_model_module_version": "1.5.0",
            "_view_count": null,
            "_view_module_version": "1.5.0",
            "box_style": "",
            "layout": "IPY_MODEL_a46c674973db4077832cad71d6102373",
            "_model_module": "@jupyter-widgets/controls",
            "children": [
              "IPY_MODEL_77222392779941bab94bdf56174b97c0",
              "IPY_MODEL_6298c3b5b8f94e75b4e675024f0d8d48"
            ]
          }
        },
        "a46c674973db4077832cad71d6102373": {
          "model_module": "@jupyter-widgets/base",
          "model_name": "LayoutModel",
          "state": {
            "_view_name": "LayoutView",
            "grid_template_rows": null,
            "right": null,
            "justify_content": null,
            "_view_module": "@jupyter-widgets/base",
            "overflow": null,
            "_model_module_version": "1.2.0",
            "_view_count": null,
            "flex_flow": null,
            "width": null,
            "min_width": null,
            "border": null,
            "align_items": null,
            "bottom": null,
            "_model_module": "@jupyter-widgets/base",
            "top": null,
            "grid_column": null,
            "overflow_y": null,
            "overflow_x": null,
            "grid_auto_flow": null,
            "grid_area": null,
            "grid_template_columns": null,
            "flex": null,
            "_model_name": "LayoutModel",
            "justify_items": null,
            "grid_row": null,
            "max_height": null,
            "align_content": null,
            "visibility": null,
            "align_self": null,
            "height": null,
            "min_height": null,
            "padding": null,
            "grid_auto_rows": null,
            "grid_gap": null,
            "max_width": null,
            "order": null,
            "_view_module_version": "1.2.0",
            "grid_template_areas": null,
            "object_position": null,
            "object_fit": null,
            "grid_auto_columns": null,
            "margin": null,
            "display": null,
            "left": null
          }
        },
        "77222392779941bab94bdf56174b97c0": {
          "model_module": "@jupyter-widgets/controls",
          "model_name": "FloatProgressModel",
          "state": {
            "_view_name": "ProgressView",
            "style": "IPY_MODEL_c50790b7b441417cae779b85b927772f",
            "_dom_classes": [],
            "description": "",
            "_model_name": "FloatProgressModel",
            "bar_style": "success",
            "max": 1648877,
            "_view_module": "@jupyter-widgets/controls",
            "_model_module_version": "1.5.0",
            "value": 1648877,
            "_view_count": null,
            "_view_module_version": "1.5.0",
            "orientation": "horizontal",
            "min": 0,
            "description_tooltip": null,
            "_model_module": "@jupyter-widgets/controls",
            "layout": "IPY_MODEL_121f9663f7c64e7f936f508b7f665961"
          }
        },
        "6298c3b5b8f94e75b4e675024f0d8d48": {
          "model_module": "@jupyter-widgets/controls",
          "model_name": "HTMLModel",
          "state": {
            "_view_name": "HTMLView",
            "style": "IPY_MODEL_35b2896172d043f1b96ee6e323c95e97",
            "_dom_classes": [],
            "description": "",
            "_model_name": "HTMLModel",
            "placeholder": "​",
            "_view_module": "@jupyter-widgets/controls",
            "_model_module_version": "1.5.0",
            "value": " 1649664/? [00:01&lt;00:00, 1336785.74it/s]",
            "_view_count": null,
            "_view_module_version": "1.5.0",
            "description_tooltip": null,
            "_model_module": "@jupyter-widgets/controls",
            "layout": "IPY_MODEL_1df470ab72304544a6d0a386a108e923"
          }
        },
        "c50790b7b441417cae779b85b927772f": {
          "model_module": "@jupyter-widgets/controls",
          "model_name": "ProgressStyleModel",
          "state": {
            "_view_name": "StyleView",
            "_model_name": "ProgressStyleModel",
            "description_width": "initial",
            "_view_module": "@jupyter-widgets/base",
            "_model_module_version": "1.5.0",
            "_view_count": null,
            "_view_module_version": "1.2.0",
            "bar_color": null,
            "_model_module": "@jupyter-widgets/controls"
          }
        },
        "121f9663f7c64e7f936f508b7f665961": {
          "model_module": "@jupyter-widgets/base",
          "model_name": "LayoutModel",
          "state": {
            "_view_name": "LayoutView",
            "grid_template_rows": null,
            "right": null,
            "justify_content": null,
            "_view_module": "@jupyter-widgets/base",
            "overflow": null,
            "_model_module_version": "1.2.0",
            "_view_count": null,
            "flex_flow": null,
            "width": null,
            "min_width": null,
            "border": null,
            "align_items": null,
            "bottom": null,
            "_model_module": "@jupyter-widgets/base",
            "top": null,
            "grid_column": null,
            "overflow_y": null,
            "overflow_x": null,
            "grid_auto_flow": null,
            "grid_area": null,
            "grid_template_columns": null,
            "flex": null,
            "_model_name": "LayoutModel",
            "justify_items": null,
            "grid_row": null,
            "max_height": null,
            "align_content": null,
            "visibility": null,
            "align_self": null,
            "height": null,
            "min_height": null,
            "padding": null,
            "grid_auto_rows": null,
            "grid_gap": null,
            "max_width": null,
            "order": null,
            "_view_module_version": "1.2.0",
            "grid_template_areas": null,
            "object_position": null,
            "object_fit": null,
            "grid_auto_columns": null,
            "margin": null,
            "display": null,
            "left": null
          }
        },
        "35b2896172d043f1b96ee6e323c95e97": {
          "model_module": "@jupyter-widgets/controls",
          "model_name": "DescriptionStyleModel",
          "state": {
            "_view_name": "StyleView",
            "_model_name": "DescriptionStyleModel",
            "description_width": "",
            "_view_module": "@jupyter-widgets/base",
            "_model_module_version": "1.5.0",
            "_view_count": null,
            "_view_module_version": "1.2.0",
            "_model_module": "@jupyter-widgets/controls"
          }
        },
        "1df470ab72304544a6d0a386a108e923": {
          "model_module": "@jupyter-widgets/base",
          "model_name": "LayoutModel",
          "state": {
            "_view_name": "LayoutView",
            "grid_template_rows": null,
            "right": null,
            "justify_content": null,
            "_view_module": "@jupyter-widgets/base",
            "overflow": null,
            "_model_module_version": "1.2.0",
            "_view_count": null,
            "flex_flow": null,
            "width": null,
            "min_width": null,
            "border": null,
            "align_items": null,
            "bottom": null,
            "_model_module": "@jupyter-widgets/base",
            "top": null,
            "grid_column": null,
            "overflow_y": null,
            "overflow_x": null,
            "grid_auto_flow": null,
            "grid_area": null,
            "grid_template_columns": null,
            "flex": null,
            "_model_name": "LayoutModel",
            "justify_items": null,
            "grid_row": null,
            "max_height": null,
            "align_content": null,
            "visibility": null,
            "align_self": null,
            "height": null,
            "min_height": null,
            "padding": null,
            "grid_auto_rows": null,
            "grid_gap": null,
            "max_width": null,
            "order": null,
            "_view_module_version": "1.2.0",
            "grid_template_areas": null,
            "object_position": null,
            "object_fit": null,
            "grid_auto_columns": null,
            "margin": null,
            "display": null,
            "left": null
          }
        },
        "21ce46fa9b8e4847a2c580f757cc090f": {
          "model_module": "@jupyter-widgets/controls",
          "model_name": "HBoxModel",
          "state": {
            "_view_name": "HBoxView",
            "_dom_classes": [],
            "_model_name": "HBoxModel",
            "_view_module": "@jupyter-widgets/controls",
            "_model_module_version": "1.5.0",
            "_view_count": null,
            "_view_module_version": "1.5.0",
            "box_style": "",
            "layout": "IPY_MODEL_22d9c3d8f2324b568956fb14e622f222",
            "_model_module": "@jupyter-widgets/controls",
            "children": [
              "IPY_MODEL_8387b66711f343a98316153a9a0ff04d",
              "IPY_MODEL_d7b90bbb200248619334e244ee53aa94"
            ]
          }
        },
        "22d9c3d8f2324b568956fb14e622f222": {
          "model_module": "@jupyter-widgets/base",
          "model_name": "LayoutModel",
          "state": {
            "_view_name": "LayoutView",
            "grid_template_rows": null,
            "right": null,
            "justify_content": null,
            "_view_module": "@jupyter-widgets/base",
            "overflow": null,
            "_model_module_version": "1.2.0",
            "_view_count": null,
            "flex_flow": null,
            "width": null,
            "min_width": null,
            "border": null,
            "align_items": null,
            "bottom": null,
            "_model_module": "@jupyter-widgets/base",
            "top": null,
            "grid_column": null,
            "overflow_y": null,
            "overflow_x": null,
            "grid_auto_flow": null,
            "grid_area": null,
            "grid_template_columns": null,
            "flex": null,
            "_model_name": "LayoutModel",
            "justify_items": null,
            "grid_row": null,
            "max_height": null,
            "align_content": null,
            "visibility": null,
            "align_self": null,
            "height": null,
            "min_height": null,
            "padding": null,
            "grid_auto_rows": null,
            "grid_gap": null,
            "max_width": null,
            "order": null,
            "_view_module_version": "1.2.0",
            "grid_template_areas": null,
            "object_position": null,
            "object_fit": null,
            "grid_auto_columns": null,
            "margin": null,
            "display": null,
            "left": null
          }
        },
        "8387b66711f343a98316153a9a0ff04d": {
          "model_module": "@jupyter-widgets/controls",
          "model_name": "FloatProgressModel",
          "state": {
            "_view_name": "ProgressView",
            "style": "IPY_MODEL_70bdb5699254492ea3b8f7baeeba93a5",
            "_dom_classes": [],
            "description": "",
            "_model_name": "FloatProgressModel",
            "bar_style": "success",
            "max": 4542,
            "_view_module": "@jupyter-widgets/controls",
            "_model_module_version": "1.5.0",
            "value": 4542,
            "_view_count": null,
            "_view_module_version": "1.5.0",
            "orientation": "horizontal",
            "min": 0,
            "description_tooltip": null,
            "_model_module": "@jupyter-widgets/controls",
            "layout": "IPY_MODEL_090740eac5964abaabf8d2dc2554a28f"
          }
        },
        "d7b90bbb200248619334e244ee53aa94": {
          "model_module": "@jupyter-widgets/controls",
          "model_name": "HTMLModel",
          "state": {
            "_view_name": "HTMLView",
            "style": "IPY_MODEL_cd0e78178e714f16bc762c6eebac6cfe",
            "_dom_classes": [],
            "description": "",
            "_model_name": "HTMLModel",
            "placeholder": "​",
            "_view_module": "@jupyter-widgets/controls",
            "_model_module_version": "1.5.0",
            "value": " 5120/? [05:09&lt;00:00, 16.56it/s]",
            "_view_count": null,
            "_view_module_version": "1.5.0",
            "description_tooltip": null,
            "_model_module": "@jupyter-widgets/controls",
            "layout": "IPY_MODEL_2928eef9ecc34e6d84e646a9a50a8e52"
          }
        },
        "70bdb5699254492ea3b8f7baeeba93a5": {
          "model_module": "@jupyter-widgets/controls",
          "model_name": "ProgressStyleModel",
          "state": {
            "_view_name": "StyleView",
            "_model_name": "ProgressStyleModel",
            "description_width": "initial",
            "_view_module": "@jupyter-widgets/base",
            "_model_module_version": "1.5.0",
            "_view_count": null,
            "_view_module_version": "1.2.0",
            "bar_color": null,
            "_model_module": "@jupyter-widgets/controls"
          }
        },
        "090740eac5964abaabf8d2dc2554a28f": {
          "model_module": "@jupyter-widgets/base",
          "model_name": "LayoutModel",
          "state": {
            "_view_name": "LayoutView",
            "grid_template_rows": null,
            "right": null,
            "justify_content": null,
            "_view_module": "@jupyter-widgets/base",
            "overflow": null,
            "_model_module_version": "1.2.0",
            "_view_count": null,
            "flex_flow": null,
            "width": null,
            "min_width": null,
            "border": null,
            "align_items": null,
            "bottom": null,
            "_model_module": "@jupyter-widgets/base",
            "top": null,
            "grid_column": null,
            "overflow_y": null,
            "overflow_x": null,
            "grid_auto_flow": null,
            "grid_area": null,
            "grid_template_columns": null,
            "flex": null,
            "_model_name": "LayoutModel",
            "justify_items": null,
            "grid_row": null,
            "max_height": null,
            "align_content": null,
            "visibility": null,
            "align_self": null,
            "height": null,
            "min_height": null,
            "padding": null,
            "grid_auto_rows": null,
            "grid_gap": null,
            "max_width": null,
            "order": null,
            "_view_module_version": "1.2.0",
            "grid_template_areas": null,
            "object_position": null,
            "object_fit": null,
            "grid_auto_columns": null,
            "margin": null,
            "display": null,
            "left": null
          }
        },
        "cd0e78178e714f16bc762c6eebac6cfe": {
          "model_module": "@jupyter-widgets/controls",
          "model_name": "DescriptionStyleModel",
          "state": {
            "_view_name": "StyleView",
            "_model_name": "DescriptionStyleModel",
            "description_width": "",
            "_view_module": "@jupyter-widgets/base",
            "_model_module_version": "1.5.0",
            "_view_count": null,
            "_view_module_version": "1.2.0",
            "_model_module": "@jupyter-widgets/controls"
          }
        },
        "2928eef9ecc34e6d84e646a9a50a8e52": {
          "model_module": "@jupyter-widgets/base",
          "model_name": "LayoutModel",
          "state": {
            "_view_name": "LayoutView",
            "grid_template_rows": null,
            "right": null,
            "justify_content": null,
            "_view_module": "@jupyter-widgets/base",
            "overflow": null,
            "_model_module_version": "1.2.0",
            "_view_count": null,
            "flex_flow": null,
            "width": null,
            "min_width": null,
            "border": null,
            "align_items": null,
            "bottom": null,
            "_model_module": "@jupyter-widgets/base",
            "top": null,
            "grid_column": null,
            "overflow_y": null,
            "overflow_x": null,
            "grid_auto_flow": null,
            "grid_area": null,
            "grid_template_columns": null,
            "flex": null,
            "_model_name": "LayoutModel",
            "justify_items": null,
            "grid_row": null,
            "max_height": null,
            "align_content": null,
            "visibility": null,
            "align_self": null,
            "height": null,
            "min_height": null,
            "padding": null,
            "grid_auto_rows": null,
            "grid_gap": null,
            "max_width": null,
            "order": null,
            "_view_module_version": "1.2.0",
            "grid_template_areas": null,
            "object_position": null,
            "object_fit": null,
            "grid_auto_columns": null,
            "margin": null,
            "display": null,
            "left": null
          }
        }
      }
    },
    "accelerator": "GPU"
  },
  "cells": [
    {
      "cell_type": "code",
      "metadata": {
        "id": "fgfQpGtl_92X"
      },
      "source": [
        "import numpy as np\n",
        "import torch\n",
        "import torch.nn as nn\n",
        "import torchvision\n",
        "import matplotlib.pyplot as plt\n",
        "from sklearn.metrics  import confusion_matrix, accuracy_score\n",
        "import pickle"
      ],
      "execution_count": 2,
      "outputs": []
    },
    {
      "cell_type": "code",
      "metadata": {
        "colab": {
          "base_uri": "https://localhost:8080/",
          "height": 790,
          "referenced_widgets": [
            "3b937f7e404a4ea4b79d8e0916a4e6e4",
            "d8c9d09ed6f04efebdf4a952355433a7",
            "a611a54437c94ce698e344ebaf4b88d1",
            "ec436d4034c2439583283898554be7b3",
            "3e1c3aa971b4484d854cec8ee3faf908",
            "865e6a489d724e5a861b09e3484e9faa",
            "a29df5577ab54b27bdcd580ae80fed5f",
            "bf3f61fc90e54304bbe52628b000552c",
            "e0c2a043669440248203faa85cab1060",
            "0bc6ef796b5b40e097c1814d76069815",
            "127192a4c05c440fb0025ea6dc65727d",
            "64c5b06a6d554c3699fa648598c5d351",
            "5ab6debb6c2d4017962554e25b72a380",
            "48417714608c4fce8d7d2cc5b174bbc4",
            "fa76081bbb34453b87223d1ffbda7d0c",
            "6eb376cc38544678bf034e38954ed5d1",
            "8112ef0c774641fbbddd680d2529d9ae",
            "a46c674973db4077832cad71d6102373",
            "77222392779941bab94bdf56174b97c0",
            "6298c3b5b8f94e75b4e675024f0d8d48",
            "c50790b7b441417cae779b85b927772f",
            "121f9663f7c64e7f936f508b7f665961",
            "35b2896172d043f1b96ee6e323c95e97",
            "1df470ab72304544a6d0a386a108e923",
            "21ce46fa9b8e4847a2c580f757cc090f",
            "22d9c3d8f2324b568956fb14e622f222",
            "8387b66711f343a98316153a9a0ff04d",
            "d7b90bbb200248619334e244ee53aa94",
            "70bdb5699254492ea3b8f7baeeba93a5",
            "090740eac5964abaabf8d2dc2554a28f",
            "cd0e78178e714f16bc762c6eebac6cfe",
            "2928eef9ecc34e6d84e646a9a50a8e52"
          ]
        },
        "id": "nMUV8aOy5KSz",
        "outputId": "a3bfd90d-538e-4b5f-d8c8-72d7e72612d5"
      },
      "source": [
        "# Loading MNIST dataset\n",
        "mnist_train = torchvision.datasets.MNIST(\"./data\",train=True,transform=torchvision.transforms.ToTensor(),download=True)\n",
        "mnist_test = torchvision.datasets.MNIST(\"./data\",train=False,transform=torchvision.transforms.ToTensor(),download=True)"
      ],
      "execution_count": 3,
      "outputs": [
        {
          "output_type": "stream",
          "text": [
            "Downloading http://yann.lecun.com/exdb/mnist/train-images-idx3-ubyte.gz\n",
            "Downloading http://yann.lecun.com/exdb/mnist/train-images-idx3-ubyte.gz to ./data/MNIST/raw/train-images-idx3-ubyte.gz\n",
            "Failed to download (trying next):\n",
            "HTTP Error 503: Service Unavailable\n",
            "\n",
            "Downloading https://ossci-datasets.s3.amazonaws.com/mnist/train-images-idx3-ubyte.gz\n",
            "Downloading https://ossci-datasets.s3.amazonaws.com/mnist/train-images-idx3-ubyte.gz to ./data/MNIST/raw/train-images-idx3-ubyte.gz\n"
          ],
          "name": "stdout"
        },
        {
          "output_type": "display_data",
          "data": {
            "application/vnd.jupyter.widget-view+json": {
              "model_id": "3b937f7e404a4ea4b79d8e0916a4e6e4",
              "version_minor": 0,
              "version_major": 2
            },
            "text/plain": [
              "HBox(children=(FloatProgress(value=0.0, max=9912422.0), HTML(value='')))"
            ]
          },
          "metadata": {
            "tags": []
          }
        },
        {
          "output_type": "stream",
          "text": [
            "\n",
            "Extracting ./data/MNIST/raw/train-images-idx3-ubyte.gz to ./data/MNIST/raw\n",
            "\n",
            "Downloading http://yann.lecun.com/exdb/mnist/train-labels-idx1-ubyte.gz\n",
            "Downloading http://yann.lecun.com/exdb/mnist/train-labels-idx1-ubyte.gz to ./data/MNIST/raw/train-labels-idx1-ubyte.gz\n"
          ],
          "name": "stdout"
        },
        {
          "output_type": "display_data",
          "data": {
            "application/vnd.jupyter.widget-view+json": {
              "model_id": "e0c2a043669440248203faa85cab1060",
              "version_minor": 0,
              "version_major": 2
            },
            "text/plain": [
              "HBox(children=(FloatProgress(value=0.0, max=28881.0), HTML(value='')))"
            ]
          },
          "metadata": {
            "tags": []
          }
        },
        {
          "output_type": "stream",
          "text": [
            "\n",
            "Extracting ./data/MNIST/raw/train-labels-idx1-ubyte.gz to ./data/MNIST/raw\n",
            "\n",
            "Downloading http://yann.lecun.com/exdb/mnist/t10k-images-idx3-ubyte.gz\n",
            "Downloading http://yann.lecun.com/exdb/mnist/t10k-images-idx3-ubyte.gz to ./data/MNIST/raw/t10k-images-idx3-ubyte.gz\n",
            "Failed to download (trying next):\n",
            "HTTP Error 503: Service Unavailable\n",
            "\n",
            "Downloading https://ossci-datasets.s3.amazonaws.com/mnist/t10k-images-idx3-ubyte.gz\n",
            "Downloading https://ossci-datasets.s3.amazonaws.com/mnist/t10k-images-idx3-ubyte.gz to ./data/MNIST/raw/t10k-images-idx3-ubyte.gz\n"
          ],
          "name": "stdout"
        },
        {
          "output_type": "display_data",
          "data": {
            "application/vnd.jupyter.widget-view+json": {
              "model_id": "8112ef0c774641fbbddd680d2529d9ae",
              "version_minor": 0,
              "version_major": 2
            },
            "text/plain": [
              "HBox(children=(FloatProgress(value=0.0, max=1648877.0), HTML(value='')))"
            ]
          },
          "metadata": {
            "tags": []
          }
        },
        {
          "output_type": "stream",
          "text": [
            "\n",
            "Extracting ./data/MNIST/raw/t10k-images-idx3-ubyte.gz to ./data/MNIST/raw\n",
            "\n",
            "Downloading http://yann.lecun.com/exdb/mnist/t10k-labels-idx1-ubyte.gz\n",
            "Failed to download (trying next):\n",
            "HTTP Error 503: Service Unavailable\n",
            "\n",
            "Downloading https://ossci-datasets.s3.amazonaws.com/mnist/t10k-labels-idx1-ubyte.gz\n",
            "Downloading https://ossci-datasets.s3.amazonaws.com/mnist/t10k-labels-idx1-ubyte.gz to ./data/MNIST/raw/t10k-labels-idx1-ubyte.gz\n"
          ],
          "name": "stdout"
        },
        {
          "output_type": "display_data",
          "data": {
            "application/vnd.jupyter.widget-view+json": {
              "model_id": "21ce46fa9b8e4847a2c580f757cc090f",
              "version_minor": 0,
              "version_major": 2
            },
            "text/plain": [
              "HBox(children=(FloatProgress(value=0.0, max=4542.0), HTML(value='')))"
            ]
          },
          "metadata": {
            "tags": []
          }
        },
        {
          "output_type": "stream",
          "text": [
            "\n",
            "Extracting ./data/MNIST/raw/t10k-labels-idx1-ubyte.gz to ./data/MNIST/raw\n",
            "\n"
          ],
          "name": "stdout"
        },
        {
          "output_type": "stream",
          "text": [
            "/usr/local/lib/python3.7/dist-packages/torchvision/datasets/mnist.py:498: UserWarning: The given NumPy array is not writeable, and PyTorch does not support non-writeable tensors. This means you can write to the underlying (supposedly non-writeable) NumPy array using the tensor. You may want to copy the array to protect its data or make it writeable before converting it to a tensor. This type of warning will be suppressed for the rest of this program. (Triggered internally at  /pytorch/torch/csrc/utils/tensor_numpy.cpp:180.)\n",
            "  return torch.from_numpy(parsed.astype(m[2], copy=False)).view(*s)\n"
          ],
          "name": "stderr"
        }
      ]
    },
    {
      "cell_type": "code",
      "metadata": {
        "id": "V6M8TKdg5V8H"
      },
      "source": [
        "# Creating DataLoaders\n",
        "dl_train = torch.utils.data.DataLoader(mnist_train,batch_size=128)\n",
        "dl_test = torch.utils.data.DataLoader(mnist_test,batch_size=128)"
      ],
      "execution_count": 4,
      "outputs": []
    },
    {
      "cell_type": "code",
      "metadata": {
        "id": "4rh2ckcPAJfL"
      },
      "source": [
        "# Defining the model\n",
        "model = nn.Sequential(\n",
        "    nn.Linear(784,300),\n",
        "    nn.ReLU(inplace=True),\n",
        "    nn.Linear(300,10)\n",
        ")"
      ],
      "execution_count": 5,
      "outputs": []
    },
    {
      "cell_type": "code",
      "metadata": {
        "id": "eiaCpb6TATgx"
      },
      "source": [
        "# Defining the Optimizer and Loss function\n",
        "optim = torch.optim.Adam(model.parameters(),lr=0.01)\n",
        "crit = nn.CrossEntropyLoss()"
      ],
      "execution_count": null,
      "outputs": []
    },
    {
      "cell_type": "code",
      "metadata": {
        "colab": {
          "base_uri": "https://localhost:8080/"
        },
        "id": "GCxs28tPAx4x",
        "outputId": "e3896082-3e8d-4101-c468-1d487b541ac5"
      },
      "source": [
        "# Training the model\n",
        "# Using CPU\n",
        "# EPOCHS = 50\n",
        "# for epoch in range(EPOCHS):\n",
        "#   acc_loss = 0\n",
        "#   for x,y in dl_train:\n",
        "#     optim.zero_grad()\n",
        "#     x = x.view((-1,784))\n",
        "#     o = model(x)\n",
        "#     l = crit(o,y)\n",
        "#     acc_loss += l \n",
        "#     l.backward()\n",
        "#     optim.step()\n",
        "#   print(acc_loss)\n",
        "\n",
        "\n",
        "# Using GPU\n",
        "dev = torch.device(\"cuda:0\")\n",
        "model = model.to(dev)\n",
        "optim = torch.optim.Adam(model.parameters(),lr=0.01)\n",
        "\n",
        "EPOCHS = 50\n",
        "for epoch in range(EPOCHS):\n",
        "  acc_loss = 0\n",
        "  for x,y in dl_train:\n",
        "    optim.zero_grad()\n",
        "    x = x.view((-1,784)).to(dev)\n",
        "    y = y.to(dev)\n",
        "    o = model(x)\n",
        "    l = crit(o,y)\n",
        "    acc_loss += l \n",
        "    l.backward()\n",
        "    optim.step()\n",
        "  print(acc_loss)"
      ],
      "execution_count": null,
      "outputs": [
        {
          "output_type": "stream",
          "text": [
            "tensor(112.1278, device='cuda:0', grad_fn=<AddBackward0>)\n",
            "tensor(54.7191, device='cuda:0', grad_fn=<AddBackward0>)\n",
            "tensor(42.2588, device='cuda:0', grad_fn=<AddBackward0>)\n",
            "tensor(41.0931, device='cuda:0', grad_fn=<AddBackward0>)\n",
            "tensor(34.5786, device='cuda:0', grad_fn=<AddBackward0>)\n",
            "tensor(31.2220, device='cuda:0', grad_fn=<AddBackward0>)\n",
            "tensor(31.3514, device='cuda:0', grad_fn=<AddBackward0>)\n",
            "tensor(25.3178, device='cuda:0', grad_fn=<AddBackward0>)\n",
            "tensor(24.9093, device='cuda:0', grad_fn=<AddBackward0>)\n",
            "tensor(24.9958, device='cuda:0', grad_fn=<AddBackward0>)\n",
            "tensor(24.5393, device='cuda:0', grad_fn=<AddBackward0>)\n",
            "tensor(25.8176, device='cuda:0', grad_fn=<AddBackward0>)\n",
            "tensor(23.3686, device='cuda:0', grad_fn=<AddBackward0>)\n",
            "tensor(25.3676, device='cuda:0', grad_fn=<AddBackward0>)\n",
            "tensor(18.9281, device='cuda:0', grad_fn=<AddBackward0>)\n",
            "tensor(18.5069, device='cuda:0', grad_fn=<AddBackward0>)\n",
            "tensor(17.9422, device='cuda:0', grad_fn=<AddBackward0>)\n",
            "tensor(20.6851, device='cuda:0', grad_fn=<AddBackward0>)\n",
            "tensor(15.1743, device='cuda:0', grad_fn=<AddBackward0>)\n",
            "tensor(19.8277, device='cuda:0', grad_fn=<AddBackward0>)\n",
            "tensor(20.2265, device='cuda:0', grad_fn=<AddBackward0>)\n",
            "tensor(17.1288, device='cuda:0', grad_fn=<AddBackward0>)\n",
            "tensor(19.6288, device='cuda:0', grad_fn=<AddBackward0>)\n",
            "tensor(17.6025, device='cuda:0', grad_fn=<AddBackward0>)\n",
            "tensor(16.1400, device='cuda:0', grad_fn=<AddBackward0>)\n",
            "tensor(17.6799, device='cuda:0', grad_fn=<AddBackward0>)\n",
            "tensor(20.2046, device='cuda:0', grad_fn=<AddBackward0>)\n",
            "tensor(16.2486, device='cuda:0', grad_fn=<AddBackward0>)\n",
            "tensor(18.7256, device='cuda:0', grad_fn=<AddBackward0>)\n",
            "tensor(16.1723, device='cuda:0', grad_fn=<AddBackward0>)\n",
            "tensor(16.8907, device='cuda:0', grad_fn=<AddBackward0>)\n",
            "tensor(19.3805, device='cuda:0', grad_fn=<AddBackward0>)\n",
            "tensor(12.6310, device='cuda:0', grad_fn=<AddBackward0>)\n",
            "tensor(11.7812, device='cuda:0', grad_fn=<AddBackward0>)\n",
            "tensor(12.5382, device='cuda:0', grad_fn=<AddBackward0>)\n",
            "tensor(14.1917, device='cuda:0', grad_fn=<AddBackward0>)\n",
            "tensor(20.2268, device='cuda:0', grad_fn=<AddBackward0>)\n",
            "tensor(17.2363, device='cuda:0', grad_fn=<AddBackward0>)\n",
            "tensor(13.3491, device='cuda:0', grad_fn=<AddBackward0>)\n",
            "tensor(13.3837, device='cuda:0', grad_fn=<AddBackward0>)\n",
            "tensor(16.2761, device='cuda:0', grad_fn=<AddBackward0>)\n",
            "tensor(22.7305, device='cuda:0', grad_fn=<AddBackward0>)\n",
            "tensor(11.4305, device='cuda:0', grad_fn=<AddBackward0>)\n",
            "tensor(11.9277, device='cuda:0', grad_fn=<AddBackward0>)\n",
            "tensor(12.4534, device='cuda:0', grad_fn=<AddBackward0>)\n",
            "tensor(11.1263, device='cuda:0', grad_fn=<AddBackward0>)\n",
            "tensor(21.7053, device='cuda:0', grad_fn=<AddBackward0>)\n",
            "tensor(17.6151, device='cuda:0', grad_fn=<AddBackward0>)\n",
            "tensor(10.4526, device='cuda:0', grad_fn=<AddBackward0>)\n",
            "tensor(11.9295, device='cuda:0', grad_fn=<AddBackward0>)\n"
          ],
          "name": "stdout"
        }
      ]
    },
    {
      "cell_type": "code",
      "metadata": {
        "id": "-bKjmcdUBG2R"
      },
      "source": [
        "# Testing the model\n",
        "\n",
        "# Using CPU\n",
        "\n",
        "# o = torch.Tensor([])\n",
        "# ground = torch.Tensor([])\n",
        "# for x,y in dl_test:\n",
        "#   tmp_x = x.view((-1,784))\n",
        "#   tmp_o = torch.argmax(model(tmp_x),axis=1)\n",
        "#   o = torch.cat((o,tmp_o))\n",
        "#   ground = torch.cat((ground,y))\n",
        "\n",
        "# Using GPU\n",
        "\n",
        "o = torch.Tensor([])\n",
        "ground = torch.Tensor([])\n",
        "for x,y in dl_test:\n",
        "  tmp_x = x.view((-1,784)).to(dev)\n",
        "  tmp_o = torch.argmax(model(tmp_x),axis=1).cpu()\n",
        "  o = torch.cat((o,tmp_o))\n",
        "  ground = torch.cat((ground,y))"
      ],
      "execution_count": null,
      "outputs": []
    },
    {
      "cell_type": "code",
      "metadata": {
        "colab": {
          "base_uri": "https://localhost:8080/"
        },
        "id": "gs0J0kj5BW3a",
        "outputId": "9045ed88-d19f-4bfc-e3d4-ffbd467c01c6"
      },
      "source": [
        "# Confusion matrix and Accuracy Score of the trained model\n",
        "print(confusion_matrix(ground,o))\n",
        "print(accuracy_score(ground,o))"
      ],
      "execution_count": null,
      "outputs": [
        {
          "output_type": "stream",
          "text": [
            "[[ 972    1    1    0    0    2    3    1    0    0]\n",
            " [   2 1123    1    1    0    1    0    1    6    0]\n",
            " [   3    2 1003    2    7    0    2   10    3    0]\n",
            " [   0    0    6  976    0   16    0    5    4    3]\n",
            " [   1    0    1    0  967    0    5    1    1    6]\n",
            " [   2    0    0    5    2  874    4    1    2    2]\n",
            " [   2    2    1    0    6   12  933    0    2    0]\n",
            " [   1    2    8    2    3    1    0 1003    2    6]\n",
            " [   7    0    6    4    6    4    4    4  936    3]\n",
            " [   2    2    0    4   34    3    0   13    1  950]]\n",
            "0.9737\n"
          ],
          "name": "stdout"
        }
      ]
    },
    {
      "cell_type": "code",
      "metadata": {
        "id": "N0VS6xqdBn8q"
      },
      "source": [
        "# Saving the model\n",
        "torch.save(model,\"mnist_mlp\")"
      ],
      "execution_count": null,
      "outputs": []
    },
    {
      "cell_type": "code",
      "metadata": {
        "id": "oU4H5rQwBVig"
      },
      "source": [
        "# Defining a module that reshapes a Tensor\n",
        "class Reshape(nn.Module):\n",
        "  def __init__(self,new_shape):\n",
        "    super().__init__()\n",
        "    self.new_shape = new_shape\n",
        "  def forward(self,x):\n",
        "    return x.view(self.new_shape)"
      ],
      "execution_count": 7,
      "outputs": []
    },
    {
      "cell_type": "code",
      "metadata": {
        "id": "TIeOKZTIB2hw"
      },
      "source": [
        "# Defining the Convolutional Network\n",
        "model = nn.Sequential(\n",
        "    nn.Conv2d(1,8,4,stride=2),\n",
        "    nn.BatchNorm2d(8),\n",
        "    nn.ReLU(inplace=True),\n",
        "    nn.Conv2d(8,16,3,stride=2),\n",
        "    nn.BatchNorm2d(16),\n",
        "    nn.ReLU(inplace=True),\n",
        "    Reshape((-1,576)),\n",
        "    nn.Linear(576,32),\n",
        "    nn.ReLU(inplace=True),\n",
        "    nn.Linear(32,10)\n",
        ")"
      ],
      "execution_count": null,
      "outputs": []
    },
    {
      "cell_type": "code",
      "metadata": {
        "id": "ayWpzppaCbWT"
      },
      "source": [
        "# Defining the Optimizer and Loss Function\n",
        "optim = torch.optim.Adam(model.parameters(),lr=0.01)\n",
        "crit = nn.CrossEntropyLoss()"
      ],
      "execution_count": null,
      "outputs": []
    },
    {
      "cell_type": "code",
      "metadata": {
        "colab": {
          "base_uri": "https://localhost:8080/"
        },
        "id": "M-25upv4Clc5",
        "outputId": "0d6d51cf-8948-47d7-efdf-d6a32d3670c1"
      },
      "source": [
        "# Training the model\n",
        "\n",
        "# Using CPU\n",
        "# EPOCHS = 20\n",
        "# for epoch in range(EPOCHS):\n",
        "#   acc_loss = 0\n",
        "#   for x,y in dl_train:\n",
        "#     optim.zero_grad()\n",
        "#     o = model(x)\n",
        "#     l = crit(o,y)\n",
        "#     acc_loss += l \n",
        "#     l.backward()\n",
        "#     optim.step()\n",
        "#   print(acc_loss)\n",
        "\n",
        "# Using GPU\n",
        "dev = torch.device(\"cuda:0\")\n",
        "model = model.to(dev)\n",
        "optim = torch.optim.Adam(model.parameters(),lr=0.01)\n",
        "\n",
        "EPOCHS = 20\n",
        "for epoch in range(EPOCHS):\n",
        "  acc_loss = 0\n",
        "  for x,y in dl_train:\n",
        "    optim.zero_grad()\n",
        "    x = x.to(dev)\n",
        "    y = y.to(dev)\n",
        "    o = model(x)\n",
        "    l = crit(o,y)\n",
        "    acc_loss += l \n",
        "    l.backward()\n",
        "    optim.step()\n",
        "  print(acc_loss)"
      ],
      "execution_count": null,
      "outputs": [
        {
          "output_type": "stream",
          "text": [
            "tensor(79.9876, device='cuda:0', grad_fn=<AddBackward0>)\n",
            "tensor(33.4169, device='cuda:0', grad_fn=<AddBackward0>)\n",
            "tensor(24.8853, device='cuda:0', grad_fn=<AddBackward0>)\n",
            "tensor(21.1444, device='cuda:0', grad_fn=<AddBackward0>)\n",
            "tensor(18.5683, device='cuda:0', grad_fn=<AddBackward0>)\n",
            "tensor(17.4677, device='cuda:0', grad_fn=<AddBackward0>)\n",
            "tensor(15.3092, device='cuda:0', grad_fn=<AddBackward0>)\n",
            "tensor(14.0525, device='cuda:0', grad_fn=<AddBackward0>)\n",
            "tensor(13.1859, device='cuda:0', grad_fn=<AddBackward0>)\n",
            "tensor(11.4912, device='cuda:0', grad_fn=<AddBackward0>)\n",
            "tensor(11.2298, device='cuda:0', grad_fn=<AddBackward0>)\n",
            "tensor(11.0377, device='cuda:0', grad_fn=<AddBackward0>)\n",
            "tensor(10.4454, device='cuda:0', grad_fn=<AddBackward0>)\n",
            "tensor(9.3766, device='cuda:0', grad_fn=<AddBackward0>)\n",
            "tensor(8.1630, device='cuda:0', grad_fn=<AddBackward0>)\n",
            "tensor(8.7666, device='cuda:0', grad_fn=<AddBackward0>)\n",
            "tensor(8.8466, device='cuda:0', grad_fn=<AddBackward0>)\n",
            "tensor(9.1121, device='cuda:0', grad_fn=<AddBackward0>)\n",
            "tensor(9.5326, device='cuda:0', grad_fn=<AddBackward0>)\n",
            "tensor(7.1980, device='cuda:0', grad_fn=<AddBackward0>)\n"
          ],
          "name": "stdout"
        }
      ]
    },
    {
      "cell_type": "code",
      "metadata": {
        "id": "KiikLcklCw5i"
      },
      "source": [
        "# Testing the model\n",
        "\n",
        "# Using CPU \n",
        "\n",
        "# o = torch.Tensor([])\n",
        "# ground = torch.Tensor([])\n",
        "# for x,y in dl_test:\n",
        "#   tmp_o = torch.argmax(model(x),axis=1)\n",
        "#   o = torch.cat((o,tmp_o))\n",
        "#   ground = torch.cat((ground,y))\n",
        "\n",
        "# Using GPU\n",
        "\n",
        "o = torch.Tensor([])\n",
        "ground = torch.Tensor([])\n",
        "for x,y in dl_test:\n",
        "  tmp_o = torch.argmax(model(x.to(dev)),axis=1).cpu()\n",
        "  o = torch.cat((o,tmp_o))\n",
        "  ground = torch.cat((ground,y))"
      ],
      "execution_count": null,
      "outputs": []
    },
    {
      "cell_type": "code",
      "metadata": {
        "colab": {
          "base_uri": "https://localhost:8080/"
        },
        "id": "L5LIUBxWDBUm",
        "outputId": "5c8db35b-43b9-467e-ef3d-9d4068b59f23"
      },
      "source": [
        "# Confusion Matrix and Accuracy Score of the trained model\n",
        "print(confusion_matrix(ground,o))\n",
        "print(accuracy_score(ground,o))"
      ],
      "execution_count": null,
      "outputs": [
        {
          "output_type": "stream",
          "text": [
            "[[ 978    0    0    0    0    0    0    0    2    0]\n",
            " [   1 1123    3    0    1    1    3    2    1    0]\n",
            " [   6    1 1018    1    1    0    0    2    3    0]\n",
            " [   1    0    6  989    0    5    0    5    2    2]\n",
            " [   0    1    0    0  965    0    5    0    0   11]\n",
            " [   4    0    0    5    0  873    3    1    0    6]\n",
            " [  10    3    1    0    3    5  932    0    4    0]\n",
            " [   1    3   12    0    2    0    0 1008    1    1]\n",
            " [   4    0    5    3    0    2    1    4  949    6]\n",
            " [   1    0    0    0    9    1    0    6    4  988]]\n",
            "0.9823\n"
          ],
          "name": "stdout"
        }
      ]
    },
    {
      "cell_type": "code",
      "metadata": {
        "id": "dM09ck03DNUo"
      },
      "source": [
        "# Saving the model\n",
        "torch.save(model,\"mnist_cnn\")"
      ],
      "execution_count": null,
      "outputs": []
    },
    {
      "cell_type": "code",
      "metadata": {
        "colab": {
          "base_uri": "https://localhost:8080/",
          "height": 226
        },
        "id": "BCmipQ8eLpln",
        "outputId": "deb2f95c-daa1-404d-e3e0-ad49b33d0587"
      },
      "source": [
        "# Ploting the first filters\n",
        "param = next(iter(model.parameters())).cpu()\n",
        "fig,axs = plt.subplots(nrows=2,ncols=4)\n",
        "for idx in range(8):\n",
        "  axs[idx//4,idx%4].imshow(param[idx][0].detach().numpy(),cmap=\"gray\")\n",
        "  axs[idx//4,idx%4].axes.xaxis.set_visible(False)\n",
        "  axs[idx//4,idx%4].axes.yaxis.set_visible(False)"
      ],
      "execution_count": null,
      "outputs": [
        {
          "output_type": "display_data",
          "data": {
            "image/png": "[encoded data removed]",
            "text/plain": [
              "<Figure size 432x288 with 8 Axes>"
            ]
          },
          "metadata": {
            "tags": [],
            "needs_background": "light"
          }
        }
      ]
    },
    {
      "cell_type": "code",
      "metadata": {
        "id": "kT4PWMFWKuFm"
      },
      "source": [
        "# Resnet Block\n",
        "class BasicResBlock(nn.Module):\n",
        "  def __init__(self,in_channels,out_channels,stride=1):\n",
        "    super().__init__()\n",
        "    self.straight = nn.Sequential(\n",
        "        nn.Conv2d(in_channels,out_channels,3,stride=stride,padding=1,bias=False),\n",
        "        nn.BatchNorm2d(out_channels),\n",
        "        nn.ReLU(inplace=True),\n",
        "        nn.Conv2d(out_channels,out_channels,3,padding=1,bias=False),\n",
        "        nn.BatchNorm2d(out_channels)\n",
        "    )\n",
        "    \n",
        "    if stride==1 and in_channels==out_channels:\n",
        "      self.shortcut = nn.Sequential()\n",
        "    else:\n",
        "      self.shortcut = nn.Sequential(\n",
        "          nn.Conv2d(in_channels,out_channels,1,stride=stride,bias=False),\n",
        "          nn.BatchNorm2d(out_channels)\n",
        "      )\n",
        "    \n",
        "    self.relu = nn.ReLU(inplace=True)\n",
        "  \n",
        "  def forward(self,x):\n",
        "    o = self.straight(x)\n",
        "    s = self.shortcut(x)\n",
        "    return self.relu(o + s)"
      ],
      "execution_count": 8,
      "outputs": []
    },
    {
      "cell_type": "code",
      "metadata": {
        "id": "G9xduYT6Nndx"
      },
      "source": [
        "# Defining the Residual Network\n",
        "model = nn.Sequential(\n",
        "    BasicResBlock(1,8,stride=2),\n",
        "    BasicResBlock(8,16,stride=2),\n",
        "    Reshape((-1,49*16)),\n",
        "    nn.Linear(49*16,32),\n",
        "    nn.ReLU(inplace=True),\n",
        "    nn.Linear(32,10)\n",
        ")"
      ],
      "execution_count": null,
      "outputs": []
    },
    {
      "cell_type": "code",
      "metadata": {
        "id": "r_-5VZzhOkZU"
      },
      "source": [
        "# Defining the Optimizer and Loss Function\n",
        "optim = torch.optim.Adam(model.parameters(),lr=0.01)\n",
        "crit = nn.CrossEntropyLoss()"
      ],
      "execution_count": null,
      "outputs": []
    },
    {
      "cell_type": "code",
      "metadata": {
        "colab": {
          "base_uri": "https://localhost:8080/"
        },
        "id": "f1xtHLiBOxwe",
        "outputId": "a68e067e-d1af-47d1-dc59-6d1010a460fd"
      },
      "source": [
        "# Training the model\n",
        "\n",
        "# Using CPU\n",
        "# EPOCHS = 20\n",
        "# for epoch in range(EPOCHS):\n",
        "#   acc_loss = 0\n",
        "#   for x,y in dl_train:\n",
        "#     optim.zero_grad()\n",
        "#     o = model(x)\n",
        "#     l = crit(o,y)\n",
        "#     acc_loss += l \n",
        "#     l.backward()\n",
        "#     optim.step()\n",
        "#   print(acc_loss)\n",
        "\n",
        "# Using GPU\n",
        "dev = torch.device(\"cuda:0\")\n",
        "model = model.to(dev)\n",
        "optim = torch.optim.Adam(model.parameters(),lr=0.01)\n",
        "\n",
        "EPOCHS = 20\n",
        "for epoch in range(EPOCHS):\n",
        "  acc_loss = 0\n",
        "  for x,y in dl_train:\n",
        "    optim.zero_grad()\n",
        "    x = x.to(dev)\n",
        "    y = y.to(dev)\n",
        "    o = model(x)\n",
        "    l = crit(o,y)\n",
        "    acc_loss += l \n",
        "    l.backward()\n",
        "    optim.step()\n",
        "  print(acc_loss)"
      ],
      "execution_count": null,
      "outputs": [
        {
          "output_type": "stream",
          "text": [
            "tensor(79.1671, device='cuda:0', grad_fn=<AddBackward0>)\n",
            "tensor(29.6144, device='cuda:0', grad_fn=<AddBackward0>)\n",
            "tensor(21.9178, device='cuda:0', grad_fn=<AddBackward0>)\n",
            "tensor(18.2712, device='cuda:0', grad_fn=<AddBackward0>)\n",
            "tensor(15.6548, device='cuda:0', grad_fn=<AddBackward0>)\n",
            "tensor(13.9083, device='cuda:0', grad_fn=<AddBackward0>)\n",
            "tensor(12.7224, device='cuda:0', grad_fn=<AddBackward0>)\n",
            "tensor(12.1868, device='cuda:0', grad_fn=<AddBackward0>)\n",
            "tensor(11.5496, device='cuda:0', grad_fn=<AddBackward0>)\n",
            "tensor(10.2705, device='cuda:0', grad_fn=<AddBackward0>)\n",
            "tensor(11.3986, device='cuda:0', grad_fn=<AddBackward0>)\n",
            "tensor(9.9862, device='cuda:0', grad_fn=<AddBackward0>)\n",
            "tensor(9.4205, device='cuda:0', grad_fn=<AddBackward0>)\n",
            "tensor(9.8832, device='cuda:0', grad_fn=<AddBackward0>)\n",
            "tensor(9.0733, device='cuda:0', grad_fn=<AddBackward0>)\n",
            "tensor(8.0530, device='cuda:0', grad_fn=<AddBackward0>)\n",
            "tensor(7.9781, device='cuda:0', grad_fn=<AddBackward0>)\n",
            "tensor(9.0046, device='cuda:0', grad_fn=<AddBackward0>)\n",
            "tensor(6.8642, device='cuda:0', grad_fn=<AddBackward0>)\n",
            "tensor(7.3396, device='cuda:0', grad_fn=<AddBackward0>)\n"
          ],
          "name": "stdout"
        }
      ]
    },
    {
      "cell_type": "code",
      "metadata": {
        "id": "McNt0TM4O1jz"
      },
      "source": [
        "# Testing the model\n",
        "\n",
        "# Using CPU \n",
        "\n",
        "# o = torch.Tensor([])\n",
        "# ground = torch.Tensor([])\n",
        "# for x,y in dl_test:\n",
        "#   tmp_o = torch.argmax(model(x),axis=1)\n",
        "#   o = torch.cat((o,tmp_o))\n",
        "#   ground = torch.cat((ground,y))\n",
        "\n",
        "# Using GPU\n",
        "\n",
        "o = torch.Tensor([])\n",
        "ground = torch.Tensor([])\n",
        "for x,y in dl_test:\n",
        "  tmp_o = torch.argmax(model(x.to(dev)),axis=1).cpu()\n",
        "  o = torch.cat((o,tmp_o))\n",
        "  ground = torch.cat((ground,y))"
      ],
      "execution_count": null,
      "outputs": []
    },
    {
      "cell_type": "code",
      "metadata": {
        "colab": {
          "base_uri": "https://localhost:8080/"
        },
        "id": "3jryuWgcPYcv",
        "outputId": "fe244373-5386-49a9-f609-719cd0692aa3"
      },
      "source": [
        "# Confusion Matrix and Accuracy Score of the trained model\n",
        "print(confusion_matrix(ground,o))\n",
        "print(accuracy_score(ground,o))"
      ],
      "execution_count": null,
      "outputs": [
        {
          "output_type": "stream",
          "text": [
            "[[ 974    0    0    0    0    0    2    1    2    1]\n",
            " [   2 1128    1    0    0    0    0    4    0    0]\n",
            " [   2    0 1018    1    2    0    1    8    0    0]\n",
            " [   0    0    1 1002    0    5    0    1    1    0]\n",
            " [   0    1    0    0  971    0    1    0    1    8]\n",
            " [   0    0    0    6    0  880    3    0    2    1]\n",
            " [   3    1    0    1    2    1  947    0    3    0]\n",
            " [   0    2    1    1    1    0    0 1019    2    2]\n",
            " [   0    0    1    4    2    1    1    1  956    8]\n",
            " [   0    2    1    0   11    4    0    4    1  986]]\n",
            "0.9881\n"
          ],
          "name": "stdout"
        }
      ]
    },
    {
      "cell_type": "code",
      "metadata": {
        "id": "3cuXej9GPZi6"
      },
      "source": [
        "# Saving the model\n",
        "torch.save(model,\"mnist_resnet\")"
      ],
      "execution_count": null,
      "outputs": []
    },
    {
      "cell_type": "code",
      "metadata": {
        "id": "GrAuWj9lP5be",
        "colab": {
          "base_uri": "https://localhost:8080/"
        },
        "outputId": "b41736a1-5a8b-4cf7-939c-7d42ecace43b"
      },
      "source": [
        "# Check the model\n",
        "model.eval()"
      ],
      "execution_count": null,
      "outputs": [
        {
          "output_type": "execute_result",
          "data": {
            "text/plain": [
              "Sequential(\n",
              "  (0): BasicResBlock(\n",
              "    (straight): Sequential(\n",
              "      (0): Conv2d(1, 8, kernel_size=(3, 3), stride=(2, 2), padding=(1, 1), bias=False)\n",
              "      (1): BatchNorm2d(8, eps=1e-05, momentum=0.1, affine=True, track_running_stats=True)\n",
              "      (2): ReLU(inplace=True)\n",
              "      (3): Conv2d(8, 8, kernel_size=(3, 3), stride=(1, 1), padding=(1, 1), bias=False)\n",
              "      (4): BatchNorm2d(8, eps=1e-05, momentum=0.1, affine=True, track_running_stats=True)\n",
              "    )\n",
              "    (shortcut): Sequential(\n",
              "      (0): Conv2d(1, 8, kernel_size=(1, 1), stride=(2, 2), bias=False)\n",
              "      (1): BatchNorm2d(8, eps=1e-05, momentum=0.1, affine=True, track_running_stats=True)\n",
              "    )\n",
              "    (relu): ReLU(inplace=True)\n",
              "  )\n",
              "  (1): BasicResBlock(\n",
              "    (straight): Sequential(\n",
              "      (0): Conv2d(8, 16, kernel_size=(3, 3), stride=(2, 2), padding=(1, 1), bias=False)\n",
              "      (1): BatchNorm2d(16, eps=1e-05, momentum=0.1, affine=True, track_running_stats=True)\n",
              "      (2): ReLU(inplace=True)\n",
              "      (3): Conv2d(16, 16, kernel_size=(3, 3), stride=(1, 1), padding=(1, 1), bias=False)\n",
              "      (4): BatchNorm2d(16, eps=1e-05, momentum=0.1, affine=True, track_running_stats=True)\n",
              "    )\n",
              "    (shortcut): Sequential(\n",
              "      (0): Conv2d(8, 16, kernel_size=(1, 1), stride=(2, 2), bias=False)\n",
              "      (1): BatchNorm2d(16, eps=1e-05, momentum=0.1, affine=True, track_running_stats=True)\n",
              "    )\n",
              "    (relu): ReLU(inplace=True)\n",
              "  )\n",
              "  (2): Reshape()\n",
              "  (3): Linear(in_features=784, out_features=32, bias=True)\n",
              "  (4): ReLU(inplace=True)\n",
              "  (5): Linear(in_features=32, out_features=10, bias=True)\n",
              ")"
            ]
          },
          "metadata": {
            "tags": []
          },
          "execution_count": 30
        }
      ]
    },
    {
      "cell_type": "code",
      "metadata": {
        "colab": {
          "base_uri": "https://localhost:8080/",
          "height": 226
        },
        "id": "Hd0N07GEM_XI",
        "outputId": "22ca01cb-f8cd-464b-da22-c5d93ddf67e3"
      },
      "source": [
        "# Ploting the first filters\n",
        "param = next(iter(model.parameters())).cpu()\n",
        "fig,axs = plt.subplots(nrows=2,ncols=4)\n",
        "for idx in range(8):\n",
        "  axs[idx//4,idx%4].imshow(param[idx][0].detach().numpy(),cmap=\"gray\")\n",
        "  axs[idx//4,idx%4].axes.xaxis.set_visible(False)\n",
        "  axs[idx//4,idx%4].axes.yaxis.set_visible(False)"
      ],
      "execution_count": null,
      "outputs": [
        {
          "output_type": "display_data",
          "data": {
            "image/png": "[encoded data removed]",
            "text/plain": [
              "<Figure size 432x288 with 8 Axes>"
            ]
          },
          "metadata": {
            "tags": [],
            "needs_background": "light"
          }
        }
      ]
    },
    {
      "cell_type": "code",
      "metadata": {
        "id": "QjpNI8TbQ6hL"
      },
      "source": [
        "# Visualizing how parameters are uptaded\n",
        "\n",
        "# Defining the MLP model\n",
        "model_mlp = nn.Sequential(\n",
        "    nn.Linear(784,300),\n",
        "    nn.ReLU(inplace=True),\n",
        "    nn.Linear(300,10)\n",
        ")\n",
        "\n",
        "# Defining the Convolutional Network\n",
        "model_cnn = nn.Sequential(\n",
        "    nn.Conv2d(1,8,4,stride=2),\n",
        "    nn.BatchNorm2d(8),\n",
        "    nn.ReLU(inplace=True),\n",
        "    nn.Conv2d(8,16,3,stride=2),\n",
        "    nn.BatchNorm2d(16),\n",
        "    nn.ReLU(inplace=True),\n",
        "    Reshape((-1,576)),\n",
        "    nn.Linear(576,32),\n",
        "    nn.ReLU(inplace=True),\n",
        "    nn.Linear(32,10)\n",
        ")\n",
        "\n",
        "# Defining the Residual Network\n",
        "model_res = nn.Sequential(\n",
        "    BasicResBlock(1,8,stride=2),\n",
        "    BasicResBlock(8,16,stride=2),\n",
        "    Reshape((-1,49*16)),\n",
        "    nn.Linear(49*16,32),\n",
        "    nn.ReLU(inplace=True),\n",
        "    nn.Linear(32,10)\n",
        ")"
      ],
      "execution_count": 9,
      "outputs": []
    },
    {
      "cell_type": "code",
      "metadata": {
        "id": "0-F-xovtX5j5"
      },
      "source": [
        "def get_parameters(model):\n",
        "  tmp = torch.tensor([])\n",
        "  for param in model.parameters():\n",
        "    tmp = torch.cat((tmp,param.cpu().view(-1)))\n",
        "  return tmp.view((1,-1))"
      ],
      "execution_count": 10,
      "outputs": []
    },
    {
      "cell_type": "code",
      "metadata": {
        "colab": {
          "base_uri": "https://localhost:8080/"
        },
        "id": "JYMTRYW4XK6h",
        "outputId": "1023d3cb-890a-4b18-8497-8cdd1ee654fb"
      },
      "source": [
        "# Using GPU\n",
        "dev = torch.device(\"cuda:0\")\n",
        "model_mlp = model_mlp.to(dev)\n",
        "model_cnn = model_cnn.to(dev)\n",
        "model_res = model_res.to(dev)\n",
        "\n",
        "optim_mlp = torch.optim.Adam(model_mlp.parameters(),lr=0.01)\n",
        "optim_cnn = torch.optim.Adam(model_cnn.parameters(),lr=0.01)\n",
        "optim_res = torch.optim.Adam(model_res.parameters(),lr=0.01)\n",
        "\n",
        "crit = nn.CrossEntropyLoss()\n",
        "\n",
        "w_mlp = torch.tensor([])\n",
        "w_cnn = torch.tensor([])\n",
        "w_res = torch.tensor([])\n",
        "\n",
        "EPOCHS = 20\n",
        "for epoch in range(EPOCHS):\n",
        "  for x,y in dl_train:\n",
        "    optim_mlp.zero_grad()\n",
        "    optim_cnn.zero_grad()\n",
        "    optim_res.zero_grad()\n",
        "\n",
        "    x = x.to(dev)\n",
        "    y = y.to(dev)\n",
        "\n",
        "    o = model_mlp(x.view((-1,784)))\n",
        "    l = crit(o,y)\n",
        "    l.backward()\n",
        "    optim_mlp.step()\n",
        "\n",
        "    o = model_cnn(x)\n",
        "    l = crit(o,y)\n",
        "    l.backward()\n",
        "    optim_cnn.step()\n",
        "\n",
        "    o = model_res(x)\n",
        "    l = crit(o,y)\n",
        "    l.backward()\n",
        "    optim_res.step()\n",
        "\n",
        "  w_mlp = torch.cat((w_mlp,get_parameters(model_mlp)))\n",
        "  w_cnn = torch.cat((w_cnn,get_parameters(model_cnn)))\n",
        "  w_res = torch.cat((w_res,get_parameters(model_res)))\n",
        "  print(epoch)"
      ],
      "execution_count": 14,
      "outputs": [
        {
          "output_type": "stream",
          "text": [
            "0\n",
            "1\n",
            "2\n",
            "3\n",
            "4\n",
            "5\n",
            "6\n",
            "7\n",
            "8\n",
            "9\n",
            "10\n",
            "11\n",
            "12\n",
            "13\n",
            "14\n",
            "15\n",
            "16\n",
            "17\n",
            "18\n",
            "19\n"
          ],
          "name": "stdout"
        }
      ]
    },
    {
      "cell_type": "code",
      "metadata": {
        "id": "knjvUW0OZDi9"
      },
      "source": [
        "from sklearn.decomposition import PCA"
      ],
      "execution_count": 15,
      "outputs": []
    },
    {
      "cell_type": "code",
      "metadata": {
        "colab": {
          "base_uri": "https://localhost:8080/"
        },
        "id": "Ea4SBL4xa51d",
        "outputId": "61374bd4-a514-4508-f7fa-b147e36cf097"
      },
      "source": [
        "o = torch.Tensor([])\n",
        "ground = torch.Tensor([])\n",
        "for x,y in dl_test:\n",
        "  tmp_o = torch.argmax(model_mlp(x.to(dev).view((-1,784))),axis=1).cpu()\n",
        "  o = torch.cat((o,tmp_o))\n",
        "  ground = torch.cat((ground,y))\n",
        "\n",
        "# Confusion Matrix and Accuracy Score of the trained model\n",
        "print(\"MLP model\")\n",
        "print(confusion_matrix(ground,o))\n",
        "print(accuracy_score(ground,o))\n",
        "\n",
        "o = torch.Tensor([])\n",
        "ground = torch.Tensor([])\n",
        "for x,y in dl_test:\n",
        "  tmp_o = torch.argmax(model_cnn(x.to(dev)),axis=1).cpu()\n",
        "  o = torch.cat((o,tmp_o))\n",
        "  ground = torch.cat((ground,y))\n",
        "\n",
        "# Confusion Matrix and Accuracy Score of the trained model\n",
        "print(\"CNN model\")\n",
        "print(confusion_matrix(ground,o))\n",
        "print(accuracy_score(ground,o))\n",
        "\n",
        "o = torch.Tensor([])\n",
        "ground = torch.Tensor([])\n",
        "for x,y in dl_test:\n",
        "  tmp_o = torch.argmax(model_res(x.to(dev)),axis=1).cpu()\n",
        "  o = torch.cat((o,tmp_o))\n",
        "  ground = torch.cat((ground,y))\n",
        "\n",
        "# Confusion Matrix and Accuracy Score of the trained model\n",
        "print(\"ResNet model\")\n",
        "print(confusion_matrix(ground,o))\n",
        "print(accuracy_score(ground,o))"
      ],
      "execution_count": 32,
      "outputs": [
        {
          "output_type": "stream",
          "text": [
            "MLP model\n",
            "[[ 968    0    1    1    1    4    0    3    2    0]\n",
            " [   6 1114    1    1    2    1    5    1    4    0]\n",
            " [   4    2  999    5    4    0    5    5    5    3]\n",
            " [   4    0    6  958    1   29    0    4    5    3]\n",
            " [   1    0    4    0  966    0    2    0    1    8]\n",
            " [   3    0    0    6    0  873    5    2    0    3]\n",
            " [   9    2    0    0    9   11  923    0    4    0]\n",
            " [   1    1   12    3    6    4    0  993    1    7]\n",
            " [  12    2    8    4    8   16    4    2  915    3]\n",
            " [   1    3    1    3   26   11    0    7    3  954]]\n",
            "0.9663\n",
            "CNN model\n",
            "[[ 974    0    1    0    0    1    2    1    1    0]\n",
            " [   0 1126    0    1    0    5    0    2    1    0]\n",
            " [   8    3 1013    2    1    0    1    2    2    0]\n",
            " [   2    0    5  986    0   13    0    1    2    1]\n",
            " [   1    0    2    0  962    0    4    0    1   12]\n",
            " [   2    0    0    7    1  882    0    0    0    0]\n",
            " [   4    3    1    1    1   14  932    0    2    0]\n",
            " [   0    5   11    3    4    0    0 1002    1    2]\n",
            " [   4    2    2    4    2    5    0    1  952    2]\n",
            " [   2    3    0    6    5    6    1    2    6  978]]\n",
            "0.9807\n",
            "ResNet model\n",
            "[[ 977    0    0    0    0    0    1    1    0    1]\n",
            " [   0 1132    1    0    0    0    0    2    0    0]\n",
            " [   1    0 1022    2    1    0    0    4    2    0]\n",
            " [   0    1    0 1005    0    2    0    1    1    0]\n",
            " [   0    0    1    0  967    0    0    0    1   13]\n",
            " [   2    0    0    7    1  876    2    0    1    3]\n",
            " [   4    4    0    0    4    2  940    1    3    0]\n",
            " [   0    3    8    3    1    1    0 1005    2    5]\n",
            " [   0    0    2    2    1    4    0    1  958    6]\n",
            " [   0    0    0    1    6    3    0    6    5  988]]\n",
            "0.987\n"
          ],
          "name": "stdout"
        }
      ]
    },
    {
      "cell_type": "code",
      "metadata": {
        "id": "DWGqfwd3a8-5"
      },
      "source": [
        "# Reducing the dimension of the parameters (for visualization)\n",
        "pca = PCA(n_components=2)\n",
        "w_mlp_reduced = pca.fit_transform(w_mlp.detach().numpy())\n",
        "pca = PCA(n_components=2)\n",
        "w_cnn_reduced = pca.fit_transform(w_cnn.detach().numpy())\n",
        "pca = PCA(n_components=2)\n",
        "w_res_reduced = pca.fit_transform(w_res.detach().numpy())"
      ],
      "execution_count": 17,
      "outputs": []
    },
    {
      "cell_type": "code",
      "metadata": {
        "colab": {
          "base_uri": "https://localhost:8080/",
          "height": 282
        },
        "id": "5cCd7Dw8bIiD",
        "outputId": "fd677a4c-a422-45b3-91fe-5bd9d816ac23"
      },
      "source": [
        "# Plotting models' parameters evolution during training\n",
        "plt.scatter(w_mlp_reduced[:,0],w_mlp_reduced[:,1],label=\"mlp\")\n",
        "plt.scatter(w_cnn_reduced[:,0],w_cnn_reduced[:,1],label='cnn')\n",
        "plt.scatter(w_res_reduced[:,0],w_res_reduced[:,1],label='res')\n",
        "plt.legend()"
      ],
      "execution_count": 23,
      "outputs": [
        {
          "output_type": "execute_result",
          "data": {
            "text/plain": [
              "<matplotlib.legend.Legend at 0x7fdde01b2f10>"
            ]
          },
          "metadata": {
            "tags": []
          },
          "execution_count": 23
        },
        {
          "output_type": "display_data",
          "data": {
            "image/png": "[encoded data removed]",
            "text/plain": [
              "<Figure size 432x288 with 1 Axes>"
            ]
          },
          "metadata": {
            "tags": [],
            "needs_background": "light"
          }
        }
      ]
    },
    {
      "cell_type": "code",
      "metadata": {
        "id": "wrex9HCuH213"
      },
      "source": [
        "torch.save(w_mlp,\"param_hist_mlp\")\n",
        "torch.save(w_cnn,\"param_hist_cnn\")\n",
        "torch.save(w_res,\"param_hist_res\")"
      ],
      "execution_count": 34,
      "outputs": []
    }
  ]
}