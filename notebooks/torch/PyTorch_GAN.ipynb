{
  "nbformat": 4,
  "nbformat_minor": 0,
  "metadata": {
    "colab": {
      "name": "PyTorch_GAN.ipynb",
      "provenance": [],
      "collapsed_sections": []
    },
    "kernelspec": {
      "name": "python3",
      "display_name": "Python 3"
    },
    "language_info": {
      "name": "python"
    },
    "accelerator": "GPU",
    "widgets": {
      "application/vnd.jupyter.widget-state+json": {
        "3f432b74a34141c7b10331ed6c85d408": {
          "model_module": "@jupyter-widgets/controls",
          "model_name": "HBoxModel",
          "state": {
            "_view_name": "HBoxView",
            "_dom_classes": [],
            "_model_name": "HBoxModel",
            "_view_module": "@jupyter-widgets/controls",
            "_model_module_version": "1.5.0",
            "_view_count": null,
            "_view_module_version": "1.5.0",
            "box_style": "",
            "layout": "IPY_MODEL_67e887496fed409c92f4fb83d7ad5a9f",
            "_model_module": "@jupyter-widgets/controls",
            "children": [
              "IPY_MODEL_9119601ed7b3407a83ccb893ee19f5c5",
              "IPY_MODEL_e971562a4a7a4a6fa5eedfce0b35c2e1"
            ]
          }
        },
        "67e887496fed409c92f4fb83d7ad5a9f": {
          "model_module": "@jupyter-widgets/base",
          "model_name": "LayoutModel",
          "state": {
            "_view_name": "LayoutView",
            "grid_template_rows": null,
            "right": null,
            "justify_content": null,
            "_view_module": "@jupyter-widgets/base",
            "overflow": null,
            "_model_module_version": "1.2.0",
            "_view_count": null,
            "flex_flow": null,
            "width": null,
            "min_width": null,
            "border": null,
            "align_items": null,
            "bottom": null,
            "_model_module": "@jupyter-widgets/base",
            "top": null,
            "grid_column": null,
            "overflow_y": null,
            "overflow_x": null,
            "grid_auto_flow": null,
            "grid_area": null,
            "grid_template_columns": null,
            "flex": null,
            "_model_name": "LayoutModel",
            "justify_items": null,
            "grid_row": null,
            "max_height": null,
            "align_content": null,
            "visibility": null,
            "align_self": null,
            "height": null,
            "min_height": null,
            "padding": null,
            "grid_auto_rows": null,
            "grid_gap": null,
            "max_width": null,
            "order": null,
            "_view_module_version": "1.2.0",
            "grid_template_areas": null,
            "object_position": null,
            "object_fit": null,
            "grid_auto_columns": null,
            "margin": null,
            "display": null,
            "left": null
          }
        },
        "9119601ed7b3407a83ccb893ee19f5c5": {
          "model_module": "@jupyter-widgets/controls",
          "model_name": "FloatProgressModel",
          "state": {
            "_view_name": "ProgressView",
            "style": "IPY_MODEL_a9d412938a6c48389d75b3429ea12e08",
            "_dom_classes": [],
            "description": "",
            "_model_name": "FloatProgressModel",
            "bar_style": "success",
            "max": 9912422,
            "_view_module": "@jupyter-widgets/controls",
            "_model_module_version": "1.5.0",
            "value": 9912422,
            "_view_count": null,
            "_view_module_version": "1.5.0",
            "orientation": "horizontal",
            "min": 0,
            "description_tooltip": null,
            "_model_module": "@jupyter-widgets/controls",
            "layout": "IPY_MODEL_2e6d69984486480f9c5095ad1c2f44ca"
          }
        },
        "e971562a4a7a4a6fa5eedfce0b35c2e1": {
          "model_module": "@jupyter-widgets/controls",
          "model_name": "HTMLModel",
          "state": {
            "_view_name": "HTMLView",
            "style": "IPY_MODEL_e3e300631114428698cc1971a73d8673",
            "_dom_classes": [],
            "description": "",
            "_model_name": "HTMLModel",
            "placeholder": "​",
            "_view_module": "@jupyter-widgets/controls",
            "_model_module_version": "1.5.0",
            "value": " 9913344/? [06:05&lt;00:00, 27120.97it/s]",
            "_view_count": null,
            "_view_module_version": "1.5.0",
            "description_tooltip": null,
            "_model_module": "@jupyter-widgets/controls",
            "layout": "IPY_MODEL_2209893d3fad43ea8a3d29905839a637"
          }
        },
        "a9d412938a6c48389d75b3429ea12e08": {
          "model_module": "@jupyter-widgets/controls",
          "model_name": "ProgressStyleModel",
          "state": {
            "_view_name": "StyleView",
            "_model_name": "ProgressStyleModel",
            "description_width": "initial",
            "_view_module": "@jupyter-widgets/base",
            "_model_module_version": "1.5.0",
            "_view_count": null,
            "_view_module_version": "1.2.0",
            "bar_color": null,
            "_model_module": "@jupyter-widgets/controls"
          }
        },
        "2e6d69984486480f9c5095ad1c2f44ca": {
          "model_module": "@jupyter-widgets/base",
          "model_name": "LayoutModel",
          "state": {
            "_view_name": "LayoutView",
            "grid_template_rows": null,
            "right": null,
            "justify_content": null,
            "_view_module": "@jupyter-widgets/base",
            "overflow": null,
            "_model_module_version": "1.2.0",
            "_view_count": null,
            "flex_flow": null,
            "width": null,
            "min_width": null,
            "border": null,
            "align_items": null,
            "bottom": null,
            "_model_module": "@jupyter-widgets/base",
            "top": null,
            "grid_column": null,
            "overflow_y": null,
            "overflow_x": null,
            "grid_auto_flow": null,
            "grid_area": null,
            "grid_template_columns": null,
            "flex": null,
            "_model_name": "LayoutModel",
            "justify_items": null,
            "grid_row": null,
            "max_height": null,
            "align_content": null,
            "visibility": null,
            "align_self": null,
            "height": null,
            "min_height": null,
            "padding": null,
            "grid_auto_rows": null,
            "grid_gap": null,
            "max_width": null,
            "order": null,
            "_view_module_version": "1.2.0",
            "grid_template_areas": null,
            "object_position": null,
            "object_fit": null,
            "grid_auto_columns": null,
            "margin": null,
            "display": null,
            "left": null
          }
        },
        "e3e300631114428698cc1971a73d8673": {
          "model_module": "@jupyter-widgets/controls",
          "model_name": "DescriptionStyleModel",
          "state": {
            "_view_name": "StyleView",
            "_model_name": "DescriptionStyleModel",
            "description_width": "",
            "_view_module": "@jupyter-widgets/base",
            "_model_module_version": "1.5.0",
            "_view_count": null,
            "_view_module_version": "1.2.0",
            "_model_module": "@jupyter-widgets/controls"
          }
        },
        "2209893d3fad43ea8a3d29905839a637": {
          "model_module": "@jupyter-widgets/base",
          "model_name": "LayoutModel",
          "state": {
            "_view_name": "LayoutView",
            "grid_template_rows": null,
            "right": null,
            "justify_content": null,
            "_view_module": "@jupyter-widgets/base",
            "overflow": null,
            "_model_module_version": "1.2.0",
            "_view_count": null,
            "flex_flow": null,
            "width": null,
            "min_width": null,
            "border": null,
            "align_items": null,
            "bottom": null,
            "_model_module": "@jupyter-widgets/base",
            "top": null,
            "grid_column": null,
            "overflow_y": null,
            "overflow_x": null,
            "grid_auto_flow": null,
            "grid_area": null,
            "grid_template_columns": null,
            "flex": null,
            "_model_name": "LayoutModel",
            "justify_items": null,
            "grid_row": null,
            "max_height": null,
            "align_content": null,
            "visibility": null,
            "align_self": null,
            "height": null,
            "min_height": null,
            "padding": null,
            "grid_auto_rows": null,
            "grid_gap": null,
            "max_width": null,
            "order": null,
            "_view_module_version": "1.2.0",
            "grid_template_areas": null,
            "object_position": null,
            "object_fit": null,
            "grid_auto_columns": null,
            "margin": null,
            "display": null,
            "left": null
          }
        },
        "d89dfbfacf8f47c891920d25e1dd8410": {
          "model_module": "@jupyter-widgets/controls",
          "model_name": "HBoxModel",
          "state": {
            "_view_name": "HBoxView",
            "_dom_classes": [],
            "_model_name": "HBoxModel",
            "_view_module": "@jupyter-widgets/controls",
            "_model_module_version": "1.5.0",
            "_view_count": null,
            "_view_module_version": "1.5.0",
            "box_style": "",
            "layout": "IPY_MODEL_0aea80838cb8427f8b1af1a07491cf18",
            "_model_module": "@jupyter-widgets/controls",
            "children": [
              "IPY_MODEL_ed1475310acf4594a13968b2c9290959",
              "IPY_MODEL_1ae2308ce8af476fb2ff8d50c692801c"
            ]
          }
        },
        "0aea80838cb8427f8b1af1a07491cf18": {
          "model_module": "@jupyter-widgets/base",
          "model_name": "LayoutModel",
          "state": {
            "_view_name": "LayoutView",
            "grid_template_rows": null,
            "right": null,
            "justify_content": null,
            "_view_module": "@jupyter-widgets/base",
            "overflow": null,
            "_model_module_version": "1.2.0",
            "_view_count": null,
            "flex_flow": null,
            "width": null,
            "min_width": null,
            "border": null,
            "align_items": null,
            "bottom": null,
            "_model_module": "@jupyter-widgets/base",
            "top": null,
            "grid_column": null,
            "overflow_y": null,
            "overflow_x": null,
            "grid_auto_flow": null,
            "grid_area": null,
            "grid_template_columns": null,
            "flex": null,
            "_model_name": "LayoutModel",
            "justify_items": null,
            "grid_row": null,
            "max_height": null,
            "align_content": null,
            "visibility": null,
            "align_self": null,
            "height": null,
            "min_height": null,
            "padding": null,
            "grid_auto_rows": null,
            "grid_gap": null,
            "max_width": null,
            "order": null,
            "_view_module_version": "1.2.0",
            "grid_template_areas": null,
            "object_position": null,
            "object_fit": null,
            "grid_auto_columns": null,
            "margin": null,
            "display": null,
            "left": null
          }
        },
        "ed1475310acf4594a13968b2c9290959": {
          "model_module": "@jupyter-widgets/controls",
          "model_name": "FloatProgressModel",
          "state": {
            "_view_name": "ProgressView",
            "style": "IPY_MODEL_0b332458136b4299aadf5180b36f44e5",
            "_dom_classes": [],
            "description": "",
            "_model_name": "FloatProgressModel",
            "bar_style": "success",
            "max": 28881,
            "_view_module": "@jupyter-widgets/controls",
            "_model_module_version": "1.5.0",
            "value": 28881,
            "_view_count": null,
            "_view_module_version": "1.5.0",
            "orientation": "horizontal",
            "min": 0,
            "description_tooltip": null,
            "_model_module": "@jupyter-widgets/controls",
            "layout": "IPY_MODEL_9b7f7830570449cf9e14fdcc23eec06e"
          }
        },
        "1ae2308ce8af476fb2ff8d50c692801c": {
          "model_module": "@jupyter-widgets/controls",
          "model_name": "HTMLModel",
          "state": {
            "_view_name": "HTMLView",
            "style": "IPY_MODEL_878df2e09c754fc48f4ac18c51428340",
            "_dom_classes": [],
            "description": "",
            "_model_name": "HTMLModel",
            "placeholder": "​",
            "_view_module": "@jupyter-widgets/controls",
            "_model_module_version": "1.5.0",
            "value": " 29696/? [01:09&lt;00:00, 427.10it/s]",
            "_view_count": null,
            "_view_module_version": "1.5.0",
            "description_tooltip": null,
            "_model_module": "@jupyter-widgets/controls",
            "layout": "IPY_MODEL_2c43f394a240456e8200aea79c0566eb"
          }
        },
        "0b332458136b4299aadf5180b36f44e5": {
          "model_module": "@jupyter-widgets/controls",
          "model_name": "ProgressStyleModel",
          "state": {
            "_view_name": "StyleView",
            "_model_name": "ProgressStyleModel",
            "description_width": "initial",
            "_view_module": "@jupyter-widgets/base",
            "_model_module_version": "1.5.0",
            "_view_count": null,
            "_view_module_version": "1.2.0",
            "bar_color": null,
            "_model_module": "@jupyter-widgets/controls"
          }
        },
        "9b7f7830570449cf9e14fdcc23eec06e": {
          "model_module": "@jupyter-widgets/base",
          "model_name": "LayoutModel",
          "state": {
            "_view_name": "LayoutView",
            "grid_template_rows": null,
            "right": null,
            "justify_content": null,
            "_view_module": "@jupyter-widgets/base",
            "overflow": null,
            "_model_module_version": "1.2.0",
            "_view_count": null,
            "flex_flow": null,
            "width": null,
            "min_width": null,
            "border": null,
            "align_items": null,
            "bottom": null,
            "_model_module": "@jupyter-widgets/base",
            "top": null,
            "grid_column": null,
            "overflow_y": null,
            "overflow_x": null,
            "grid_auto_flow": null,
            "grid_area": null,
            "grid_template_columns": null,
            "flex": null,
            "_model_name": "LayoutModel",
            "justify_items": null,
            "grid_row": null,
            "max_height": null,
            "align_content": null,
            "visibility": null,
            "align_self": null,
            "height": null,
            "min_height": null,
            "padding": null,
            "grid_auto_rows": null,
            "grid_gap": null,
            "max_width": null,
            "order": null,
            "_view_module_version": "1.2.0",
            "grid_template_areas": null,
            "object_position": null,
            "object_fit": null,
            "grid_auto_columns": null,
            "margin": null,
            "display": null,
            "left": null
          }
        },
        "878df2e09c754fc48f4ac18c51428340": {
          "model_module": "@jupyter-widgets/controls",
          "model_name": "DescriptionStyleModel",
          "state": {
            "_view_name": "StyleView",
            "_model_name": "DescriptionStyleModel",
            "description_width": "",
            "_view_module": "@jupyter-widgets/base",
            "_model_module_version": "1.5.0",
            "_view_count": null,
            "_view_module_version": "1.2.0",
            "_model_module": "@jupyter-widgets/controls"
          }
        },
        "2c43f394a240456e8200aea79c0566eb": {
          "model_module": "@jupyter-widgets/base",
          "model_name": "LayoutModel",
          "state": {
            "_view_name": "LayoutView",
            "grid_template_rows": null,
            "right": null,
            "justify_content": null,
            "_view_module": "@jupyter-widgets/base",
            "overflow": null,
            "_model_module_version": "1.2.0",
            "_view_count": null,
            "flex_flow": null,
            "width": null,
            "min_width": null,
            "border": null,
            "align_items": null,
            "bottom": null,
            "_model_module": "@jupyter-widgets/base",
            "top": null,
            "grid_column": null,
            "overflow_y": null,
            "overflow_x": null,
            "grid_auto_flow": null,
            "grid_area": null,
            "grid_template_columns": null,
            "flex": null,
            "_model_name": "LayoutModel",
            "justify_items": null,
            "grid_row": null,
            "max_height": null,
            "align_content": null,
            "visibility": null,
            "align_self": null,
            "height": null,
            "min_height": null,
            "padding": null,
            "grid_auto_rows": null,
            "grid_gap": null,
            "max_width": null,
            "order": null,
            "_view_module_version": "1.2.0",
            "grid_template_areas": null,
            "object_position": null,
            "object_fit": null,
            "grid_auto_columns": null,
            "margin": null,
            "display": null,
            "left": null
          }
        },
        "6b4a381137104e4e885de481012a8fbc": {
          "model_module": "@jupyter-widgets/controls",
          "model_name": "HBoxModel",
          "state": {
            "_view_name": "HBoxView",
            "_dom_classes": [],
            "_model_name": "HBoxModel",
            "_view_module": "@jupyter-widgets/controls",
            "_model_module_version": "1.5.0",
            "_view_count": null,
            "_view_module_version": "1.5.0",
            "box_style": "",
            "layout": "IPY_MODEL_107d94d492314ce18ca2f71f0e182d8e",
            "_model_module": "@jupyter-widgets/controls",
            "children": [
              "IPY_MODEL_1cf9f06df8664a6e83cdfb4de27d5c6a",
              "IPY_MODEL_20116940f8bc4ee1a137feb8800ecf66"
            ]
          }
        },
        "107d94d492314ce18ca2f71f0e182d8e": {
          "model_module": "@jupyter-widgets/base",
          "model_name": "LayoutModel",
          "state": {
            "_view_name": "LayoutView",
            "grid_template_rows": null,
            "right": null,
            "justify_content": null,
            "_view_module": "@jupyter-widgets/base",
            "overflow": null,
            "_model_module_version": "1.2.0",
            "_view_count": null,
            "flex_flow": null,
            "width": null,
            "min_width": null,
            "border": null,
            "align_items": null,
            "bottom": null,
            "_model_module": "@jupyter-widgets/base",
            "top": null,
            "grid_column": null,
            "overflow_y": null,
            "overflow_x": null,
            "grid_auto_flow": null,
            "grid_area": null,
            "grid_template_columns": null,
            "flex": null,
            "_model_name": "LayoutModel",
            "justify_items": null,
            "grid_row": null,
            "max_height": null,
            "align_content": null,
            "visibility": null,
            "align_self": null,
            "height": null,
            "min_height": null,
            "padding": null,
            "grid_auto_rows": null,
            "grid_gap": null,
            "max_width": null,
            "order": null,
            "_view_module_version": "1.2.0",
            "grid_template_areas": null,
            "object_position": null,
            "object_fit": null,
            "grid_auto_columns": null,
            "margin": null,
            "display": null,
            "left": null
          }
        },
        "1cf9f06df8664a6e83cdfb4de27d5c6a": {
          "model_module": "@jupyter-widgets/controls",
          "model_name": "FloatProgressModel",
          "state": {
            "_view_name": "ProgressView",
            "style": "IPY_MODEL_6f1a55e41a6a49c5964bc357852a6df4",
            "_dom_classes": [],
            "description": "",
            "_model_name": "FloatProgressModel",
            "bar_style": "success",
            "max": 1648877,
            "_view_module": "@jupyter-widgets/controls",
            "_model_module_version": "1.5.0",
            "value": 1648877,
            "_view_count": null,
            "_view_module_version": "1.5.0",
            "orientation": "horizontal",
            "min": 0,
            "description_tooltip": null,
            "_model_module": "@jupyter-widgets/controls",
            "layout": "IPY_MODEL_dc890ca011304ebfaea3e5c47370d340"
          }
        },
        "20116940f8bc4ee1a137feb8800ecf66": {
          "model_module": "@jupyter-widgets/controls",
          "model_name": "HTMLModel",
          "state": {
            "_view_name": "HTMLView",
            "style": "IPY_MODEL_3d6073b51be8488cb428c78aef9b01cd",
            "_dom_classes": [],
            "description": "",
            "_model_name": "HTMLModel",
            "placeholder": "​",
            "_view_module": "@jupyter-widgets/controls",
            "_model_module_version": "1.5.0",
            "value": " 1649664/? [00:49&lt;00:00, 33607.73it/s]",
            "_view_count": null,
            "_view_module_version": "1.5.0",
            "description_tooltip": null,
            "_model_module": "@jupyter-widgets/controls",
            "layout": "IPY_MODEL_921628935eed4300b0dacaddadb759d6"
          }
        },
        "6f1a55e41a6a49c5964bc357852a6df4": {
          "model_module": "@jupyter-widgets/controls",
          "model_name": "ProgressStyleModel",
          "state": {
            "_view_name": "StyleView",
            "_model_name": "ProgressStyleModel",
            "description_width": "initial",
            "_view_module": "@jupyter-widgets/base",
            "_model_module_version": "1.5.0",
            "_view_count": null,
            "_view_module_version": "1.2.0",
            "bar_color": null,
            "_model_module": "@jupyter-widgets/controls"
          }
        },
        "dc890ca011304ebfaea3e5c47370d340": {
          "model_module": "@jupyter-widgets/base",
          "model_name": "LayoutModel",
          "state": {
            "_view_name": "LayoutView",
            "grid_template_rows": null,
            "right": null,
            "justify_content": null,
            "_view_module": "@jupyter-widgets/base",
            "overflow": null,
            "_model_module_version": "1.2.0",
            "_view_count": null,
            "flex_flow": null,
            "width": null,
            "min_width": null,
            "border": null,
            "align_items": null,
            "bottom": null,
            "_model_module": "@jupyter-widgets/base",
            "top": null,
            "grid_column": null,
            "overflow_y": null,
            "overflow_x": null,
            "grid_auto_flow": null,
            "grid_area": null,
            "grid_template_columns": null,
            "flex": null,
            "_model_name": "LayoutModel",
            "justify_items": null,
            "grid_row": null,
            "max_height": null,
            "align_content": null,
            "visibility": null,
            "align_self": null,
            "height": null,
            "min_height": null,
            "padding": null,
            "grid_auto_rows": null,
            "grid_gap": null,
            "max_width": null,
            "order": null,
            "_view_module_version": "1.2.0",
            "grid_template_areas": null,
            "object_position": null,
            "object_fit": null,
            "grid_auto_columns": null,
            "margin": null,
            "display": null,
            "left": null
          }
        },
        "3d6073b51be8488cb428c78aef9b01cd": {
          "model_module": "@jupyter-widgets/controls",
          "model_name": "DescriptionStyleModel",
          "state": {
            "_view_name": "StyleView",
            "_model_name": "DescriptionStyleModel",
            "description_width": "",
            "_view_module": "@jupyter-widgets/base",
            "_model_module_version": "1.5.0",
            "_view_count": null,
            "_view_module_version": "1.2.0",
            "_model_module": "@jupyter-widgets/controls"
          }
        },
        "921628935eed4300b0dacaddadb759d6": {
          "model_module": "@jupyter-widgets/base",
          "model_name": "LayoutModel",
          "state": {
            "_view_name": "LayoutView",
            "grid_template_rows": null,
            "right": null,
            "justify_content": null,
            "_view_module": "@jupyter-widgets/base",
            "overflow": null,
            "_model_module_version": "1.2.0",
            "_view_count": null,
            "flex_flow": null,
            "width": null,
            "min_width": null,
            "border": null,
            "align_items": null,
            "bottom": null,
            "_model_module": "@jupyter-widgets/base",
            "top": null,
            "grid_column": null,
            "overflow_y": null,
            "overflow_x": null,
            "grid_auto_flow": null,
            "grid_area": null,
            "grid_template_columns": null,
            "flex": null,
            "_model_name": "LayoutModel",
            "justify_items": null,
            "grid_row": null,
            "max_height": null,
            "align_content": null,
            "visibility": null,
            "align_self": null,
            "height": null,
            "min_height": null,
            "padding": null,
            "grid_auto_rows": null,
            "grid_gap": null,
            "max_width": null,
            "order": null,
            "_view_module_version": "1.2.0",
            "grid_template_areas": null,
            "object_position": null,
            "object_fit": null,
            "grid_auto_columns": null,
            "margin": null,
            "display": null,
            "left": null
          }
        },
        "262d0f915a024f69ae7b8eacb8e6dea7": {
          "model_module": "@jupyter-widgets/controls",
          "model_name": "HBoxModel",
          "state": {
            "_view_name": "HBoxView",
            "_dom_classes": [],
            "_model_name": "HBoxModel",
            "_view_module": "@jupyter-widgets/controls",
            "_model_module_version": "1.5.0",
            "_view_count": null,
            "_view_module_version": "1.5.0",
            "box_style": "",
            "layout": "IPY_MODEL_e7d1466bc3694d118536f6c06fe53475",
            "_model_module": "@jupyter-widgets/controls",
            "children": [
              "IPY_MODEL_e5c609fb7f304820a882ce3fa2983caf",
              "IPY_MODEL_27ba9f5b9a3c4fbb811431ae6983fbd1"
            ]
          }
        },
        "e7d1466bc3694d118536f6c06fe53475": {
          "model_module": "@jupyter-widgets/base",
          "model_name": "LayoutModel",
          "state": {
            "_view_name": "LayoutView",
            "grid_template_rows": null,
            "right": null,
            "justify_content": null,
            "_view_module": "@jupyter-widgets/base",
            "overflow": null,
            "_model_module_version": "1.2.0",
            "_view_count": null,
            "flex_flow": null,
            "width": null,
            "min_width": null,
            "border": null,
            "align_items": null,
            "bottom": null,
            "_model_module": "@jupyter-widgets/base",
            "top": null,
            "grid_column": null,
            "overflow_y": null,
            "overflow_x": null,
            "grid_auto_flow": null,
            "grid_area": null,
            "grid_template_columns": null,
            "flex": null,
            "_model_name": "LayoutModel",
            "justify_items": null,
            "grid_row": null,
            "max_height": null,
            "align_content": null,
            "visibility": null,
            "align_self": null,
            "height": null,
            "min_height": null,
            "padding": null,
            "grid_auto_rows": null,
            "grid_gap": null,
            "max_width": null,
            "order": null,
            "_view_module_version": "1.2.0",
            "grid_template_areas": null,
            "object_position": null,
            "object_fit": null,
            "grid_auto_columns": null,
            "margin": null,
            "display": null,
            "left": null
          }
        },
        "e5c609fb7f304820a882ce3fa2983caf": {
          "model_module": "@jupyter-widgets/controls",
          "model_name": "FloatProgressModel",
          "state": {
            "_view_name": "ProgressView",
            "style": "IPY_MODEL_1ae26872fb1044c4b009bdec2dd4ba6f",
            "_dom_classes": [],
            "description": "",
            "_model_name": "FloatProgressModel",
            "bar_style": "success",
            "max": 4542,
            "_view_module": "@jupyter-widgets/controls",
            "_model_module_version": "1.5.0",
            "value": 4542,
            "_view_count": null,
            "_view_module_version": "1.5.0",
            "orientation": "horizontal",
            "min": 0,
            "description_tooltip": null,
            "_model_module": "@jupyter-widgets/controls",
            "layout": "IPY_MODEL_55a0e385ef77446d80fea03f28ae2d30"
          }
        },
        "27ba9f5b9a3c4fbb811431ae6983fbd1": {
          "model_module": "@jupyter-widgets/controls",
          "model_name": "HTMLModel",
          "state": {
            "_view_name": "HTMLView",
            "style": "IPY_MODEL_30874eae8216472a961d5cc352a81b43",
            "_dom_classes": [],
            "description": "",
            "_model_name": "HTMLModel",
            "placeholder": "​",
            "_view_module": "@jupyter-widgets/controls",
            "_model_module_version": "1.5.0",
            "value": " 5120/? [00:00&lt;00:00, 42452.13it/s]",
            "_view_count": null,
            "_view_module_version": "1.5.0",
            "description_tooltip": null,
            "_model_module": "@jupyter-widgets/controls",
            "layout": "IPY_MODEL_b09ef26f218642f9bba154d09335ed71"
          }
        },
        "1ae26872fb1044c4b009bdec2dd4ba6f": {
          "model_module": "@jupyter-widgets/controls",
          "model_name": "ProgressStyleModel",
          "state": {
            "_view_name": "StyleView",
            "_model_name": "ProgressStyleModel",
            "description_width": "initial",
            "_view_module": "@jupyter-widgets/base",
            "_model_module_version": "1.5.0",
            "_view_count": null,
            "_view_module_version": "1.2.0",
            "bar_color": null,
            "_model_module": "@jupyter-widgets/controls"
          }
        },
        "55a0e385ef77446d80fea03f28ae2d30": {
          "model_module": "@jupyter-widgets/base",
          "model_name": "LayoutModel",
          "state": {
            "_view_name": "LayoutView",
            "grid_template_rows": null,
            "right": null,
            "justify_content": null,
            "_view_module": "@jupyter-widgets/base",
            "overflow": null,
            "_model_module_version": "1.2.0",
            "_view_count": null,
            "flex_flow": null,
            "width": null,
            "min_width": null,
            "border": null,
            "align_items": null,
            "bottom": null,
            "_model_module": "@jupyter-widgets/base",
            "top": null,
            "grid_column": null,
            "overflow_y": null,
            "overflow_x": null,
            "grid_auto_flow": null,
            "grid_area": null,
            "grid_template_columns": null,
            "flex": null,
            "_model_name": "LayoutModel",
            "justify_items": null,
            "grid_row": null,
            "max_height": null,
            "align_content": null,
            "visibility": null,
            "align_self": null,
            "height": null,
            "min_height": null,
            "padding": null,
            "grid_auto_rows": null,
            "grid_gap": null,
            "max_width": null,
            "order": null,
            "_view_module_version": "1.2.0",
            "grid_template_areas": null,
            "object_position": null,
            "object_fit": null,
            "grid_auto_columns": null,
            "margin": null,
            "display": null,
            "left": null
          }
        },
        "30874eae8216472a961d5cc352a81b43": {
          "model_module": "@jupyter-widgets/controls",
          "model_name": "DescriptionStyleModel",
          "state": {
            "_view_name": "StyleView",
            "_model_name": "DescriptionStyleModel",
            "description_width": "",
            "_view_module": "@jupyter-widgets/base",
            "_model_module_version": "1.5.0",
            "_view_count": null,
            "_view_module_version": "1.2.0",
            "_model_module": "@jupyter-widgets/controls"
          }
        },
        "b09ef26f218642f9bba154d09335ed71": {
          "model_module": "@jupyter-widgets/base",
          "model_name": "LayoutModel",
          "state": {
            "_view_name": "LayoutView",
            "grid_template_rows": null,
            "right": null,
            "justify_content": null,
            "_view_module": "@jupyter-widgets/base",
            "overflow": null,
            "_model_module_version": "1.2.0",
            "_view_count": null,
            "flex_flow": null,
            "width": null,
            "min_width": null,
            "border": null,
            "align_items": null,
            "bottom": null,
            "_model_module": "@jupyter-widgets/base",
            "top": null,
            "grid_column": null,
            "overflow_y": null,
            "overflow_x": null,
            "grid_auto_flow": null,
            "grid_area": null,
            "grid_template_columns": null,
            "flex": null,
            "_model_name": "LayoutModel",
            "justify_items": null,
            "grid_row": null,
            "max_height": null,
            "align_content": null,
            "visibility": null,
            "align_self": null,
            "height": null,
            "min_height": null,
            "padding": null,
            "grid_auto_rows": null,
            "grid_gap": null,
            "max_width": null,
            "order": null,
            "_view_module_version": "1.2.0",
            "grid_template_areas": null,
            "object_position": null,
            "object_fit": null,
            "grid_auto_columns": null,
            "margin": null,
            "display": null,
            "left": null
          }
        }
      }
    }
  },
  "cells": [
    {
      "cell_type": "code",
      "metadata": {
        "id": "AFAxq4hSJ3mX"
      },
      "source": [
        "import torch\n",
        "import torch.nn as nn\n",
        "import torchvision\n",
        "import matplotlib.pyplot as plt\n",
        "import numpy as np"
      ],
      "execution_count": 2,
      "outputs": []
    },
    {
      "cell_type": "code",
      "metadata": {
        "id": "Mg7-KeyOKO8u",
        "colab": {
          "base_uri": "https://localhost:8080/",
          "height": 547,
          "referenced_widgets": [
            "3f432b74a34141c7b10331ed6c85d408",
            "67e887496fed409c92f4fb83d7ad5a9f",
            "9119601ed7b3407a83ccb893ee19f5c5",
            "e971562a4a7a4a6fa5eedfce0b35c2e1",
            "a9d412938a6c48389d75b3429ea12e08",
            "2e6d69984486480f9c5095ad1c2f44ca",
            "e3e300631114428698cc1971a73d8673",
            "2209893d3fad43ea8a3d29905839a637",
            "d89dfbfacf8f47c891920d25e1dd8410",
            "0aea80838cb8427f8b1af1a07491cf18",
            "ed1475310acf4594a13968b2c9290959",
            "1ae2308ce8af476fb2ff8d50c692801c",
            "0b332458136b4299aadf5180b36f44e5",
            "9b7f7830570449cf9e14fdcc23eec06e",
            "878df2e09c754fc48f4ac18c51428340",
            "2c43f394a240456e8200aea79c0566eb",
            "6b4a381137104e4e885de481012a8fbc",
            "107d94d492314ce18ca2f71f0e182d8e",
            "1cf9f06df8664a6e83cdfb4de27d5c6a",
            "20116940f8bc4ee1a137feb8800ecf66",
            "6f1a55e41a6a49c5964bc357852a6df4",
            "dc890ca011304ebfaea3e5c47370d340",
            "3d6073b51be8488cb428c78aef9b01cd",
            "921628935eed4300b0dacaddadb759d6",
            "262d0f915a024f69ae7b8eacb8e6dea7",
            "e7d1466bc3694d118536f6c06fe53475",
            "e5c609fb7f304820a882ce3fa2983caf",
            "27ba9f5b9a3c4fbb811431ae6983fbd1",
            "1ae26872fb1044c4b009bdec2dd4ba6f",
            "55a0e385ef77446d80fea03f28ae2d30",
            "30874eae8216472a961d5cc352a81b43",
            "b09ef26f218642f9bba154d09335ed71"
          ]
        },
        "outputId": "ce1bae48-69a5-41a5-9fde-29b526ebc1ee"
      },
      "source": [
        "# Loading dataset for mnist\n",
        "mnist_ds = torchvision.datasets.MNIST(\"./data\",download=True,train=True,transform=torchvision.transforms.ToTensor())\n",
        "dl = torch.utils.data.DataLoader(mnist_ds,batch_size=128)"
      ],
      "execution_count": 3,
      "outputs": [
        {
          "output_type": "stream",
          "text": [
            "Downloading http://yann.lecun.com/exdb/mnist/train-images-idx3-ubyte.gz\n",
            "Downloading http://yann.lecun.com/exdb/mnist/train-images-idx3-ubyte.gz to ./data/MNIST/raw/train-images-idx3-ubyte.gz\n"
          ],
          "name": "stdout"
        },
        {
          "output_type": "display_data",
          "data": {
            "application/vnd.jupyter.widget-view+json": {
              "model_id": "3f432b74a34141c7b10331ed6c85d408",
              "version_minor": 0,
              "version_major": 2
            },
            "text/plain": [
              "HBox(children=(FloatProgress(value=0.0, max=9912422.0), HTML(value='')))"
            ]
          },
          "metadata": {
            "tags": []
          }
        },
        {
          "output_type": "stream",
          "text": [
            "\n",
            "Extracting ./data/MNIST/raw/train-images-idx3-ubyte.gz to ./data/MNIST/raw\n",
            "\n",
            "Downloading http://yann.lecun.com/exdb/mnist/train-labels-idx1-ubyte.gz\n",
            "Downloading http://yann.lecun.com/exdb/mnist/train-labels-idx1-ubyte.gz to ./data/MNIST/raw/train-labels-idx1-ubyte.gz\n"
          ],
          "name": "stdout"
        },
        {
          "output_type": "display_data",
          "data": {
            "application/vnd.jupyter.widget-view+json": {
              "model_id": "d89dfbfacf8f47c891920d25e1dd8410",
              "version_minor": 0,
              "version_major": 2
            },
            "text/plain": [
              "HBox(children=(FloatProgress(value=0.0, max=28881.0), HTML(value='')))"
            ]
          },
          "metadata": {
            "tags": []
          }
        },
        {
          "output_type": "stream",
          "text": [
            "\n",
            "Extracting ./data/MNIST/raw/train-labels-idx1-ubyte.gz to ./data/MNIST/raw\n",
            "\n",
            "Downloading http://yann.lecun.com/exdb/mnist/t10k-images-idx3-ubyte.gz\n",
            "Downloading http://yann.lecun.com/exdb/mnist/t10k-images-idx3-ubyte.gz to ./data/MNIST/raw/t10k-images-idx3-ubyte.gz\n"
          ],
          "name": "stdout"
        },
        {
          "output_type": "display_data",
          "data": {
            "application/vnd.jupyter.widget-view+json": {
              "model_id": "6b4a381137104e4e885de481012a8fbc",
              "version_minor": 0,
              "version_major": 2
            },
            "text/plain": [
              "HBox(children=(FloatProgress(value=0.0, max=1648877.0), HTML(value='')))"
            ]
          },
          "metadata": {
            "tags": []
          }
        },
        {
          "output_type": "stream",
          "text": [
            "\n",
            "Extracting ./data/MNIST/raw/t10k-images-idx3-ubyte.gz to ./data/MNIST/raw\n",
            "\n",
            "Downloading http://yann.lecun.com/exdb/mnist/t10k-labels-idx1-ubyte.gz\n",
            "Downloading http://yann.lecun.com/exdb/mnist/t10k-labels-idx1-ubyte.gz to ./data/MNIST/raw/t10k-labels-idx1-ubyte.gz\n"
          ],
          "name": "stdout"
        },
        {
          "output_type": "display_data",
          "data": {
            "application/vnd.jupyter.widget-view+json": {
              "model_id": "262d0f915a024f69ae7b8eacb8e6dea7",
              "version_minor": 0,
              "version_major": 2
            },
            "text/plain": [
              "HBox(children=(FloatProgress(value=0.0, max=4542.0), HTML(value='')))"
            ]
          },
          "metadata": {
            "tags": []
          }
        },
        {
          "output_type": "stream",
          "text": [
            "\n",
            "Extracting ./data/MNIST/raw/t10k-labels-idx1-ubyte.gz to ./data/MNIST/raw\n",
            "\n"
          ],
          "name": "stdout"
        },
        {
          "output_type": "stream",
          "text": [
            "/usr/local/lib/python3.7/dist-packages/torchvision/datasets/mnist.py:498: UserWarning: The given NumPy array is not writeable, and PyTorch does not support non-writeable tensors. This means you can write to the underlying (supposedly non-writeable) NumPy array using the tensor. You may want to copy the array to protect its data or make it writeable before converting it to a tensor. This type of warning will be suppressed for the rest of this program. (Triggered internally at  /pytorch/torch/csrc/utils/tensor_numpy.cpp:180.)\n",
            "  return torch.from_numpy(parsed.astype(m[2], copy=False)).view(*s)\n"
          ],
          "name": "stderr"
        }
      ]
    },
    {
      "cell_type": "code",
      "metadata": {
        "id": "IZn7rprWHLMF"
      },
      "source": [
        "# Specifying the device to be used: CPU or GPU\n",
        "dev = torch.device(\"cuda:0\")\n",
        "#dev = torch.device(\"cpu\")"
      ],
      "execution_count": 4,
      "outputs": []
    },
    {
      "cell_type": "markdown",
      "metadata": {
        "id": "4_Oxq99a2-cd"
      },
      "source": [
        "GAN using Linear Layers"
      ]
    },
    {
      "cell_type": "code",
      "metadata": {
        "id": "PYSisH47nK3i"
      },
      "source": [
        "# Defining the models: generator and discriminator\n",
        "model_discriminator = nn.Sequential(\n",
        "    nn.Linear(784,256),\n",
        "    nn.LeakyReLU(0.2,inplace=True),\n",
        "    nn.Linear(256,256),\n",
        "    nn.LeakyReLU(0.2,inplace=True),\n",
        "    nn.Linear(256,1),\n",
        "    nn.Sigmoid()\n",
        ").to(dev)\n",
        "\n",
        "model_generator = nn.Sequential(\n",
        "    nn.Linear(64,256),\n",
        "    nn.ReLU(inplace=True),\n",
        "    nn.Linear(256,256),\n",
        "    nn.ReLU(inplace=True),\n",
        "    nn.Linear(256,784),\n",
        "    nn.Tanh()\n",
        ").to(dev)"
      ],
      "execution_count": null,
      "outputs": []
    },
    {
      "cell_type": "code",
      "metadata": {
        "id": "GcVeDptXrx2t",
        "colab": {
          "base_uri": "https://localhost:8080/",
          "height": 282
        },
        "outputId": "f046bc78-7cb3-4816-f7a5-b1a9678a834a"
      },
      "source": [
        "# Testing the generator model\n",
        "x = torch.rand((1,64)).to(dev)\n",
        "imgs = model_generator(x)[0].cpu().detach().numpy()\n",
        "plt.imshow(imgs.reshape(28,28),cmap=\"gray\")"
      ],
      "execution_count": null,
      "outputs": [
        {
          "output_type": "execute_result",
          "data": {
            "text/plain": [
              "<matplotlib.image.AxesImage at 0x7f562b058990>"
            ]
          },
          "metadata": {
            "tags": []
          },
          "execution_count": 7
        },
        {
          "output_type": "display_data",
          "data": {
            "image/png": "[encoded data removed]",
            "text/plain": [
              "<Figure size 432x288 with 1 Axes>"
            ]
          },
          "metadata": {
            "tags": [],
            "needs_background": "light"
          }
        }
      ]
    },
    {
      "cell_type": "code",
      "metadata": {
        "id": "9iT8lpV85XPk"
      },
      "source": [
        "# Defining the binary cross entropy loss function and the optimizers for each model\n",
        "crit = nn.BCELoss()\n",
        "disc_optim = torch.optim.Adam(model_discriminator.parameters(),lr=0.0002)\n",
        "gen_optim = torch.optim.Adam(model_generator.parameters(),lr=0.0002)"
      ],
      "execution_count": null,
      "outputs": []
    },
    {
      "cell_type": "code",
      "metadata": {
        "id": "YmFVvzVhnZ5V"
      },
      "source": [
        "# Defining the training functions for each model\n",
        "def train_discriminator(imgs):\n",
        "  disc_optim.zero_grad()\n",
        "  gen_optim.zero_grad()\n",
        "  \n",
        "  disc_o = model_discriminator(imgs)\n",
        "  bs,_ = disc_o.shape\n",
        "  real_labels = torch.ones((bs,1)).to(dev)\n",
        "  fake_labels = torch.zeros((bs,1)).to(dev)\n",
        "  disc_loss = crit(disc_o,real_labels)\n",
        "\n",
        "  noise = torch.randn(bs,64).to(dev)\n",
        "  fake_imgs = model_generator(noise)\n",
        "  disc_fake = model_discriminator(fake_imgs)\n",
        "  gen_loss = crit(disc_fake,fake_labels)\n",
        "\n",
        "  loss = disc_loss + gen_loss\n",
        "\n",
        "  loss.backward()\n",
        "\n",
        "  disc_optim.step()\n",
        "\n",
        "  return loss, disc_o, disc_fake, bs\n",
        "\n",
        "def train_generator(bs):\n",
        "  disc_optim.zero_grad()\n",
        "  gen_optim.zero_grad()\n",
        "  \n",
        "  noise = torch.randn(bs,64).to(dev)\n",
        "  fake_imgs = model_generator(noise)\n",
        "  labels = torch.ones(bs,1).to(dev)\n",
        "  gen_loss = crit(model_discriminator(fake_imgs),labels) \n",
        "\n",
        "  gen_loss.backward()\n",
        "  gen_optim.step()\n",
        "\n",
        "  return gen_loss, fake_imgs"
      ],
      "execution_count": null,
      "outputs": []
    },
    {
      "cell_type": "code",
      "metadata": {
        "id": "uwSjS6uXncGR",
        "colab": {
          "base_uri": "https://localhost:8080/"
        },
        "outputId": "4fe04ff8-0410-4721-9795-16edc6726e64"
      },
      "source": [
        "# Training \n",
        "EPOCHS=200\n",
        "disc_losses = []\n",
        "gen_losses = []\n",
        "fake_imgs_hist = []\n",
        "for epoch in range(EPOCHS):\n",
        "  print(f\"epoch: {epoch}\")\n",
        "  for k,(x,_) in enumerate(dl):\n",
        "    imgs = x.view((-1,784)).to(dev)\n",
        "\n",
        "    disc_loss, disc_o, disc_fake, bs = train_discriminator(imgs)\n",
        "    gen_loss, fake_imgs = train_generator(bs)\n",
        "\n",
        "    if (k+1)%200 == 0:\n",
        "      disc_losses.append(disc_loss)\n",
        "      gen_losses.append(gen_loss)\n",
        "      fake_imgs_hist.append(fake_imgs)"
      ],
      "execution_count": null,
      "outputs": [
        {
          "output_type": "stream",
          "text": [
            "epoch: 0\n",
            "epoch: 1\n",
            "epoch: 2\n",
            "epoch: 3\n",
            "epoch: 4\n",
            "epoch: 5\n",
            "epoch: 6\n",
            "epoch: 7\n",
            "epoch: 8\n",
            "epoch: 9\n",
            "epoch: 10\n",
            "epoch: 11\n",
            "epoch: 12\n",
            "epoch: 13\n",
            "epoch: 14\n",
            "epoch: 15\n",
            "epoch: 16\n",
            "epoch: 17\n",
            "epoch: 18\n",
            "epoch: 19\n",
            "epoch: 20\n",
            "epoch: 21\n",
            "epoch: 22\n",
            "epoch: 23\n",
            "epoch: 24\n",
            "epoch: 25\n",
            "epoch: 26\n",
            "epoch: 27\n",
            "epoch: 28\n",
            "epoch: 29\n",
            "epoch: 30\n",
            "epoch: 31\n",
            "epoch: 32\n",
            "epoch: 33\n",
            "epoch: 34\n",
            "epoch: 35\n",
            "epoch: 36\n",
            "epoch: 37\n",
            "epoch: 38\n",
            "epoch: 39\n",
            "epoch: 40\n",
            "epoch: 41\n",
            "epoch: 42\n",
            "epoch: 43\n",
            "epoch: 44\n",
            "epoch: 45\n",
            "epoch: 46\n",
            "epoch: 47\n",
            "epoch: 48\n",
            "epoch: 49\n",
            "epoch: 50\n",
            "epoch: 51\n",
            "epoch: 52\n",
            "epoch: 53\n",
            "epoch: 54\n",
            "epoch: 55\n",
            "epoch: 56\n",
            "epoch: 57\n",
            "epoch: 58\n",
            "epoch: 59\n",
            "epoch: 60\n",
            "epoch: 61\n",
            "epoch: 62\n",
            "epoch: 63\n",
            "epoch: 64\n",
            "epoch: 65\n",
            "epoch: 66\n",
            "epoch: 67\n",
            "epoch: 68\n",
            "epoch: 69\n",
            "epoch: 70\n",
            "epoch: 71\n",
            "epoch: 72\n",
            "epoch: 73\n",
            "epoch: 74\n",
            "epoch: 75\n",
            "epoch: 76\n",
            "epoch: 77\n",
            "epoch: 78\n",
            "epoch: 79\n",
            "epoch: 80\n",
            "epoch: 81\n",
            "epoch: 82\n",
            "epoch: 83\n",
            "epoch: 84\n",
            "epoch: 85\n",
            "epoch: 86\n",
            "epoch: 87\n",
            "epoch: 88\n",
            "epoch: 89\n",
            "epoch: 90\n",
            "epoch: 91\n",
            "epoch: 92\n",
            "epoch: 93\n",
            "epoch: 94\n",
            "epoch: 95\n",
            "epoch: 96\n",
            "epoch: 97\n",
            "epoch: 98\n",
            "epoch: 99\n",
            "epoch: 100\n",
            "epoch: 101\n",
            "epoch: 102\n",
            "epoch: 103\n",
            "epoch: 104\n",
            "epoch: 105\n",
            "epoch: 106\n",
            "epoch: 107\n",
            "epoch: 108\n",
            "epoch: 109\n",
            "epoch: 110\n",
            "epoch: 111\n",
            "epoch: 112\n",
            "epoch: 113\n",
            "epoch: 114\n",
            "epoch: 115\n",
            "epoch: 116\n",
            "epoch: 117\n",
            "epoch: 118\n",
            "epoch: 119\n",
            "epoch: 120\n",
            "epoch: 121\n",
            "epoch: 122\n",
            "epoch: 123\n",
            "epoch: 124\n",
            "epoch: 125\n",
            "epoch: 126\n",
            "epoch: 127\n",
            "epoch: 128\n",
            "epoch: 129\n",
            "epoch: 130\n",
            "epoch: 131\n",
            "epoch: 132\n",
            "epoch: 133\n",
            "epoch: 134\n",
            "epoch: 135\n",
            "epoch: 136\n",
            "epoch: 137\n",
            "epoch: 138\n",
            "epoch: 139\n",
            "epoch: 140\n",
            "epoch: 141\n",
            "epoch: 142\n",
            "epoch: 143\n",
            "epoch: 144\n",
            "epoch: 145\n",
            "epoch: 146\n",
            "epoch: 147\n",
            "epoch: 148\n",
            "epoch: 149\n",
            "epoch: 150\n",
            "epoch: 151\n",
            "epoch: 152\n",
            "epoch: 153\n",
            "epoch: 154\n",
            "epoch: 155\n",
            "epoch: 156\n",
            "epoch: 157\n",
            "epoch: 158\n",
            "epoch: 159\n",
            "epoch: 160\n",
            "epoch: 161\n",
            "epoch: 162\n",
            "epoch: 163\n",
            "epoch: 164\n",
            "epoch: 165\n",
            "epoch: 166\n",
            "epoch: 167\n",
            "epoch: 168\n",
            "epoch: 169\n",
            "epoch: 170\n",
            "epoch: 171\n",
            "epoch: 172\n",
            "epoch: 173\n",
            "epoch: 174\n",
            "epoch: 175\n",
            "epoch: 176\n",
            "epoch: 177\n",
            "epoch: 178\n",
            "epoch: 179\n",
            "epoch: 180\n",
            "epoch: 181\n",
            "epoch: 182\n",
            "epoch: 183\n",
            "epoch: 184\n",
            "epoch: 185\n",
            "epoch: 186\n",
            "epoch: 187\n",
            "epoch: 188\n",
            "epoch: 189\n",
            "epoch: 190\n",
            "epoch: 191\n",
            "epoch: 192\n",
            "epoch: 193\n",
            "epoch: 194\n",
            "epoch: 195\n",
            "epoch: 196\n",
            "epoch: 197\n",
            "epoch: 198\n",
            "epoch: 199\n"
          ],
          "name": "stdout"
        }
      ]
    },
    {
      "cell_type": "code",
      "metadata": {
        "colab": {
          "base_uri": "https://localhost:8080/",
          "height": 282
        },
        "id": "Oema3hUPpVf9",
        "outputId": "70d9199d-9a6d-4d18-ef58-7b7232918549"
      },
      "source": [
        "# Generating some fake images with the trained generator model\n",
        "x = torch.randn((10,64)).to(dev)\n",
        "imgs = model_generator(x)[0].cpu().detach().numpy()\n",
        "plt.imshow(imgs.reshape(28,28),cmap=\"gray\")"
      ],
      "execution_count": null,
      "outputs": [
        {
          "output_type": "execute_result",
          "data": {
            "text/plain": [
              "<matplotlib.image.AxesImage at 0x7f55d1a66950>"
            ]
          },
          "metadata": {
            "tags": []
          },
          "execution_count": 11
        },
        {
          "output_type": "display_data",
          "data": {
            "image/png": "[encoded data removed]",
            "text/plain": [
              "<Figure size 432x288 with 1 Axes>"
            ]
          },
          "metadata": {
            "tags": [],
            "needs_background": "light"
          }
        }
      ]
    },
    {
      "cell_type": "code",
      "metadata": {
        "id": "o1Ox5RZ7YCLj"
      },
      "source": [
        "torch.save(model_generator,\"model_generator\")"
      ],
      "execution_count": null,
      "outputs": []
    },
    {
      "cell_type": "markdown",
      "metadata": {
        "id": "s46nBEPw3BIr"
      },
      "source": [
        "GAN using Convolutional Layers"
      ]
    },
    {
      "cell_type": "code",
      "metadata": {
        "id": "NWQFwqii3Gjo"
      },
      "source": [
        "# Creating the reshape module (for reshaping tensors within a sequential mode)\n",
        "class Reshape(nn.Module):\n",
        "  def __init__(self,new_shape):\n",
        "    super().__init__()\n",
        "    self.new_shape = new_shape\n",
        "  \n",
        "  def forward(self,x):\n",
        "    return x.view(self.new_shape)"
      ],
      "execution_count": 8,
      "outputs": []
    },
    {
      "cell_type": "code",
      "metadata": {
        "id": "aESnBgjMz-_S"
      },
      "source": [
        "model_discriminator = nn.Sequential(\n",
        "    nn.Conv2d(1,8,4,stride=2,bias=False),\n",
        "    nn.LeakyReLU(inplace=True),\n",
        "    nn.Conv2d(8,16,3,stride=2,bias=False),\n",
        "    nn.LeakyReLU(inplace=True),\n",
        "    Reshape((-1,576)),\n",
        "    nn.Linear(576,64,bias=False),\n",
        "    nn.LeakyReLU(inplace=True),\n",
        "    nn.Linear(64,1,bias=False),\n",
        "    nn.Sigmoid()\n",
        ").to(dev)\n",
        "\n",
        "model_generator = nn.Sequential(\n",
        "    nn.Linear(64,576,bias=False),\n",
        "    nn.ReLU(inplace=True),\n",
        "    Reshape((-1,16,6,6)),\n",
        "    nn.ConvTranspose2d(16,8,3,stride=2,bias=False),\n",
        "    nn.ReLU(inplace=True),\n",
        "    nn.ConvTranspose2d(8,1,4,stride=2,bias=False),\n",
        "    nn.Tanh()\n",
        ").to(dev)"
      ],
      "execution_count": 9,
      "outputs": []
    },
    {
      "cell_type": "code",
      "metadata": {
        "colab": {
          "base_uri": "https://localhost:8080/",
          "height": 282
        },
        "id": "jTo0PpAT5Z4a",
        "outputId": "982ca08d-4772-49ce-fe3b-caf8b2eb9f84"
      },
      "source": [
        "# Testing the models\n",
        "x = torch.rand((1,64)).to(dev)\n",
        "img = model_generator(x).cpu().detach().numpy()[0][0]\n",
        "plt.imshow(img,cmap=\"gray\")\n",
        "\n",
        "# x = torch.rand((1,1,28,28)).to(dev)\n",
        "# print(model_discriminator(x))"
      ],
      "execution_count": 14,
      "outputs": [
        {
          "output_type": "execute_result",
          "data": {
            "text/plain": [
              "<matplotlib.image.AxesImage at 0x7ff72e68dfd0>"
            ]
          },
          "metadata": {
            "tags": []
          },
          "execution_count": 14
        },
        {
          "output_type": "display_data",
          "data": {
            "image/png": "[encoded data removed]",
            "text/plain": [
              "<Figure size 432x288 with 1 Axes>"
            ]
          },
          "metadata": {
            "tags": [],
            "needs_background": "light"
          }
        }
      ]
    },
    {
      "cell_type": "code",
      "metadata": {
        "id": "jb-Bvhje56bO"
      },
      "source": [
        "crit = nn.BCELoss()\n",
        "disc_optim = torch.optim.Adam(model_discriminator.parameters(),lr=0.0004)\n",
        "gen_optim = torch.optim.Adam(model_generator.parameters(),lr=0.0004)"
      ],
      "execution_count": 15,
      "outputs": []
    },
    {
      "cell_type": "code",
      "metadata": {
        "id": "HXRJS3ul6Ix1"
      },
      "source": [
        "def train_discriminator(imgs):\n",
        "  disc_optim.zero_grad()\n",
        "  gen_optim.zero_grad()\n",
        "\n",
        "  N = imgs.shape[0]\n",
        "\n",
        "  disc_o = model_discriminator(imgs)\n",
        "  real_labels = torch.ones_like(disc_o).to(dev)\n",
        "  fake_labels = torch.zeros_like(disc_o).to(dev)\n",
        "\n",
        "  disc_loss = crit(disc_o,real_labels)\n",
        "\n",
        "  noise = torch.randn((N,64)).to(dev)\n",
        "  fake_imgs = model_generator(noise)\n",
        "  gen_o = model_discriminator(fake_imgs)\n",
        "  gen_loss = crit(gen_o,fake_labels)\n",
        "\n",
        "  tot_loss = disc_loss + gen_loss\n",
        "  \n",
        "  tot_loss.backward()\n",
        "  disc_optim.step()\n",
        "\n",
        "  return N,tot_loss\n",
        "\n",
        "def train_generator(N):\n",
        "  disc_optim.zero_grad()\n",
        "  gen_optim.zero_grad()\n",
        "\n",
        "  noise = torch.randn((N,64)).to(dev)\n",
        "  fake_imgs = model_generator(noise)\n",
        "  gen_o = model_discriminator(fake_imgs)\n",
        "  labels = torch.ones((N,1)).to(dev)\n",
        "  gen_loss = crit(gen_o,labels)\n",
        "\n",
        "  gen_loss.backward()\n",
        "  gen_optim.step()\n",
        "\n",
        "  return fake_imgs, gen_loss"
      ],
      "execution_count": 22,
      "outputs": []
    },
    {
      "cell_type": "code",
      "metadata": {
        "colab": {
          "base_uri": "https://localhost:8080/"
        },
        "id": "lcPGHHM46e7U",
        "outputId": "b81dc4b0-b420-417b-ade0-2eae34b4862d"
      },
      "source": [
        "EPOCHS = 50\n",
        "disc_loss_arr = []\n",
        "gen_loss_arr = []\n",
        "fake_imgs_arr= []\n",
        "\n",
        "for epoch in range(EPOCHS):\n",
        "  for k,(x,_) in enumerate(dl):\n",
        "    x = x.to(dev)\n",
        "    N,disc_loss = train_discriminator(x)\n",
        "    fake_imgs, gen_loss = train_generator(N)\n",
        "\n",
        "    if (k%200) == 0:\n",
        "      fake_imgs_arr.append(fake_imgs)\n",
        "      disc_loss_arr.append(disc_loss)\n",
        "      gen_loss_arr.append(gen_loss)\n",
        "  print(f\"epoch: {epoch}\")"
      ],
      "execution_count": 23,
      "outputs": [
        {
          "output_type": "stream",
          "text": [
            "epoch: 0\n",
            "epoch: 1\n",
            "epoch: 2\n",
            "epoch: 3\n",
            "epoch: 4\n",
            "epoch: 5\n",
            "epoch: 6\n",
            "epoch: 7\n",
            "epoch: 8\n",
            "epoch: 9\n",
            "epoch: 10\n",
            "epoch: 11\n",
            "epoch: 12\n",
            "epoch: 13\n",
            "epoch: 14\n",
            "epoch: 15\n",
            "epoch: 16\n",
            "epoch: 17\n",
            "epoch: 18\n",
            "epoch: 19\n",
            "epoch: 20\n",
            "epoch: 21\n",
            "epoch: 22\n",
            "epoch: 23\n",
            "epoch: 24\n",
            "epoch: 25\n",
            "epoch: 26\n",
            "epoch: 27\n",
            "epoch: 28\n",
            "epoch: 29\n",
            "epoch: 30\n",
            "epoch: 31\n",
            "epoch: 32\n",
            "epoch: 33\n",
            "epoch: 34\n",
            "epoch: 35\n",
            "epoch: 36\n",
            "epoch: 37\n",
            "epoch: 38\n",
            "epoch: 39\n",
            "epoch: 40\n",
            "epoch: 41\n",
            "epoch: 42\n",
            "epoch: 43\n",
            "epoch: 44\n",
            "epoch: 45\n",
            "epoch: 46\n",
            "epoch: 47\n",
            "epoch: 48\n",
            "epoch: 49\n"
          ],
          "name": "stdout"
        }
      ]
    },
    {
      "cell_type": "code",
      "metadata": {
        "colab": {
          "base_uri": "https://localhost:8080/",
          "height": 282
        },
        "id": "P11-6u3h84f3",
        "outputId": "9c31bc69-f3be-4e48-cfa3-a85653d9036c"
      },
      "source": [
        "plt.imshow(fake_imgs_arr[-1].cpu().detach().numpy()[16][0])"
      ],
      "execution_count": 36,
      "outputs": [
        {
          "output_type": "execute_result",
          "data": {
            "text/plain": [
              "<matplotlib.image.AxesImage at 0x7ff72e120e50>"
            ]
          },
          "metadata": {
            "tags": []
          },
          "execution_count": 36
        },
        {
          "output_type": "display_data",
          "data": {
            "image/png": "[encoded data removed]",
            "text/plain": [
              "<Figure size 432x288 with 1 Axes>"
            ]
          },
          "metadata": {
            "tags": [],
            "needs_background": "light"
          }
        }
      ]
    },
    {
      "cell_type": "code",
      "metadata": {
        "id": "mvSXpX0E-9dV"
      },
      "source": [
        "!mkdir gan_fake_imgs"
      ],
      "execution_count": 41,
      "outputs": []
    },
    {
      "cell_type": "code",
      "metadata": {
        "colab": {
          "base_uri": "https://localhost:8080/",
          "height": 322
        },
        "id": "BQW17kGs_ejC",
        "outputId": "0cbcde81-cd30-4b07-d8cf-e4987d39c675"
      },
      "source": [
        "sub_imgs_arr = fake_imgs_arr[101].cpu().detach().numpy()\n",
        "fig, axs = plt.subplots(nrows=10,ncols=10)\n",
        "for k in range(100):\n",
        "  axs[k//10,k%10].imshow(sub_imgs_arr[k][0],cmap='gray')\n",
        "  axs[k//10,k%10].axes.xaxis.set_visible(False)\n",
        "  axs[k//10,k%10].axes.yaxis.set_visible(False)\n",
        "plt.subplots_adjust(wspace=0, hspace=0, left=0, right=1, bottom=0, top=1)\n",
        "# plt.savefig(f\"gan_fake_imgs/fake_img{idx}.png\")"
      ],
      "execution_count": 92,
      "outputs": [
        {
          "output_type": "display_data",
          "data": {
            "image/png": "[encoded data removed]",
            "text/plain": [
              "<Figure size 432x288 with 100 Axes>"
            ]
          },
          "metadata": {
            "tags": [],
            "needs_background": "light"
          }
        }
      ]
    },
    {
      "cell_type": "code",
      "metadata": {
        "id": "N0nt8RbP-rG4"
      },
      "source": [
        "for idx in range(150):\n",
        "  sub_imgs_arr = fake_imgs_arr[idx].cpu().detach().numpy()\n",
        "  fig, axs = plt.subplots(nrows=10,ncols=10)\n",
        "  for k in range(100):\n",
        "    axs[k//10,k%10].imshow(sub_imgs_arr[k][0],cmap='gray')\n",
        "    axs[k//10,k%10].axes.xaxis.set_visible(False)\n",
        "    axs[k//10,k%10].axes.yaxis.set_visible(False)\n",
        "  plt.subplots_adjust(wspace=0, hspace=0, left=0, right=1, bottom=0, top=1)\n",
        "  plt.savefig(f\"gan_fake_imgs/fake_img{idx}.png\")"
      ],
      "execution_count": null,
      "outputs": []
    },
    {
      "cell_type": "code",
      "metadata": {
        "id": "fvw-rl3bByPq"
      },
      "source": [
        "!tar -czf gan_fake_imgs.tar.gz gan_fake_imgs/"
      ],
      "execution_count": 49,
      "outputs": []
    },
    {
      "cell_type": "code",
      "metadata": {
        "colab": {
          "base_uri": "https://localhost:8080/",
          "height": 282
        },
        "id": "LnvnaiPIDGI1",
        "outputId": "79251ff0-4dbc-4b94-a343-37d84a5dda91"
      },
      "source": [
        "x = torch.randn((1,64)).to(dev)\n",
        "img = model_generator(x).cpu().detach().numpy()[0][0]\n",
        "plt.imshow(img,cmap=\"gray\")"
      ],
      "execution_count": 91,
      "outputs": [
        {
          "output_type": "execute_result",
          "data": {
            "text/plain": [
              "<matplotlib.image.AxesImage at 0x7ff5ce9aff50>"
            ]
          },
          "metadata": {
            "tags": []
          },
          "execution_count": 91
        },
        {
          "output_type": "display_data",
          "data": {
            "image/png": "[encoded data removed]",
            "text/plain": [
              "<Figure size 432x288 with 1 Axes>"
            ]
          },
          "metadata": {
            "tags": [],
            "needs_background": "light"
          }
        }
      ]
    }
  ]
}