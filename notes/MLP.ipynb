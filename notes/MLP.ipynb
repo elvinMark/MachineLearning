{
 "cells": [
  {
   "cell_type": "code",
   "execution_count": 95,
   "metadata": {},
   "outputs": [],
   "source": [
    "import numpy as np\n",
    "import matplotlib.pyplot as plt"
   ]
  },
  {
   "cell_type": "code",
   "execution_count": 3,
   "metadata": {},
   "outputs": [],
   "source": [
    "# Activation Functions\n",
    "def sigmoid(x,diff=False):\n",
    "    if diff:\n",
    "        return x * (1 - x)\n",
    "    return 1/(1 + np.exp(-x))\n",
    "\n",
    "def relu(x,diff=False):\n",
    "    if diff:\n",
    "        return np.maximum(0.01,np.array(x>0,np.float))\n",
    "    return np.maximum(0.01*x,x)"
   ]
  },
  {
   "cell_type": "code",
   "execution_count": 212,
   "metadata": {},
   "outputs": [],
   "source": [
    "# MultiLayer Perceptron\n",
    "class MLP:\n",
    "    def __init__(self,i,h1,h2,o):\n",
    "        self.W1 = 0.001*np.random.random((i,h1))\n",
    "        self.b1 = 0.001*np.random.random(h1)\n",
    "        self.W2 = 0.001*np.random.random((h1,h2))\n",
    "        self.b2 = 0.001*np.random.random(h2)\n",
    "        self.W3 = 0.001*np.random.random((h2,o))\n",
    "        self.b3 = 0.001*np.random.random(o)\n",
    "    def forward(self,x):\n",
    "        self.x = x\n",
    "        self.o1 = relu(x.dot(self.W1)+self.b1)\n",
    "        self.o2 = relu(self.o1.dot(self.W2) + self.b2)\n",
    "        self.o3 = relu(self.o2.dot(self.W3) + self.b3)\n",
    "        return self.o3\n",
    "    def backward(self,err):\n",
    "        self.delta3 = err*relu(self.o3,diff=True)\n",
    "        err = self.delta3.dot(self.W3.T)\n",
    "        self.delta2 = err*relu(self.o2,diff=True)\n",
    "        err = self.delta2.dot(self.W2.T)\n",
    "        self.delta1 = err*relu(self.o1,diff=True)\n",
    "    def update(self,lr=1):\n",
    "        self.W3 = self.W3 - lr*(self.o2.T.dot(self.delta3))\n",
    "        self.b3 = self.b3 - lr*np.sum(self.delta3,axis=0)\n",
    "        self.W2 = self.W2 - lr*(self.o1.T.dot(self.delta2))\n",
    "        self.b2 = self.b2 - lr*np.sum(self.delta2,axis=0)\n",
    "        self.W1 = self.W1 - lr*(self.x.T.dot(self.delta1))\n",
    "        self.b1 = self.b1 - lr*np.sum(self.delta1,axis=0)"
   ]
  },
  {
   "cell_type": "code",
   "execution_count": 213,
   "metadata": {},
   "outputs": [],
   "source": [
    "# Loss Class\n",
    "class MSELoss:\n",
    "    def loss(self,o,t):\n",
    "        self.grad = o - t\n",
    "        return np.sum(self.grad*self.grad) / 2\n",
    "    def calculate_grad(self):\n",
    "        return self.grad"
   ]
  },
  {
   "cell_type": "code",
   "execution_count": 201,
   "metadata": {},
   "outputs": [],
   "source": [
    "def train_model(model,dl,epochs,loss):\n",
    "    for epoch in range(epochs):\n",
    "        acc = 0\n",
    "        for x,y in dl:\n",
    "            o = model.forward(x)\n",
    "            acc += loss.loss(o,y)\n",
    "            err = loss.calculate_grad()\n",
    "            model.backward(err)\n",
    "            model.update(lr=0.01)\n",
    "        print(acc)"
   ]
  },
  {
   "cell_type": "code",
   "execution_count": 172,
   "metadata": {},
   "outputs": [],
   "source": [
    "class DataLoader:\n",
    "    def __init__(self,x,y,batch_size):\n",
    "        self.x = x\n",
    "        self.y = y\n",
    "        self.length = len(self.x)\n",
    "        self.curr = 0\n",
    "        self.batch_size = batch_size\n",
    "    def __iter__(self):\n",
    "        return self\n",
    "    def __next__(self):\n",
    "        if self.curr >= self.length:\n",
    "            self.curr = 0\n",
    "            raise StopIteration\n",
    "        else:\n",
    "            _x = self.x[self.curr:self.curr+self.batch_size]\n",
    "            _y = self.y[self.curr:self.curr+self.batch_size]\n",
    "            self.curr += self.batch_size\n",
    "            return (_x,_y)"
   ]
  },
  {
   "cell_type": "code",
   "execution_count": 14,
   "metadata": {},
   "outputs": [],
   "source": [
    "import pickle\n",
    "import struct"
   ]
  },
  {
   "cell_type": "code",
   "execution_count": 74,
   "metadata": {},
   "outputs": [],
   "source": [
    "f = open(\"train-images-idx3-ubyte\",\"rb\")"
   ]
  },
  {
   "cell_type": "code",
   "execution_count": 75,
   "metadata": {},
   "outputs": [],
   "source": [
    "x = f.read(16)"
   ]
  },
  {
   "cell_type": "code",
   "execution_count": 77,
   "metadata": {},
   "outputs": [],
   "source": [
    "y = struct.unpack(\">4BIII\",x)"
   ]
  },
  {
   "cell_type": "code",
   "execution_count": 80,
   "metadata": {},
   "outputs": [],
   "source": [
    "tot = 60000*28*28"
   ]
  },
  {
   "cell_type": "code",
   "execution_count": 89,
   "metadata": {},
   "outputs": [],
   "source": [
    "raw_data = np.array(list(struct.unpack(\">%dB\"%tot,f.read(tot))))"
   ]
  },
  {
   "cell_type": "code",
   "execution_count": 97,
   "metadata": {},
   "outputs": [],
   "source": [
    "x_train = raw_data.reshape((60000,28*28))"
   ]
  },
  {
   "cell_type": "code",
   "execution_count": 103,
   "metadata": {},
   "outputs": [
    {
     "data": {
      "text/plain": [
       "<matplotlib.image.AxesImage at 0x7f0cc2517340>"
      ]
     },
     "execution_count": 103,
     "metadata": {},
     "output_type": "execute_result"
    },
    {
     "data": {
      "image/png": "[encoded data removed]",
      "text/plain": [
       "<Figure size 432x288 with 1 Axes>"
      ]
     },
     "metadata": {
      "needs_background": "light"
     },
     "output_type": "display_data"
    }
   ],
   "source": [
    "plt.imshow(x_train[30].reshape((28,28)))"
   ]
  },
  {
   "cell_type": "code",
   "execution_count": 110,
   "metadata": {},
   "outputs": [],
   "source": [
    "f = open(\"t10k-images-idx3-ubyte\",\"rb\")"
   ]
  },
  {
   "cell_type": "code",
   "execution_count": 111,
   "metadata": {},
   "outputs": [],
   "source": [
    "y = struct.unpack(\">4BIII\",f.read(16))"
   ]
  },
  {
   "cell_type": "code",
   "execution_count": 112,
   "metadata": {},
   "outputs": [],
   "source": [
    "tot = 10000*28*28"
   ]
  },
  {
   "cell_type": "code",
   "execution_count": 113,
   "metadata": {},
   "outputs": [],
   "source": [
    "raw_data = np.array(list(struct.unpack(\">%dB\"%tot,f.read(tot))))"
   ]
  },
  {
   "cell_type": "code",
   "execution_count": 115,
   "metadata": {},
   "outputs": [],
   "source": [
    "x_test = raw_data.reshape((10000,28*28))"
   ]
  },
  {
   "cell_type": "code",
   "execution_count": 118,
   "metadata": {},
   "outputs": [
    {
     "data": {
      "text/plain": [
       "<matplotlib.image.AxesImage at 0x7f0cc214fdc0>"
      ]
     },
     "execution_count": 118,
     "metadata": {},
     "output_type": "execute_result"
    },
    {
     "data": {
      "image/png": "[encoded data removed]",
      "text/plain": [
       "<Figure size 432x288 with 1 Axes>"
      ]
     },
     "metadata": {
      "needs_background": "light"
     },
     "output_type": "display_data"
    }
   ],
   "source": [
    "plt.imshow(x_test[10].reshape((28,28)))"
   ]
  },
  {
   "cell_type": "code",
   "execution_count": 138,
   "metadata": {},
   "outputs": [],
   "source": [
    "f = open(\"train-labels-idx1-ubyte\",\"rb\")"
   ]
  },
  {
   "cell_type": "code",
   "execution_count": 139,
   "metadata": {},
   "outputs": [],
   "source": [
    "y = struct.unpack(\">4BI\",f.read(8))"
   ]
  },
  {
   "cell_type": "code",
   "execution_count": 140,
   "metadata": {},
   "outputs": [],
   "source": [
    "y_train = np.array(list(struct.unpack(\">%dB\"%60000,f.read(60000))))"
   ]
  },
  {
   "cell_type": "code",
   "execution_count": 141,
   "metadata": {},
   "outputs": [],
   "source": [
    "f  = open(\"t10k-labels-idx1-ubyte\",\"rb\")"
   ]
  },
  {
   "cell_type": "code",
   "execution_count": 142,
   "metadata": {},
   "outputs": [],
   "source": [
    "y = struct.unpack(\">4BI\" , f.read(8))"
   ]
  },
  {
   "cell_type": "code",
   "execution_count": 143,
   "metadata": {},
   "outputs": [],
   "source": [
    "y_test = np.array(list(struct.unpack(\">%dB\"%10000,f.read(10000))))"
   ]
  },
  {
   "cell_type": "code",
   "execution_count": 214,
   "metadata": {},
   "outputs": [],
   "source": [
    "model = MLP(784,550,150,10)"
   ]
  },
  {
   "cell_type": "code",
   "execution_count": 215,
   "metadata": {},
   "outputs": [],
   "source": [
    "y_train_2 = np.zeros((60000,10))"
   ]
  },
  {
   "cell_type": "code",
   "execution_count": 216,
   "metadata": {},
   "outputs": [],
   "source": [
    "y_train_2[np.arange(60000),y_train] = 1"
   ]
  },
  {
   "cell_type": "code",
   "execution_count": 217,
   "metadata": {},
   "outputs": [],
   "source": [
    "dl = DataLoader(x_train/255.0,y_train_2,100)"
   ]
  },
  {
   "cell_type": "code",
   "execution_count": 218,
   "metadata": {},
   "outputs": [
    {
     "name": "stdout",
     "output_type": "stream",
     "text": [
      "27100.109257912485\n",
      "15903.134526566448\n",
      "2908.707148125274\n",
      "1662.6043170611392\n",
      "1224.1825696260948\n",
      "922.8623647137819\n",
      "727.900850006504\n",
      "590.2827191018195\n",
      "483.58641137663557\n",
      "403.15693421270936\n"
     ]
    }
   ],
   "source": [
    "train_model(model,dl,10,MSELoss())"
   ]
  },
  {
   "cell_type": "code",
   "execution_count": 234,
   "metadata": {},
   "outputs": [
    {
     "data": {
      "text/plain": [
       "array([7, 2, 1, 0, 4, 1, 4, 9, 5, 9, 0, 6, 9, 0, 1, 5, 9, 7, 3, 4])"
      ]
     },
     "execution_count": 234,
     "metadata": {},
     "output_type": "execute_result"
    }
   ],
   "source": [
    "np.argmax(model.forward(x_test[:20]/255.0),axis=1)"
   ]
  },
  {
   "cell_type": "code",
   "execution_count": 236,
   "metadata": {},
   "outputs": [
    {
     "data": {
      "text/plain": [
       "array([7, 2, 1, 0, 4, 1, 4, 9, 5, 9, 0, 6, 9, 0, 1, 5, 9, 7, 3, 4])"
      ]
     },
     "execution_count": 236,
     "metadata": {},
     "output_type": "execute_result"
    }
   ],
   "source": [
    "y_test[:20]"
   ]
  },
  {
   "cell_type": "code",
   "execution_count": 238,
   "metadata": {},
   "outputs": [],
   "source": [
    "from sklearn.metrics import confusion_matrix, accuracy_score"
   ]
  },
  {
   "cell_type": "code",
   "execution_count": 266,
   "metadata": {},
   "outputs": [],
   "source": [
    "pred = np.argmax(model.forward(x_test/255.0),axis=1)"
   ]
  },
  {
   "cell_type": "code",
   "execution_count": 281,
   "metadata": {},
   "outputs": [
    {
     "data": {
      "text/plain": [
       "array([[ 974,    0,    0,    0,    1,    2,    3,    1,    5,    4],\n",
       "       [   0, 1128,    2,    0,    0,    0,    3,    3,    0,    2],\n",
       "       [   0,    2, 1013,    4,    1,    0,    0,   11,    2,    0],\n",
       "       [   0,    1,    5,  992,    0,    5,    1,    1,    1,    5],\n",
       "       [   1,    0,    1,    0,  967,    1,    6,    3,    2,   12],\n",
       "       [   0,    0,    1,    4,    0,  876,    6,    0,    7,    1],\n",
       "       [   1,    1,    2,    0,    6,    5,  939,    0,    1,    1],\n",
       "       [   1,    0,    6,    4,    1,    1,    0, 1004,    2,    4],\n",
       "       [   3,    3,    2,    3,    1,    1,    0,    0,  950,    0],\n",
       "       [   0,    0,    0,    3,    5,    1,    0,    5,    4,  980]])"
      ]
     },
     "execution_count": 281,
     "metadata": {},
     "output_type": "execute_result"
    }
   ],
   "source": [
    "confusion_matrix(pred,y_test)"
   ]
  },
  {
   "cell_type": "code",
   "execution_count": 282,
   "metadata": {},
   "outputs": [
    {
     "data": {
      "text/plain": [
       "0.9823"
      ]
     },
     "execution_count": 282,
     "metadata": {},
     "output_type": "execute_result"
    }
   ],
   "source": [
    "accuracy_score(pred,y_test)"
   ]
  },
  {
   "cell_type": "code",
   "execution_count": 283,
   "metadata": {},
   "outputs": [
    {
     "name": "stdout",
     "output_type": "stream",
     "text": [
      "el numer es:  [3]\n"
     ]
    },
    {
     "data": {
      "image/png": "[encoded data removed]",
      "text/plain": [
       "<Figure size 432x288 with 1 Axes>"
      ]
     },
     "metadata": {
      "needs_background": "light"
     },
     "output_type": "display_data"
    }
   ],
   "source": [
    "idx = 9980\n",
    "img = x_test[idx]\n",
    "plt.imshow(img.reshape((28,28)))\n",
    "pred_idx = np.argmax(model.forward(img.reshape((1,28*28))),axis=1)\n",
    "print(\"el numer es: \",pred_idx)"
   ]
  },
  {
   "cell_type": "code",
   "execution_count": 263,
   "metadata": {},
   "outputs": [],
   "source": [
    "def gauss(u,s,sinv,x):\n",
    "    return "
   ]
  },
  {
   "cell_type": "code",
   "execution_count": 280,
   "metadata": {},
   "outputs": [
    {
     "data": {
      "text/plain": [
       "(177,)"
      ]
     },
     "execution_count": 280,
     "metadata": {},
     "output_type": "execute_result"
    }
   ],
   "source": [
    "np.where(~(pred == y_test))[0].shape"
   ]
  },
  {
   "cell_type": "code",
   "execution_count": 289,
   "metadata": {},
   "outputs": [],
   "source": [
    "from sklearn.neural_network import MLPClassifier\n",
    "from sklearn.datasets import make_classification"
   ]
  },
  {
   "cell_type": "code",
   "execution_count": 298,
   "metadata": {},
   "outputs": [],
   "source": [
    "model1 = MLPClassifier(hidden_layer_sizes=(500,100),max_iter=10)"
   ]
  },
  {
   "cell_type": "code",
   "execution_count": 299,
   "metadata": {},
   "outputs": [
    {
     "name": "stderr",
     "output_type": "stream",
     "text": [
      "/home/elvin/.local/lib/python3.8/site-packages/sklearn/neural_network/_multilayer_perceptron.py:582: ConvergenceWarning: Stochastic Optimizer: Maximum iterations (10) reached and the optimization hasn't converged yet.\n",
      "  warnings.warn(\n"
     ]
    },
    {
     "data": {
      "text/plain": [
       "MLPClassifier(hidden_layer_sizes=(500, 100), max_iter=10)"
      ]
     },
     "execution_count": 299,
     "metadata": {},
     "output_type": "execute_result"
    }
   ],
   "source": [
    "model1.fit(x_train/255,y_train)"
   ]
  },
  {
   "cell_type": "code",
   "execution_count": 303,
   "metadata": {},
   "outputs": [],
   "source": [
    "pred2 = model1.predict(x_test/255.0)"
   ]
  },
  {
   "cell_type": "code",
   "execution_count": 305,
   "metadata": {},
   "outputs": [
    {
     "data": {
      "text/plain": [
       "0.9786"
      ]
     },
     "execution_count": 305,
     "metadata": {},
     "output_type": "execute_result"
    }
   ],
   "source": [
    "accuracy_score(pred2,y_test)"
   ]
  },
  {
   "cell_type": "code",
   "execution_count": 316,
   "metadata": {},
   "outputs": [],
   "source": [
    "x_train_2 = x_train/255.0\n",
    "x_test_2 = x_test/255.0"
   ]
  },
  {
   "cell_type": "code",
   "execution_count": 465,
   "metadata": {},
   "outputs": [],
   "source": [
    "from sklearn.decomposition import PCA"
   ]
  },
  {
   "cell_type": "code",
   "execution_count": 703,
   "metadata": {},
   "outputs": [],
   "source": [
    "dim = 22"
   ]
  },
  {
   "cell_type": "code",
   "execution_count": 704,
   "metadata": {},
   "outputs": [],
   "source": [
    "pca = PCA(dim)"
   ]
  },
  {
   "cell_type": "code",
   "execution_count": 705,
   "metadata": {},
   "outputs": [],
   "source": [
    "model3 = pca.fit(x_train_2)"
   ]
  },
  {
   "cell_type": "code",
   "execution_count": 706,
   "metadata": {},
   "outputs": [],
   "source": [
    "x_train_3 = model3.transform(x_train_2)"
   ]
  },
  {
   "cell_type": "code",
   "execution_count": 707,
   "metadata": {},
   "outputs": [],
   "source": [
    "x_test_3 = model3.transform(x_test_2)"
   ]
  },
  {
   "cell_type": "code",
   "execution_count": 708,
   "metadata": {},
   "outputs": [],
   "source": [
    "u = []\n",
    "for i in range(10):\n",
    "    test = x_train_3[y_train == i]\n",
    "    u.append(test.sum(axis=0)/test.size)\n",
    "u = np.array(u)"
   ]
  },
  {
   "cell_type": "code",
   "execution_count": 709,
   "metadata": {},
   "outputs": [],
   "source": [
    "s = []\n",
    "for i in range(10):\n",
    "    test = x_train_3[y_train == i] - u[i]\n",
    "    s.append(np.sum(np.matmul(test.reshape((-1,dim,1)),test.reshape((-1,1,dim))),axis=0) /test.size)\n",
    "s = np.array(s)"
   ]
  },
  {
   "cell_type": "code",
   "execution_count": 710,
   "metadata": {},
   "outputs": [],
   "source": [
    "sinv = []\n",
    "sdet = []\n",
    "for _s in s:\n",
    "    sinv.append(np.linalg.inv(_s))\n",
    "    sdet.append(np.linalg.det(_s) ** (1/2))\n",
    "sinv = np.array(sinv)\n",
    "sdet = np.array(sdet)"
   ]
  },
  {
   "cell_type": "code",
   "execution_count": 711,
   "metadata": {},
   "outputs": [],
   "source": [
    "def gauss(x,_u,_sinv,_sdet):\n",
    "    _tmp = (x - _u)\n",
    "    A = (1/(_sdet))\n",
    "    return A * np.exp(-_tmp.dot(_sinv.dot(_tmp)) / 2)"
   ]
  },
  {
   "cell_type": "code",
   "execution_count": 712,
   "metadata": {},
   "outputs": [],
   "source": [
    "def gauss_predict(x):\n",
    "    _tmp = []\n",
    "    for i in range(10):\n",
    "        _tmp.append(gauss(x,u[i],sinv[i],sdet[i]))\n",
    "    _tmp = np.array(_tmp)\n",
    "    return np.argmax(_tmp)"
   ]
  },
  {
   "cell_type": "code",
   "execution_count": 713,
   "metadata": {},
   "outputs": [
    {
     "name": "stdout",
     "output_type": "stream",
     "text": [
      "4\n"
     ]
    },
    {
     "data": {
      "image/png": "[encoded data removed]",
      "text/plain": [
       "<Figure size 432x288 with 1 Axes>"
      ]
     },
     "metadata": {
      "needs_background": "light"
     },
     "output_type": "display_data"
    }
   ],
   "source": [
    "idx = 42\n",
    "plt.imshow(x_test[idx].reshape(28,28))\n",
    "print(gauss_predict(x_test_3[idx]))"
   ]
  },
  {
   "cell_type": "code",
   "execution_count": 714,
   "metadata": {},
   "outputs": [],
   "source": [
    "results = []\n",
    "for elem in x_test_3:\n",
    "    results.append(gauss_predict(elem))\n",
    "results = np.array(results)"
   ]
  },
  {
   "cell_type": "code",
   "execution_count": 715,
   "metadata": {},
   "outputs": [
    {
     "data": {
      "text/plain": [
       "array([[ 957,    0,    5,    0,    3,    5,   23,    1,    4,    5],\n",
       "       [   0,  984,    0,    0,    0,    0,    0,    0,    0,    0],\n",
       "       [   7,   23, 1006,   14,   23,    5,    5,   58,   25,   24],\n",
       "       [   2,    5,    2,  959,    3,   38,    0,    7,   25,   10],\n",
       "       [   0,    0,    1,    1,  922,    0,    1,    5,    1,   21],\n",
       "       [   6,    1,    1,   14,    2,  819,   28,    6,    7,   11],\n",
       "       [   2,    0,    3,    0,    1,    4,  882,    0,    2,    0],\n",
       "       [   1,    0,    2,    4,    1,    0,    0,  884,    2,    2],\n",
       "       [   5,  122,   11,   14,    8,   20,   19,   36,  905,   28],\n",
       "       [   0,    0,    1,    4,   19,    1,    0,   31,    3,  908]])"
      ]
     },
     "execution_count": 715,
     "metadata": {},
     "output_type": "execute_result"
    }
   ],
   "source": [
    "confusion_matrix(results,y_test)"
   ]
  },
  {
   "cell_type": "code",
   "execution_count": 716,
   "metadata": {},
   "outputs": [
    {
     "data": {
      "text/plain": [
       "0.9226"
      ]
     },
     "execution_count": 716,
     "metadata": {},
     "output_type": "execute_result"
    }
   ],
   "source": [
    "accuracy_score(results,y_test)"
   ]
  }
 ],
 "metadata": {
  "kernelspec": {
   "display_name": "Python 3",
   "language": "python",
   "name": "python3"
  },
  "language_info": {
   "codemirror_mode": {
    "name": "ipython",
    "version": 3
   },
   "file_extension": ".py",
   "mimetype": "text/x-python",
   "name": "python",
   "nbconvert_exporter": "python",
   "pygments_lexer": "ipython3",
   "version": "3.8.5"
  }
 },
 "nbformat": 4,
 "nbformat_minor": 4
}
