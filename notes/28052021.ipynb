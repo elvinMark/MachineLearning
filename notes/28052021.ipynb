{
  "nbformat": 4,
  "nbformat_minor": 0,
  "metadata": {
    "kernelspec": {
      "display_name": "Python 3",
      "language": "python",
      "name": "python3"
    },
    "language_info": {
      "codemirror_mode": {
        "name": "ipython",
        "version": 3
      },
      "file_extension": ".py",
      "mimetype": "text/x-python",
      "name": "python",
      "nbconvert_exporter": "python",
      "pygments_lexer": "ipython3",
      "version": "3.8.5"
    },
    "colab": {
      "name": "28052021.ipynb",
      "provenance": [],
      "collapsed_sections": []
    }
  },
  "cells": [
    {
      "cell_type": "code",
      "metadata": {
        "id": "z9KnUYL6lgVB"
      },
      "source": [
        "import numpy as np\n",
        "import matplotlib.pyplot as plt"
      ],
      "execution_count": null,
      "outputs": []
    },
    {
      "cell_type": "code",
      "metadata": {
        "id": "JKF9_U4flgVP"
      },
      "source": [
        "from sklearn.linear_model import LinearRegression"
      ],
      "execution_count": null,
      "outputs": []
    },
    {
      "cell_type": "code",
      "metadata": {
        "id": "UGet93ZXlgVS",
        "colab": {
          "base_uri": "https://localhost:8080/",
          "height": 283
        },
        "outputId": "c33d76d7-f2ea-423f-81e3-8e503366232e"
      },
      "source": [
        "# Plot a line with slope a = 3 and intersection b = 2 in the interval from 0 to 5  (100 points)\n",
        "# hint: use np.linspace to create the x points \n",
        "# hint: use plt.plot to plot \n",
        "x = np.linspace(0,5,100)\n",
        "y = 3 * x + 2\n",
        "plt.plot(x,y)"
      ],
      "execution_count": null,
      "outputs": [
        {
          "output_type": "execute_result",
          "data": {
            "text/plain": [
              "[<matplotlib.lines.Line2D at 0x7f07efe47410>]"
            ]
          },
          "metadata": {
            "tags": []
          },
          "execution_count": 3
        },
        {
          "output_type": "display_data",
          "data": {
            "image/png": "[encoded data removed]",
            "text/plain": [
              "<Figure size 432x288 with 1 Axes>"
            ]
          },
          "metadata": {
            "tags": [],
            "needs_background": "light"
          }
        }
      ]
    },
    {
      "cell_type": "code",
      "metadata": {
        "id": "pM34U8VKlgVb"
      },
      "source": [
        "# adding some noise to the previous data and plot it again (this time not as a line but as points)\n",
        "# hint: use np.random.random to create random numbers between 0 and 1\n",
        "# hint: scatter"
      ],
      "execution_count": null,
      "outputs": []
    },
    {
      "cell_type": "code",
      "metadata": {
        "id": "6mPaxg9QlgVe",
        "colab": {
          "base_uri": "https://localhost:8080/",
          "height": 283
        },
        "outputId": "338d9354-4009-4fe8-ea66-3bd32f5a017e"
      },
      "source": [
        "y1 = y + 3*(np.random.random(100) - 0.5)\n",
        "plt.scatter(x,y1)"
      ],
      "execution_count": null,
      "outputs": [
        {
          "output_type": "execute_result",
          "data": {
            "text/plain": [
              "<matplotlib.collections.PathCollection at 0x7f07ef931450>"
            ]
          },
          "metadata": {
            "tags": []
          },
          "execution_count": 4
        },
        {
          "output_type": "display_data",
          "data": {
            "image/png": "[encoded data removed]",
            "text/plain": [
              "<Figure size 432x288 with 1 Axes>"
            ]
          },
          "metadata": {
            "tags": [],
            "needs_background": "light"
          }
        }
      ]
    },
    {
      "cell_type": "code",
      "metadata": {
        "id": "ZEGWimWVlgVf",
        "colab": {
          "base_uri": "https://localhost:8080/"
        },
        "outputId": "4386f18a-abc6-4708-a59d-baf50d429afd"
      },
      "source": [
        "x.shape"
      ],
      "execution_count": null,
      "outputs": [
        {
          "output_type": "execute_result",
          "data": {
            "text/plain": [
              "(100,)"
            ]
          },
          "metadata": {
            "tags": []
          },
          "execution_count": 5
        }
      ]
    },
    {
      "cell_type": "code",
      "metadata": {
        "id": "966S78-ZlgVj"
      },
      "source": [
        "x1 = x.reshape((100,1))"
      ],
      "execution_count": null,
      "outputs": []
    },
    {
      "cell_type": "code",
      "metadata": {
        "colab": {
          "base_uri": "https://localhost:8080/"
        },
        "id": "823pCmCcnuHX",
        "outputId": "f1e443b9-b024-464e-b333-3457918fc223"
      },
      "source": [
        "print(x1.shape)"
      ],
      "execution_count": null,
      "outputs": [
        {
          "output_type": "stream",
          "text": [
            "(100, 1)\n"
          ],
          "name": "stdout"
        }
      ]
    },
    {
      "cell_type": "code",
      "metadata": {
        "id": "imacB-f6lgVl"
      },
      "source": [
        "model = LinearRegression()"
      ],
      "execution_count": null,
      "outputs": []
    },
    {
      "cell_type": "code",
      "metadata": {
        "id": "9hM9IdCqlgVp"
      },
      "source": [
        "reg = model.fit(x1,y1)"
      ],
      "execution_count": null,
      "outputs": []
    },
    {
      "cell_type": "code",
      "metadata": {
        "id": "psEACDXXlgVs"
      },
      "source": [
        ""
      ],
      "execution_count": null,
      "outputs": []
    },
    {
      "cell_type": "code",
      "metadata": {
        "id": "9t_A-xgFlgVv",
        "colab": {
          "base_uri": "https://localhost:8080/"
        },
        "outputId": "c14b3f4b-2eed-4569-e9ce-8793f8646d2a"
      },
      "source": [
        "print(reg.coef_) # y = b + a_0  x_ 0 + a_1 x _1 \n",
        "print(reg.intercept_)"
      ],
      "execution_count": null,
      "outputs": [
        {
          "output_type": "stream",
          "text": [
            "[3.03099365]\n",
            "1.8650999054255548\n"
          ],
          "name": "stdout"
        }
      ]
    },
    {
      "cell_type": "code",
      "metadata": {
        "id": "eNEVD1wclgVx"
      },
      "source": [
        ""
      ],
      "execution_count": null,
      "outputs": []
    },
    {
      "cell_type": "code",
      "metadata": {
        "id": "MNKjkQiklgVy"
      },
      "source": [
        "x2 = np.arange(6,100)"
      ],
      "execution_count": null,
      "outputs": []
    },
    {
      "cell_type": "code",
      "metadata": {
        "id": "XVOgVKhalgV0",
        "outputId": "4d593078-d2b4-4fd4-93a9-54445a51fd16"
      },
      "source": [
        "print(x2)"
      ],
      "execution_count": null,
      "outputs": [
        {
          "output_type": "stream",
          "text": [
            "[ 6  7  8  9 10 11 12 13 14 15 16 17 18 19 20 21 22 23 24 25 26 27 28 29\n",
            " 30 31 32 33 34 35 36 37 38 39 40 41 42 43 44 45 46 47 48 49 50 51 52 53\n",
            " 54 55 56 57 58 59 60 61 62 63 64 65 66 67 68 69 70 71 72 73 74 75 76 77\n",
            " 78 79 80 81 82 83 84 85 86 87 88 89 90 91 92 93 94 95 96 97 98 99]\n"
          ],
          "name": "stdout"
        }
      ]
    },
    {
      "cell_type": "code",
      "metadata": {
        "id": "TzX8VMmElgV3"
      },
      "source": [
        "x2 = x2.reshape(94,1)"
      ],
      "execution_count": null,
      "outputs": []
    },
    {
      "cell_type": "code",
      "metadata": {
        "id": "cL3wue7qlgV4",
        "outputId": "ad487910-656f-498f-8ea6-bd3ff5ae31b2"
      },
      "source": [
        "print(x2)"
      ],
      "execution_count": null,
      "outputs": [
        {
          "output_type": "stream",
          "text": [
            "[[ 6]\n",
            " [ 7]\n",
            " [ 8]\n",
            " [ 9]\n",
            " [10]\n",
            " [11]\n",
            " [12]\n",
            " [13]\n",
            " [14]\n",
            " [15]\n",
            " [16]\n",
            " [17]\n",
            " [18]\n",
            " [19]\n",
            " [20]\n",
            " [21]\n",
            " [22]\n",
            " [23]\n",
            " [24]\n",
            " [25]\n",
            " [26]\n",
            " [27]\n",
            " [28]\n",
            " [29]\n",
            " [30]\n",
            " [31]\n",
            " [32]\n",
            " [33]\n",
            " [34]\n",
            " [35]\n",
            " [36]\n",
            " [37]\n",
            " [38]\n",
            " [39]\n",
            " [40]\n",
            " [41]\n",
            " [42]\n",
            " [43]\n",
            " [44]\n",
            " [45]\n",
            " [46]\n",
            " [47]\n",
            " [48]\n",
            " [49]\n",
            " [50]\n",
            " [51]\n",
            " [52]\n",
            " [53]\n",
            " [54]\n",
            " [55]\n",
            " [56]\n",
            " [57]\n",
            " [58]\n",
            " [59]\n",
            " [60]\n",
            " [61]\n",
            " [62]\n",
            " [63]\n",
            " [64]\n",
            " [65]\n",
            " [66]\n",
            " [67]\n",
            " [68]\n",
            " [69]\n",
            " [70]\n",
            " [71]\n",
            " [72]\n",
            " [73]\n",
            " [74]\n",
            " [75]\n",
            " [76]\n",
            " [77]\n",
            " [78]\n",
            " [79]\n",
            " [80]\n",
            " [81]\n",
            " [82]\n",
            " [83]\n",
            " [84]\n",
            " [85]\n",
            " [86]\n",
            " [87]\n",
            " [88]\n",
            " [89]\n",
            " [90]\n",
            " [91]\n",
            " [92]\n",
            " [93]\n",
            " [94]\n",
            " [95]\n",
            " [96]\n",
            " [97]\n",
            " [98]\n",
            " [99]]\n"
          ],
          "name": "stdout"
        }
      ]
    },
    {
      "cell_type": "code",
      "metadata": {
        "id": "KGTDBxuMlgV5",
        "colab": {
          "base_uri": "https://localhost:8080/",
          "height": 171
        },
        "outputId": "f274ce8c-011c-4f67-9765-9413aa507ed2"
      },
      "source": [
        "reg.predict(x2)"
      ],
      "execution_count": null,
      "outputs": [
        {
          "output_type": "error",
          "ename": "NameError",
          "evalue": "ignored",
          "traceback": [
            "\u001b[0;31m---------------------------------------------------------------------------\u001b[0m",
            "\u001b[0;31mNameError\u001b[0m                                 Traceback (most recent call last)",
            "\u001b[0;32m<ipython-input-11-ccf6db16d2f5>\u001b[0m in \u001b[0;36m<module>\u001b[0;34m()\u001b[0m\n\u001b[0;32m----> 1\u001b[0;31m \u001b[0mreg\u001b[0m\u001b[0;34m.\u001b[0m\u001b[0mpredict\u001b[0m\u001b[0;34m(\u001b[0m\u001b[0mx2\u001b[0m\u001b[0;34m)\u001b[0m\u001b[0;34m\u001b[0m\u001b[0;34m\u001b[0m\u001b[0m\n\u001b[0m",
            "\u001b[0;31mNameError\u001b[0m: name 'x2' is not defined"
          ]
        }
      ]
    },
    {
      "cell_type": "code",
      "metadata": {
        "id": "yy0hRjYclgV7"
      },
      "source": [
        "x = np.random.random((100,2))"
      ],
      "execution_count": null,
      "outputs": []
    },
    {
      "cell_type": "code",
      "metadata": {
        "id": "1TAsNS3YlgV7",
        "colab": {
          "base_uri": "https://localhost:8080/"
        },
        "outputId": "32d32f5a-66f6-4c58-9a7d-b27ed0c3097a"
      },
      "source": [
        "x[:,0]"
      ],
      "execution_count": null,
      "outputs": [
        {
          "output_type": "execute_result",
          "data": {
            "text/plain": [
              "array([0.93268092, 0.12630445, 0.56548411, 0.34669739, 0.03986331,\n",
              "       0.80785822, 0.01206572, 0.79414692, 0.26621044, 0.26894194,\n",
              "       0.28865426, 0.54988873, 0.07021715, 0.36528976, 0.70557941,\n",
              "       0.14326738, 0.52411812, 0.52936487, 0.94602744, 0.6200769 ,\n",
              "       0.28282326, 0.20766066, 0.05079206, 0.03668352, 0.8803668 ,\n",
              "       0.73678477, 0.27839886, 0.57852097, 0.06311682, 0.40235032,\n",
              "       0.31053204, 0.31013414, 0.32882772, 0.10100255, 0.01452533,\n",
              "       0.9161103 , 0.41813076, 0.32696957, 0.35608687, 0.43925715,\n",
              "       0.83432363, 0.14584833, 0.69330947, 0.91215105, 0.12084471,\n",
              "       0.64738582, 0.79900615, 0.65822603, 0.13854614, 0.57886854,\n",
              "       0.25701684, 0.27381034, 0.14434069, 0.39596892, 0.75430612,\n",
              "       0.17515707, 0.68551499, 0.74958298, 0.29756405, 0.84236734,\n",
              "       0.24974831, 0.95588441, 0.76513777, 0.45649429, 0.83472289,\n",
              "       0.46340782, 0.15273233, 0.22403494, 0.00479764, 0.18265991,\n",
              "       0.09900295, 0.05545763, 0.49175365, 0.8960837 , 0.99542492,\n",
              "       0.4567469 , 0.717578  , 0.86963841, 0.60695116, 0.35705147,\n",
              "       0.82035427, 0.32141547, 0.2865184 , 0.38755631, 0.80838149,\n",
              "       0.60183075, 0.71907975, 0.75416274, 0.99514198, 0.30318267,\n",
              "       0.24117521, 0.62670236, 0.24048216, 0.70742365, 0.46905849,\n",
              "       0.50869711, 0.91289126, 0.17827896, 0.19567817, 0.09640753])"
            ]
          },
          "metadata": {
            "tags": []
          },
          "execution_count": 13
        }
      ]
    },
    {
      "cell_type": "code",
      "metadata": {
        "id": "Z-94fN6HlgV-",
        "colab": {
          "base_uri": "https://localhost:8080/",
          "height": 283
        },
        "outputId": "159f0c48-66eb-495d-e6a6-d3e1179c2b10"
      },
      "source": [
        "plt.scatter(x[:,0],x[:,1])"
      ],
      "execution_count": null,
      "outputs": [
        {
          "output_type": "execute_result",
          "data": {
            "text/plain": [
              "<matplotlib.collections.PathCollection at 0x7f07ef777a10>"
            ]
          },
          "metadata": {
            "tags": []
          },
          "execution_count": 14
        },
        {
          "output_type": "display_data",
          "data": {
            "image/png": "[encoded data removed]",
            "text/plain": [
              "<Figure size 432x288 with 1 Axes>"
            ]
          },
          "metadata": {
            "tags": [],
            "needs_background": "light"
          }
        }
      ]
    },
    {
      "cell_type": "code",
      "metadata": {
        "id": "ECmLShxUlgWB"
      },
      "source": [
        "# z = 2*x_0 + 5*x_1"
      ],
      "execution_count": null,
      "outputs": []
    },
    {
      "cell_type": "code",
      "metadata": {
        "id": "jJVTRaH9lgWB"
      },
      "source": [
        "z = 4*x[:,0] + 8*x[:,1]"
      ],
      "execution_count": null,
      "outputs": []
    },
    {
      "cell_type": "code",
      "metadata": {
        "id": "uUdEjG39lgWC",
        "colab": {
          "base_uri": "https://localhost:8080/"
        },
        "outputId": "94ce6906-e624-4c0a-b0b9-bc45a00777fa"
      },
      "source": [
        "#x,y,z\n",
        "# array [3,45]\n",
        "# tuple (1,2)\n",
        "# dictionary {\"a\":3,\"b\":4}\n",
        "for (i,j),k in zip(x,z):\n",
        "    print(i,j,k)"
      ],
      "execution_count": null,
      "outputs": [
        {
          "output_type": "stream",
          "text": [
            "0.9326809220076762 0.6779217615802711 9.154097780672874\n",
            "0.12630445068199903 0.014305732389091164 0.6196636618407254\n",
            "0.5654841130868713 0.3523503291992097 5.080739085941163\n",
            "0.34669738652371684 0.31958197924076237 3.9434453800209663\n",
            "0.03986330527274706 0.3633661464823633 3.066382392949895\n",
            "0.8078582165909548 0.5541578741518782 7.6646958595788455\n",
            "0.012065719938566977 0.7607869109373315 6.13455816725292\n",
            "0.7941469166605618 0.9341937097623404 10.65013734474097\n",
            "0.26621044211879896 0.7345217448122947 6.9410157269735535\n",
            "0.2689419432410459 0.6861545114413452 6.565003864494946\n",
            "0.28865425610082385 0.8531544354106636 7.979852507688604\n",
            "0.5498887314292686 0.9769670358813676 10.015291212768016\n",
            "0.07021714697085557 0.08420737185585336 0.9545275627302492\n",
            "0.3652897609391935 0.2938475964175822 3.8119398150974315\n",
            "0.7055794100970197 0.11255278945005631 3.7227399559885295\n",
            "0.1432673793244561 0.7782893027175327 6.799383939038086\n",
            "0.524118122041452 0.48959376934056775 6.01322264289035\n",
            "0.5293648690611522 0.7213328666573627 7.888122409503511\n",
            "0.9460274381548737 0.40572934245570225 7.029944492265113\n",
            "0.6200768989649322 0.968898808575023 10.231498064459913\n",
            "0.28282326222508025 0.14713918529672876 2.308406531274151\n",
            "0.2076606552286635 0.8125006339449645 7.33064769247437\n",
            "0.050792061679516665 0.34536848495104067 2.966116126326392\n",
            "0.036683520090518784 0.26033725645931494 2.2294321320365946\n",
            "0.8803668014991273 0.0829765326775721 4.185279467417086\n",
            "0.7367847720830393 0.4716877130423336 6.720640792670826\n",
            "0.2783988557811987 0.8250448298234574 7.713954061712454\n",
            "0.5785209665944736 0.5773619757579862 6.932979672441784\n",
            "0.06311681564722205 0.008906606187919275 0.3237201120922424\n",
            "0.4023503233878958 0.47410623576520294 5.402251179673207\n",
            "0.3105320407021448 0.6389100057871138 6.353408209105489\n",
            "0.3101341358111289 0.6157492887921703 6.166530853581878\n",
            "0.32882772045195663 0.9036643004829922 8.544625285671763\n",
            "0.10100254952193544 0.6151437527792248 5.325160220321541\n",
            "0.014525326656699145 0.5521833502189016 4.47556810837801\n",
            "0.9161102960696399 0.4254523625431684 7.068060084623907\n",
            "0.41813075843326486 0.28304504287824017 3.936883376758981\n",
            "0.32696956811277067 0.28663058445700174 3.6009229481070966\n",
            "0.3560868678691329 0.20390157130552566 3.055560041920737\n",
            "0.4392571548820038 0.2541351910417535 3.7901101478620434\n",
            "0.8343236273337676 0.42942300348470563 6.772678537212716\n",
            "0.14584833238163553 0.007576757138721857 0.644007386636317\n",
            "0.6933094732857363 0.5770598870682271 7.389716989688762\n",
            "0.9121510543317047 0.10468281943640678 4.486066772818074\n",
            "0.12084470868733277 0.08664070119769318 1.1765044443308765\n",
            "0.6473858212042122 0.3594227652685209 5.4649254069650155\n",
            "0.7990061497512195 0.0796238468679148 3.8330153739481965\n",
            "0.6582260302481566 0.5135437626259631 6.7412542220003315\n",
            "0.13854613587286913 0.21393190764372827 2.2656398046413027\n",
            "0.5788685381310908 0.19193520229106087 3.8509557708528503\n",
            "0.25701684475210107 0.1937289806953667 2.577899224571338\n",
            "0.2738103440344679 0.18767703290966986 2.5966576394152305\n",
            "0.14434068733117167 0.6742869813759733 5.971658600332473\n",
            "0.39596891981616544 0.3773780746727904 4.602900276646984\n",
            "0.7543061201724449 0.01352865101106715 3.125453688778317\n",
            "0.17515707125285185 0.7315432852406909 6.552974566936935\n",
            "0.685514991409595 0.19813266964953158 4.327121322834633\n",
            "0.7495829797216063 0.18411371186207115 4.471241613782994\n",
            "0.2975640515781136 0.36109342989508786 4.079003645473158\n",
            "0.8423673449492182 0.8466393402927852 10.142584102139153\n",
            "0.24974830571805262 0.05663666524834288 1.4520865448589535\n",
            "0.9558844057128655 0.024643524597508848 4.020685819631533\n",
            "0.7651377709227513 0.5582665474818663 7.526683463545936\n",
            "0.4564942868474041 0.6977522434442692 7.40799509494377\n",
            "0.834722886132675 0.7377491738565323 9.240884935382958\n",
            "0.46340782173836936 0.6882427569198917 7.359573342312611\n",
            "0.15273232752773036 0.4828740385195134 4.4739216182670285\n",
            "0.22403494321759465 0.3107032751279808 3.381765973894225\n",
            "0.004797641630632565 0.18695044285354212 1.5147941093508672\n",
            "0.18265990927077014 0.3766246741487759 3.7436370302732875\n",
            "0.09900295094974187 0.13203507600313535 1.4522924118240503\n",
            "0.0554576325704591 0.650721155740138 5.427599776202941\n",
            "0.49175364821736633 0.39795784463982453 5.150677349988062\n",
            "0.8960836951730928 0.7999395628843411 9.9838512837671\n",
            "0.9954249219336315 0.3568274414977628 6.8363192197166285\n",
            "0.45674689787595635 0.645468412212025 6.990734889200025\n",
            "0.7175779959853789 0.2913048399978343 5.200750703924189\n",
            "0.8696384116697948 0.28824440248473415 5.7845088665570525\n",
            "0.6069511580036367 0.44899469075437703 6.019762158049563\n",
            "0.35705147306916596 0.11916384346243847 2.3815166399761716\n",
            "0.8203542735519423 0.7135293075084841 8.989651554275643\n",
            "0.3214154726175311 0.44107254587560063 4.8142422574749295\n",
            "0.28651840497797465 0.5762794830075301 5.756309483972139\n",
            "0.38755631086289566 0.0386471447069302 1.8594024011070243\n",
            "0.8083814911745933 0.1451415753455808 4.39465856746302\n",
            "0.6018307544627998 0.8680155892053203 9.351447731493762\n",
            "0.7190797495413193 0.7766044774039991 9.089154817397269\n",
            "0.7541627440084444 0.6664536332607205 8.34828004211954\n",
            "0.9951419760632944 0.7966957216860897 10.354133677741896\n",
            "0.30318267132111076 0.560958536206442 5.700398974935979\n",
            "0.24117520594360453 0.10743652580279262 1.824193030196759\n",
            "0.6267023608489914 0.22731087132812133 4.3252964140209365\n",
            "0.2404821646406794 0.1479219134891574 2.1453039664759768\n",
            "0.7074236481463504 0.70960125918593 8.506504666072841\n",
            "0.46905848730376676 0.9723522282280955 9.655051775039832\n",
            "0.5086971114706575 0.18354298713391348 3.503132342953938\n",
            "0.9128912609848315 0.10598754529151 4.499465406271407\n",
            "0.17827895770593027 0.9647428902795403 8.431058953060043\n",
            "0.19567816941510985 0.7865642356896221 7.0752265631774165\n",
            "0.09640752745970971 0.028121676271297247 0.6106035200092168\n"
          ],
          "name": "stdout"
        }
      ]
    },
    {
      "cell_type": "code",
      "metadata": {
        "id": "jGvLhCdnlgWD"
      },
      "source": [
        "a = [i**2 for i in range(10)]"
      ],
      "execution_count": null,
      "outputs": []
    },
    {
      "cell_type": "code",
      "metadata": {
        "id": "JDs2bNfJlgWE"
      },
      "source": [
        "#x,y,z\n",
        "b = [[i,i,i] for i in range(10)]"
      ],
      "execution_count": null,
      "outputs": []
    },
    {
      "cell_type": "code",
      "metadata": {
        "id": "gjJZT1GWlgWF"
      },
      "source": [
        "data = np.array([[i,j,k] for (i,j),k in zip(x,z)])"
      ],
      "execution_count": null,
      "outputs": []
    },
    {
      "cell_type": "code",
      "metadata": {
        "id": "uHjm7gsjlgWG",
        "colab": {
          "base_uri": "https://localhost:8080/",
          "height": 266
        },
        "outputId": "8ab3732c-26f4-4c0d-f601-ccb9b8b6ee85"
      },
      "source": [
        "fig = plt.figure()\n",
        "ax = fig.add_subplot(projection='3d')\n",
        "ax.scatter(data[:,0],data[:,1],data[:,2])"
      ],
      "execution_count": null,
      "outputs": [
        {
          "output_type": "execute_result",
          "data": {
            "text/plain": [
              "<mpl_toolkits.mplot3d.art3d.Path3DCollection at 0x7f07e2be3b50>"
            ]
          },
          "metadata": {
            "tags": []
          },
          "execution_count": 58
        },
        {
          "output_type": "display_data",
          "data": {
            "image/png": "[encoded data removed]",
            "text/plain": [
              "<Figure size 432x288 with 1 Axes>"
            ]
          },
          "metadata": {
            "tags": [],
            "needs_background": "light"
          }
        }
      ]
    },
    {
      "cell_type": "code",
      "metadata": {
        "id": "cZnwDAr2lgWH"
      },
      "source": [
        "# add noise to data\n",
        "data1 = np.array([[i,j,k] for (i,j),k in zip(x,z + 2*(np.random.random(100) - 0.5))])"
      ],
      "execution_count": null,
      "outputs": []
    },
    {
      "cell_type": "code",
      "metadata": {
        "id": "ymzlk7kTlgWI",
        "colab": {
          "base_uri": "https://localhost:8080/",
          "height": 266
        },
        "outputId": "31c147eb-e7cd-4337-e305-ffe086f465ea"
      },
      "source": [
        "fig = plt.figure()\n",
        "ax = fig.add_subplot(projection='3d')\n",
        "ax.scatter(data1[:,0],data1[:,1],data1[:,2])\n",
        "ax.scatter(data[:,0],data[:,1],data[:,2])"
      ],
      "execution_count": null,
      "outputs": [
        {
          "output_type": "execute_result",
          "data": {
            "text/plain": [
              "<mpl_toolkits.mplot3d.art3d.Path3DCollection at 0x7f07e2aea5d0>"
            ]
          },
          "metadata": {
            "tags": []
          },
          "execution_count": 60
        },
        {
          "output_type": "display_data",
          "data": {
            "image/png": "[encoded data removed]",
            "text/plain": [
              "<Figure size 432x288 with 1 Axes>"
            ]
          },
          "metadata": {
            "tags": [],
            "needs_background": "light"
          }
        }
      ]
    },
    {
      "cell_type": "code",
      "metadata": {
        "id": "-9ngJU9flgWJ"
      },
      "source": [
        "# calculate the mean of data1\n",
        "# hint: use np.sum\n",
        "mean = np.sum(data1,axis=0)/len(data1)"
      ],
      "execution_count": null,
      "outputs": []
    },
    {
      "cell_type": "code",
      "metadata": {
        "colab": {
          "base_uri": "https://localhost:8080/"
        },
        "id": "N16IR-rvocgW",
        "outputId": "f96c31c0-0d9f-45e4-9fbf-a2f3ea06b05d"
      },
      "source": [
        "print(mean)"
      ],
      "execution_count": null,
      "outputs": [
        {
          "output_type": "stream",
          "text": [
            "[0.46055679 0.44266202 5.4037672 ]\n"
          ],
          "name": "stdout"
        }
      ]
    },
    {
      "cell_type": "code",
      "metadata": {
        "id": "C9FeNZoJodEb"
      },
      "source": [
        ""
      ],
      "execution_count": null,
      "outputs": []
    },
    {
      "cell_type": "code",
      "metadata": {
        "id": "0olzfc0DlgWJ",
        "colab": {
          "base_uri": "https://localhost:8080/"
        },
        "outputId": "74fdf87d-cccd-401f-97a6-871b9acd03cd"
      },
      "source": [
        "data1.shape[1]"
      ],
      "execution_count": null,
      "outputs": [
        {
          "output_type": "execute_result",
          "data": {
            "text/plain": [
              "3"
            ]
          },
          "metadata": {
            "tags": []
          },
          "execution_count": 22
        }
      ]
    },
    {
      "cell_type": "code",
      "metadata": {
        "id": "a8IyEHYblgWL"
      },
      "source": [
        "d = data1 - mean"
      ],
      "execution_count": null,
      "outputs": []
    },
    {
      "cell_type": "code",
      "metadata": {
        "colab": {
          "base_uri": "https://localhost:8080/"
        },
        "id": "kMPKw-m5ojkt",
        "outputId": "5153d6ce-ac27-4b73-ec26-765c721f570f"
      },
      "source": [
        "print(d.shape)"
      ],
      "execution_count": null,
      "outputs": [
        {
          "output_type": "stream",
          "text": [
            "(100, 3)\n"
          ],
          "name": "stdout"
        }
      ]
    },
    {
      "cell_type": "code",
      "metadata": {
        "id": "JMjwisfjlgWL"
      },
      "source": [
        "d = d.reshape((100,3,1))"
      ],
      "execution_count": null,
      "outputs": []
    },
    {
      "cell_type": "code",
      "metadata": {
        "colab": {
          "base_uri": "https://localhost:8080/"
        },
        "id": "XlQp35oioo2J",
        "outputId": "4ff79185-a152-4ba2-eda7-90dcdfa7b0e9"
      },
      "source": [
        "print(d.shape)"
      ],
      "execution_count": null,
      "outputs": [
        {
          "output_type": "stream",
          "text": [
            "(100, 3, 1)\n"
          ],
          "name": "stdout"
        }
      ]
    },
    {
      "cell_type": "code",
      "metadata": {
        "id": "1gKVA59mlgWL"
      },
      "source": [
        "d1 = d.transpose((0,2,1))"
      ],
      "execution_count": null,
      "outputs": []
    },
    {
      "cell_type": "code",
      "metadata": {
        "id": "WQs3BdyrlgWL",
        "colab": {
          "base_uri": "https://localhost:8080/"
        },
        "outputId": "f1c56429-3a34-4489-9ac4-21fffe2c49c5"
      },
      "source": [
        "d1"
      ],
      "execution_count": null,
      "outputs": [
        {
          "output_type": "execute_result",
          "data": {
            "text/plain": [
              "array([[[ 4.72124133e-01,  2.35259737e-01,  4.48427388e+00]],\n",
              "\n",
              "       [[-3.34252339e-01, -4.28356293e-01, -4.38472488e+00]],\n",
              "\n",
              "       [[ 1.04927324e-01, -9.03116957e-02, -1.06024946e+00]],\n",
              "\n",
              "       [[-1.13859403e-01, -1.23080046e-01, -6.83892502e-01]],\n",
              "\n",
              "       [[-4.20693484e-01, -7.92958784e-02, -2.90940493e+00]],\n",
              "\n",
              "       [[ 3.47301427e-01,  1.11495849e-01,  1.82573470e+00]],\n",
              "\n",
              "       [[-4.48491069e-01,  3.18124886e-01,  8.32195391e-01]],\n",
              "\n",
              "       [[ 3.33590127e-01,  4.91531685e-01,  4.37789317e+00]],\n",
              "\n",
              "       [[-1.94346347e-01,  2.91859720e-01,  1.70211443e+00]],\n",
              "\n",
              "       [[-1.91614846e-01,  2.43492487e-01,  1.94160997e+00]],\n",
              "\n",
              "       [[-1.71902533e-01,  4.10492410e-01,  2.08517977e+00]],\n",
              "\n",
              "       [[ 8.93319421e-02,  5.34305011e-01,  3.87778526e+00]],\n",
              "\n",
              "       [[-3.90339642e-01, -3.58454653e-01, -3.72222196e+00]],\n",
              "\n",
              "       [[-9.52670284e-02, -1.48814429e-01, -8.56133779e-01]],\n",
              "\n",
              "       [[ 2.45022621e-01, -3.30109235e-01, -1.82563741e+00]],\n",
              "\n",
              "       [[-3.17289410e-01,  3.35627278e-01,  1.46672963e+00]],\n",
              "\n",
              "       [[ 6.35613327e-02,  4.69317444e-02,  1.30496799e+00]],\n",
              "\n",
              "       [[ 6.88080797e-02,  2.78670842e-01,  3.35780270e+00]],\n",
              "\n",
              "       [[ 4.85470649e-01, -3.69326825e-02,  1.02379463e+00]],\n",
              "\n",
              "       [[ 1.59520110e-01,  5.26236784e-01,  4.44882963e+00]],\n",
              "\n",
              "       [[-1.77733527e-01, -2.95522840e-01, -2.30312113e+00]],\n",
              "\n",
              "       [[-2.52896134e-01,  3.69838609e-01,  1.79518399e+00]],\n",
              "\n",
              "       [[-4.09764728e-01, -9.72935400e-02, -2.48569032e+00]],\n",
              "\n",
              "       [[-4.23873269e-01, -1.82324768e-01, -2.83252543e+00]],\n",
              "\n",
              "       [[ 4.19810012e-01, -3.59685492e-01, -4.64959183e-01]],\n",
              "\n",
              "       [[ 2.76227983e-01,  2.90256881e-02,  1.03353525e+00]],\n",
              "\n",
              "       [[-1.82157934e-01,  3.82382805e-01,  1.66790485e+00]],\n",
              "\n",
              "       [[ 1.17964177e-01,  1.34699951e-01,  1.77813433e+00]],\n",
              "\n",
              "       [[-3.97439974e-01, -4.33755419e-01, -5.84264094e+00]],\n",
              "\n",
              "       [[-5.82064660e-02,  3.14442108e-02,  2.52019544e-01]],\n",
              "\n",
              "       [[-1.50024749e-01,  1.96247981e-01, -3.87691371e-02]],\n",
              "\n",
              "       [[-1.50422654e-01,  1.73087264e-01,  4.13880313e-01]],\n",
              "\n",
              "       [[-1.31729069e-01,  4.61002276e-01,  2.82235808e+00]],\n",
              "\n",
              "       [[-3.59554240e-01,  1.72481728e-01, -1.88867599e-01]],\n",
              "\n",
              "       [[-4.46031463e-01,  1.09521325e-01, -1.55904982e+00]],\n",
              "\n",
              "       [[ 4.55553507e-01, -1.72096624e-02,  2.30513555e+00]],\n",
              "\n",
              "       [[-4.24260309e-02, -1.59616982e-01, -6.20724931e-01]],\n",
              "\n",
              "       [[-1.33587221e-01, -1.56031440e-01, -2.04928948e+00]],\n",
              "\n",
              "       [[-1.04469921e-01, -2.38760454e-01, -2.85401839e+00]],\n",
              "\n",
              "       [[-2.12996345e-02, -1.88526834e-01, -2.09508633e+00]],\n",
              "\n",
              "       [[ 3.73766838e-01, -1.32390214e-02,  1.93294772e+00]],\n",
              "\n",
              "       [[-3.14708457e-01, -4.35085268e-01, -4.02791735e+00]],\n",
              "\n",
              "       [[ 2.32752684e-01,  1.34397862e-01,  2.96871901e+00]],\n",
              "\n",
              "       [[ 4.51594265e-01, -3.37979205e-01, -1.75971249e-01]],\n",
              "\n",
              "       [[-3.39712081e-01, -3.56021324e-01, -4.63091232e+00]],\n",
              "\n",
              "       [[ 1.86829032e-01, -8.32392597e-02,  4.74940827e-01]],\n",
              "\n",
              "       [[ 3.38449360e-01, -3.63038178e-01, -1.91236076e+00]],\n",
              "\n",
              "       [[ 1.97669241e-01,  7.08817377e-02,  1.02329923e+00]],\n",
              "\n",
              "       [[-3.22010653e-01, -2.28730117e-01, -2.34679281e+00]],\n",
              "\n",
              "       [[ 1.18311749e-01, -2.50726823e-01, -6.82153055e-01]],\n",
              "\n",
              "       [[-2.03539945e-01, -2.48933044e-01, -1.99496954e+00]],\n",
              "\n",
              "       [[-1.86746445e-01, -2.54984992e-01, -2.19069890e+00]],\n",
              "\n",
              "       [[-3.16216102e-01,  2.31624956e-01,  7.54583165e-01]],\n",
              "\n",
              "       [[-6.45878695e-02, -6.52839503e-02, -9.98337522e-01]],\n",
              "\n",
              "       [[ 2.93749331e-01, -4.29133374e-01, -3.06800324e+00]],\n",
              "\n",
              "       [[-2.85399718e-01,  2.88881260e-01,  1.41444786e+00]],\n",
              "\n",
              "       [[ 2.24958202e-01, -2.44529355e-01, -1.77833057e+00]],\n",
              "\n",
              "       [[ 2.89026190e-01, -2.58548313e-01, -1.07930642e+00]],\n",
              "\n",
              "       [[-1.62992738e-01, -8.15685950e-02, -2.26401015e+00]],\n",
              "\n",
              "       [[ 3.81810556e-01,  4.03977315e-01,  3.99302783e+00]],\n",
              "\n",
              "       [[-2.10808484e-01, -3.86025360e-01, -3.93029586e+00]],\n",
              "\n",
              "       [[ 4.95327616e-01, -4.18018500e-01, -1.86999810e+00]],\n",
              "\n",
              "       [[ 3.04580982e-01,  1.15604523e-01,  3.11586461e+00]],\n",
              "\n",
              "       [[-4.06250250e-03,  2.55090219e-01,  1.62472159e+00]],\n",
              "\n",
              "       [[ 3.74166097e-01,  2.95087149e-01,  2.96329928e+00]],\n",
              "\n",
              "       [[ 2.85103239e-03,  2.45580732e-01,  1.16755495e+00]],\n",
              "\n",
              "       [[-3.07824462e-01,  4.02120136e-02, -6.55335531e-01]],\n",
              "\n",
              "       [[-2.36521846e-01, -1.31958750e-01, -1.47851088e+00]],\n",
              "\n",
              "       [[-4.55759148e-01, -2.55711582e-01, -3.78554297e+00]],\n",
              "\n",
              "       [[-2.77896880e-01, -6.60373508e-02, -2.04553690e+00]],\n",
              "\n",
              "       [[-3.61553838e-01, -3.10626949e-01, -3.98508987e+00]],\n",
              "\n",
              "       [[-4.05099157e-01,  2.08059131e-01,  9.64166131e-01]],\n",
              "\n",
              "       [[ 3.11968589e-02, -4.47041803e-02, -6.02672225e-01]],\n",
              "\n",
              "       [[ 4.35526906e-01,  3.57277538e-01,  3.62207060e+00]],\n",
              "\n",
              "       [[ 5.34868133e-01, -8.58345834e-02,  1.86423150e+00]],\n",
              "\n",
              "       [[-3.80989147e-03,  2.02806387e-01,  1.08540750e+00]],\n",
              "\n",
              "       [[ 2.57021207e-01, -1.51357185e-01,  1.42055483e-02]],\n",
              "\n",
              "       [[ 4.09081622e-01, -1.54417622e-01,  1.21348177e+00]],\n",
              "\n",
              "       [[ 1.46394369e-01,  6.33266583e-03,  7.64187160e-01]],\n",
              "\n",
              "       [[-1.03505316e-01, -3.23498181e-01, -3.67077004e+00]],\n",
              "\n",
              "       [[ 3.59797484e-01,  2.70867283e-01,  4.13782798e+00]],\n",
              "\n",
              "       [[-1.39141317e-01, -1.58947905e-03, -4.33835539e-01]],\n",
              "\n",
              "       [[-1.74038384e-01,  1.33617458e-01,  6.64567581e-01]],\n",
              "\n",
              "       [[-7.30004785e-02, -4.04014880e-01, -3.54283738e+00]],\n",
              "\n",
              "       [[ 3.47824702e-01, -2.97520450e-01, -7.28275299e-01]],\n",
              "\n",
              "       [[ 1.41273965e-01,  4.25353564e-01,  3.81143371e+00]],\n",
              "\n",
              "       [[ 2.58522960e-01,  3.33942452e-01,  3.64010248e+00]],\n",
              "\n",
              "       [[ 2.93605955e-01,  2.23791608e-01,  3.23865717e+00]],\n",
              "\n",
              "       [[ 5.34585187e-01,  3.54033697e-01,  5.92091746e+00]],\n",
              "\n",
              "       [[-1.57374118e-01,  1.18296511e-01,  2.77626354e-02]],\n",
              "\n",
              "       [[-2.19381583e-01, -3.35225499e-01, -4.50276874e+00]],\n",
              "\n",
              "       [[ 1.66145572e-01, -2.15351154e-01, -1.88175169e+00]],\n",
              "\n",
              "       [[-2.20074625e-01, -2.94740111e-01, -3.70498039e+00]],\n",
              "\n",
              "       [[ 2.46866859e-01,  2.66939234e-01,  3.37372709e+00]],\n",
              "\n",
              "       [[ 8.50169796e-03,  5.29690203e-01,  5.23662052e+00]],\n",
              "\n",
              "       [[ 4.81403221e-02, -2.59119038e-01, -1.12120482e+00]],\n",
              "\n",
              "       [[ 4.52334472e-01, -3.36674480e-01, -9.33300531e-01]],\n",
              "\n",
              "       [[-2.82277832e-01,  5.22080865e-01,  2.68375944e+00]],\n",
              "\n",
              "       [[-2.64878620e-01,  3.43902211e-01,  1.89222628e+00]],\n",
              "\n",
              "       [[-3.64149262e-01, -4.14540349e-01, -5.58634341e+00]]])"
            ]
          },
          "metadata": {
            "tags": []
          },
          "execution_count": 67
        }
      ]
    },
    {
      "cell_type": "code",
      "metadata": {
        "id": "7c7703lHqNzd"
      },
      "source": [
        "# matrix multiplication\n",
        "tmp = np.matmul(d,d1)"
      ],
      "execution_count": null,
      "outputs": []
    },
    {
      "cell_type": "code",
      "metadata": {
        "colab": {
          "base_uri": "https://localhost:8080/"
        },
        "id": "pHpfxiHEqS8E",
        "outputId": "88a99694-33fd-41a4-b4ac-ac5c0b2d4277"
      },
      "source": [
        "print(tmp.shape)"
      ],
      "execution_count": null,
      "outputs": [
        {
          "output_type": "stream",
          "text": [
            "(100, 3, 3)\n"
          ],
          "name": "stdout"
        }
      ]
    },
    {
      "cell_type": "code",
      "metadata": {
        "id": "kJhEso0BqXiR"
      },
      "source": [
        "s = np.sum(tmp,axis=0)/len(tmp)"
      ],
      "execution_count": null,
      "outputs": []
    },
    {
      "cell_type": "code",
      "metadata": {
        "id": "36lp3p5qqtuT"
      },
      "source": [
        "p,q = np.linalg.eig(s)"
      ],
      "execution_count": null,
      "outputs": []
    },
    {
      "cell_type": "code",
      "metadata": {
        "colab": {
          "base_uri": "https://localhost:8080/"
        },
        "id": "VY2fSxq0u8Wv",
        "outputId": "39a8c6b1-229c-4b68-a86d-2236ab10da3d"
      },
      "source": [
        "print(p)\n",
        "print(q)"
      ],
      "execution_count": null,
      "outputs": [
        {
          "output_type": "stream",
          "text": [
            "[7.03789753e+00 7.63915091e-02 4.04087576e-03]\n",
            "[[-0.05515965 -0.8871227  -0.45822563]\n",
            " [-0.09199762  0.46148767 -0.88236363]\n",
            " [-0.99423028  0.0065152   0.10706868]]\n"
          ],
          "name": "stdout"
        }
      ]
    },
    {
      "cell_type": "code",
      "metadata": {
        "id": "jHAG9uoEvOcA"
      },
      "source": [
        "v1 = q[:,0]\n",
        "v2 = q[:,1]"
      ],
      "execution_count": null,
      "outputs": []
    },
    {
      "cell_type": "code",
      "metadata": {
        "colab": {
          "base_uri": "https://localhost:8080/"
        },
        "id": "ieexzmH0wEH6",
        "outputId": "ab8b81e0-0ece-43d5-f8d0-6da0efd8bd48"
      },
      "source": [
        "np.cross(v1,v2)"
      ],
      "execution_count": null,
      "outputs": [
        {
          "output_type": "execute_result",
          "data": {
            "text/plain": [
              "array([ 0.45822563,  0.88236363, -0.10706868])"
            ]
          },
          "metadata": {
            "tags": []
          },
          "execution_count": 73
        }
      ]
    },
    {
      "cell_type": "code",
      "metadata": {
        "colab": {
          "base_uri": "https://localhost:8080/"
        },
        "id": "Lsycz0SixHoc",
        "outputId": "b4b5f89a-5401-4cbf-c0d9-5474f6a7b70a"
      },
      "source": [
        "n = np.array([4,8,-1])\n",
        "print(n/np.sqrt(n.dot(n)))"
      ],
      "execution_count": null,
      "outputs": [
        {
          "output_type": "stream",
          "text": [
            "[ 0.44444444  0.88888889 -0.11111111]\n"
          ],
          "name": "stdout"
        }
      ]
    },
    {
      "cell_type": "code",
      "metadata": {
        "id": "MoZr5iOo0_Gm"
      },
      "source": [
        "from sklearn.decomposition import PCA"
      ],
      "execution_count": null,
      "outputs": []
    },
    {
      "cell_type": "code",
      "metadata": {
        "id": "yl-qm7KJ1Dc_"
      },
      "source": [
        "model = PCA(n_components=2)"
      ],
      "execution_count": null,
      "outputs": []
    },
    {
      "cell_type": "code",
      "metadata": {
        "colab": {
          "base_uri": "https://localhost:8080/"
        },
        "id": "AP-eItTK1P_G",
        "outputId": "0f24e3ba-db65-4bcd-e157-b3764917ac33"
      },
      "source": [
        "model.fit(data1)"
      ],
      "execution_count": null,
      "outputs": [
        {
          "output_type": "execute_result",
          "data": {
            "text/plain": [
              "PCA(copy=True, iterated_power='auto', n_components=2, random_state=None,\n",
              "    svd_solver='auto', tol=0.0, whiten=False)"
            ]
          },
          "metadata": {
            "tags": []
          },
          "execution_count": 79
        }
      ]
    },
    {
      "cell_type": "code",
      "metadata": {
        "colab": {
          "base_uri": "https://localhost:8080/"
        },
        "id": "X46RCtAV1YZj",
        "outputId": "2e86a188-713c-4007-fa57-4ff8a88d8bdd"
      },
      "source": [
        "model.transform(data1)"
      ],
      "execution_count": null,
      "outputs": [
        {
          "output_type": "execute_result",
          "data": {
            "text/plain": [
              "array([[ 4.50608641,  0.28104664],\n",
              "       [-4.41727125, -0.07027434],\n",
              "       [-1.05665282,  0.14166888],\n",
              "       [-0.69755015, -0.03975164],\n",
              "       [-2.92311881, -0.31765732],\n",
              "       [ 1.8446151 ,  0.24475   ],\n",
              "       [ 0.83192198, -0.55009924],\n",
              "       [ 4.41625442,  0.04057672],\n",
              "       [ 1.70842403, -0.31818833],\n",
              "       [ 1.94223875, -0.29500463],\n",
              "       [ 2.10143111, -0.35552118],\n",
              "       [ 3.90949384, -0.19259132],\n",
              "       [-3.75525375, -0.15660574],\n",
              "       [-0.8701396 , -0.01025964],\n",
              "       [-1.83195789,  0.38160086],\n",
              "       [ 1.47164236, -0.44591852],\n",
              "       [ 1.30526232,  0.02622615],\n",
              "       [ 3.36786161, -0.0894387 ],\n",
              "       [ 1.04126829,  0.44104579],\n",
              "       [ 4.48037273, -0.13032288],\n",
              "       [-2.32682389, -0.00628601],\n",
              "       [ 1.8049009 , -0.40672184],\n",
              "       [-2.50290183, -0.30241706],\n",
              "       [-2.8563367 , -0.2734325 ],\n",
              "       [-0.47221014,  0.54144271],\n",
              "       [ 1.04547898,  0.22491943],\n",
              "       [ 1.68341205, -0.34892812],\n",
              "       [ 1.78677393,  0.03090144],\n",
              "       [-5.87075766, -0.11433928],\n",
              "       [ 0.25024761, -0.06778935],\n",
              "       [-0.02876641, -0.22340379],\n",
              "       [ 0.4191187 , -0.2160175 ],\n",
              "       [ 2.84121885, -0.34799493],\n",
              "       [-0.19174286, -0.39733641],\n",
              "       [-1.56458178, -0.43606986],\n",
              "       [ 2.31538048,  0.39705549],\n",
              "       [-0.63416811,  0.04006832],\n",
              "       [-2.0591888 , -0.03315014],\n",
              "       [-2.86527942,  0.03610186],\n",
              "       [-2.10151717,  0.08175732],\n",
              "       [ 1.94119404,  0.32509315],\n",
              "       [-4.06206341, -0.05215585],\n",
              "       [ 2.97679317,  0.12511544],\n",
              "       [-0.18113945,  0.55773925],\n",
              "       [-4.65568477, -0.10689554],\n",
              "       [ 0.47484816,  0.20105983],\n",
              "       [-1.91605688,  0.48024316],\n",
              "       [ 1.03481939,  0.13597883],\n",
              "       [-2.37205709, -0.16481701],\n",
              "       [-0.69475746,  0.22510874],\n",
              "       [-2.01758756, -0.05268775],\n",
              "       [-2.21181806, -0.03372175],\n",
              "       [ 0.75409601, -0.3923308 ],\n",
              "       [-1.00214601, -0.02066526],\n",
              "       [-3.07357786,  0.47862011],\n",
              "       [ 1.41712073, -0.39571512],\n",
              "       [-1.77815761,  0.32399899],\n",
              "       [-1.08092237,  0.38275045],\n",
              "       [-2.26744219, -0.09220118],\n",
              "       [ 4.02821467,  0.1262669 ],\n",
              "       [-3.9547607 ,  0.01673961],\n",
              "       [-1.87034334,  0.64451016],\n",
              "       [ 3.12532287,  0.19655017],\n",
              "       [ 1.63859101, -0.13191031],\n",
              "       [ 2.99398807,  0.17644568],\n",
              "       [ 1.18356859, -0.11841011],\n",
              "       [-0.66483451, -0.28736578],\n",
              "       [-1.49516664, -0.13929377],\n",
              "       [-3.81236582, -0.26164298],\n",
              "       [-2.0551387 , -0.20272613],\n",
              "       [-4.01061714, -0.15142846],\n",
              "       [ 0.95539898, -0.46167111],\n",
              "       [-0.60158685,  0.0522324 ],\n",
              "       [ 3.65806446,  0.19788812],\n",
              "       [ 1.87508197,  0.50195943],\n",
              "       [ 1.09759255, -0.10404413],\n",
              "       [ 0.01437628,  0.29776627],\n",
              "       [ 1.21483906,  0.42626135],\n",
              "       [ 0.76843567,  0.12196849],\n",
              "       [-3.68506111,  0.0813843 ],\n",
              "       [ 4.15871932,  0.16722384],\n",
              "       [-0.43915364, -0.11987537],\n",
              "       [ 0.6634258 , -0.220386  ],\n",
              "       [-3.56359129,  0.14476979],\n",
              "       [-0.73225864,  0.45061006],\n",
              "       [ 3.83636694, -0.09580033],\n",
              "       [ 3.66408206,  0.05151528],\n",
              "       [ 3.25675452,  0.13608695],\n",
              "       [ 5.94881322,  0.27228452],\n",
              "       [ 0.02980475, -0.19438341],\n",
              "       [-4.51972999, -0.01057952],\n",
              "       [-1.88154178,  0.25903339],\n",
              "       [-3.72285832, -0.03507559],\n",
              "       [ 3.3924365 ,  0.07383153],\n",
              "       [ 5.25560587, -0.27102107],\n",
              "       [-1.13591872,  0.16959148],\n",
              "       [-0.93393829,  0.56272794],\n",
              "       [ 2.70073475, -0.50883418],\n",
              "       [ 1.89833624, -0.40601469],\n",
              "       [-5.61233485, -0.09534369]])"
            ]
          },
          "metadata": {
            "tags": []
          },
          "execution_count": 84
        }
      ]
    },
    {
      "cell_type": "code",
      "metadata": {
        "colab": {
          "base_uri": "https://localhost:8080/"
        },
        "id": "xDXnyiaX2xzp",
        "outputId": "bd5c1797-6c3e-4142-cb29-960a5a44390f"
      },
      "source": [
        "model.explained_variance_"
      ],
      "execution_count": null,
      "outputs": [
        {
          "output_type": "execute_result",
          "data": {
            "text/plain": [
              "array([7.1089874 , 0.07716314])"
            ]
          },
          "metadata": {
            "tags": []
          },
          "execution_count": 86
        }
      ]
    },
    {
      "cell_type": "code",
      "metadata": {
        "colab": {
          "base_uri": "https://localhost:8080/"
        },
        "id": "FyMTwRp821fW",
        "outputId": "1568f230-0b9b-41c9-8d57-17d11acf7efb"
      },
      "source": [
        ""
      ],
      "execution_count": null,
      "outputs": [
        {
          "output_type": "execute_result",
          "data": {
            "text/plain": [
              "array([[8.32131117e-02, 6.13498062e-03, 3.89220530e-01],\n",
              "       [6.13498062e-03, 7.97787287e-02, 6.50082895e-01],\n",
              "       [3.89220530e-01, 6.50082895e-01, 7.02724039e+00]])"
            ]
          },
          "metadata": {
            "tags": []
          },
          "execution_count": 91
        }
      ]
    }
  ]
}